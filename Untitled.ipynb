{
 "cells": [
  {
   "cell_type": "code",
   "execution_count": 53,
   "metadata": {
    "collapsed": true
   },
   "outputs": [],
   "source": [
    "from collections import OrderedDict\n",
    "class LRUCache:\n",
    "\n",
    "    def __init__(self, capacity):\n",
    "        \"\"\"\n",
    "        :type capacity: int\n",
    "        \"\"\"\n",
    "        self.capacity = capacity\n",
    "        self.values = OrderedDict()\n",
    "\n",
    "    def get(self, key):\n",
    "        \"\"\"\n",
    "        :type key: int\n",
    "        :rtype: int\n",
    "        \"\"\"\n",
    "        if key not in self.values:\n",
    "            return -1\n",
    "        val = self.values[key]\n",
    "        del self.values[key]\n",
    "        self.values[key] = val\n",
    "        return val\n",
    "\n",
    "    def put(self, key, value):\n",
    "        \"\"\"\n",
    "        :type key: int\n",
    "        :type value: int\n",
    "        :rtype: void\n",
    "        \"\"\"\n",
    "        if key in self.values:\n",
    "            del self.values[key]\n",
    "        elif len(self.values) == self.capacity:\n",
    "            self.values.popitem(last=False)\n",
    "        self.values[key] = value"
   ]
  },
  {
   "cell_type": "code",
   "execution_count": 54,
   "metadata": {
    "collapsed": true
   },
   "outputs": [],
   "source": [
    "obj = LRUCache(2)\n",
    "obj.put(1,1)\n",
    "obj.put(2,2)"
   ]
  },
  {
   "cell_type": "code",
   "execution_count": null,
   "metadata": {
    "collapsed": true
   },
   "outputs": [],
   "source": [
    "[\"put\",\"put\",\"get\",\"put\",\"get\",\"put\",\"get\",\"get\",\"get\"]\n",
    "[[2],[1,1],[2,2],[1],[3,3],[2],[4,4],[1],[3],[4]]"
   ]
  },
  {
   "cell_type": "code",
   "execution_count": 55,
   "metadata": {},
   "outputs": [
    {
     "data": {
      "text/plain": [
       "-1"
      ]
     },
     "execution_count": 55,
     "metadata": {},
     "output_type": "execute_result"
    }
   ],
   "source": [
    "obj = LRUCache(2)\n",
    "obj.put(1,1)\n",
    "obj.put(2,2)\n",
    "obj.get(1)\n",
    "obj.put(3,3)\n",
    "obj.get(2)"
   ]
  },
  {
   "cell_type": "code",
   "execution_count": 48,
   "metadata": {},
   "outputs": [
    {
     "data": {
      "text/plain": [
       "OrderedDict([(1, 1), (3, 3)])"
      ]
     },
     "execution_count": 48,
     "metadata": {},
     "output_type": "execute_result"
    }
   ],
   "source": [
    "obj.values"
   ]
  },
  {
   "cell_type": "code",
   "execution_count": 49,
   "metadata": {},
   "outputs": [
    {
     "data": {
      "text/plain": [
       "3"
      ]
     },
     "execution_count": 49,
     "metadata": {},
     "output_type": "execute_result"
    }
   ],
   "source": [
    "obj.put(4,4)\n",
    "obj.get(1)\n",
    "obj.get(3)"
   ]
  },
  {
   "cell_type": "code",
   "execution_count": 50,
   "metadata": {
    "scrolled": true
   },
   "outputs": [
    {
     "data": {
      "text/plain": [
       "3"
      ]
     },
     "execution_count": 50,
     "metadata": {},
     "output_type": "execute_result"
    }
   ],
   "source": [
    "obj.get(3)"
   ]
  },
  {
   "cell_type": "code",
   "execution_count": 94,
   "metadata": {},
   "outputs": [
    {
     "data": {
      "text/plain": [
       "6"
      ]
     },
     "execution_count": 94,
     "metadata": {},
     "output_type": "execute_result"
    }
   ],
   "source": [
    "def getMedian(array):\n",
    "    if len(array) < 2:\n",
    "        return array[0]\n",
    "    mid = len(array)//2\n",
    "    if len(array)%2 == 0:\n",
    "        median = (array[mid] + array[mid-1]) / 2\n",
    "    else:\n",
    "        median = array[mid]\n",
    "    return median\n",
    "\n",
    "\n",
    "def findMedianSortedArrays(nums1, nums2):\n",
    "    if len(nums2) > len(nums1):\n",
    "        return findMedianSortedArrays(nums2, nums1)\n",
    "    \n",
    "    lo = 0; hi = len(nums1)\n",
    "    \n",
    "    while lo <= hi:\n",
    "        xpartition = (lo + hi)//2\n",
    "        ypartition = (len(nums1)+len(nums2)+1)//2 - xpartition\n",
    "        \n",
    "        if xpartition == 0:\n",
    "            xLeftMax = float('-inf')\n",
    "        elif xpartition == len(nums1):\n",
    "            xLeftMax = float('inf')\n",
    "        else:\n",
    "            xLeftMax = nums1[xpartition-1]\n",
    "        xRightMin = nums1[xpartition]\n",
    "        \n",
    "        if ypartition == 0:\n",
    "            yLeftMax = float('-inf')\n",
    "        elif ypartition == len(nums2):\n",
    "            yLeftMax = float('inf')\n",
    "        yLeftMax = nums2[ypartition-1]\n",
    "        yRightMin = nums2[ypartition]\n",
    "        \n",
    "        if xLeftMax <= yRightMin and yLeftMax <= xRightMin:\n",
    "            if len(nums1) + len(nums2) % 2 == 0:\n",
    "                return max(xLeftMax, yLeftMax) + min(xRightMin, yRightMin) / 2\n",
    "            else:\n",
    "                return max(xLeftMax, yLeftMax)\n",
    "        elif xLeftMax > yRightMin:\n",
    "            hi = xpartition-1\n",
    "        else:\n",
    "            lo = hi + 1\n",
    "findMedianSortedArrays([1,2,7,121],[5,6,7,23])"
   ]
  },
  {
   "cell_type": "code",
   "execution_count": 114,
   "metadata": {},
   "outputs": [
    {
     "data": {
      "text/plain": [
       "0"
      ]
     },
     "execution_count": 114,
     "metadata": {},
     "output_type": "execute_result"
    }
   ],
   "source": [
    "len([])"
   ]
  },
  {
   "cell_type": "code",
   "execution_count": 111,
   "metadata": {
    "collapsed": true
   },
   "outputs": [],
   "source": [
    "def spiralMatrix(arr):\n",
    "    x = 0; y = 0\n",
    "    row = len(arr); col = len(arr[0])\n",
    "    \n",
    "    while x < row and y < col:\n",
    "        for i in range(y, col):\n",
    "            print(arr[x][i])\n",
    "        x += 1\n",
    "        \n",
    "        for j in range(x, row):\n",
    "            print(arr[j][col-1])\n",
    "        col -= 1\n",
    "        \n",
    "        for i in range(col-1, y, -1):\n",
    "            print(arr[row-1][i])\n",
    "        row -= 1\n",
    "        \n",
    "        for j in range(row, y, -1):\n",
    "            print(arr[j][y])\n",
    "        y += 1"
   ]
  },
  {
   "cell_type": "code",
   "execution_count": 113,
   "metadata": {
    "scrolled": true
   },
   "outputs": [
    {
     "name": "stdout",
     "output_type": "stream",
     "text": [
      "1\n",
      "2\n",
      "3\n",
      "4\n",
      "8\n",
      "12\n",
      "16\n",
      "15\n",
      "14\n",
      "13\n",
      "9\n",
      "5\n",
      "6\n",
      "7\n",
      "11\n",
      "10\n"
     ]
    }
   ],
   "source": [
    "array = [[1,2,3,4],[5,6,7,8],[9,10,11,12],[13,14,15,16]]\n",
    "spiralMatrix(array)"
   ]
  },
  {
   "cell_type": "code",
   "execution_count": 117,
   "metadata": {},
   "outputs": [
    {
     "name": "stdout",
     "output_type": "stream",
     "text": [
      "[1]\n",
      "[1, 2]\n",
      "[1, 2, 3]\n",
      "[1, 2, 3, 4]\n",
      "[1, 2, 3, 4, 5]\n",
      "[2]\n",
      "[2, 3]\n",
      "[2, 3, 4]\n",
      "[2, 3, 4, 5]\n",
      "[3]\n",
      "[3, 4]\n",
      "[3, 4, 5]\n",
      "[4]\n",
      "[4, 5]\n"
     ]
    }
   ],
   "source": [
    "string = [1,2,3,4,5]\n",
    "for i in range(len(string)-1):\n",
    "    for j in range(i, len(string)):\n",
    "        print(string[i:j+1])"
   ]
  },
  {
   "cell_type": "code",
   "execution_count": 227,
   "metadata": {
    "collapsed": true
   },
   "outputs": [],
   "source": [
    "def longestKDistinct(string, k):\n",
    "    start = 0; end = 0\n",
    "    if not string:\n",
    "        return 0\n",
    "    charDict = {string[0]:1}\n",
    "    ans = 1\n",
    "    if k == 0:\n",
    "        return 0\n",
    "    if len(string) == 1:\n",
    "        return 1\n",
    "    while end < len(string)-1:\n",
    "        print(charDict)\n",
    "        if len(charDict) <= k:\n",
    "            end += 1\n",
    "            cur = string[end]\n",
    "            if cur not in charDict:\n",
    "                charDict[cur] = 0\n",
    "            charDict[cur] += 1\n",
    "            if len(charDict) <= k:\n",
    "                ans = max(end - start + 1,ans)\n",
    "        else:\n",
    "            cur = string[start]\n",
    "            if cur in charDict:\n",
    "                charDict[cur] -= 1\n",
    "                if charDict[cur] == 0:\n",
    "                    del charDict[cur]\n",
    "            start += 1\n",
    "    return ans"
   ]
  },
  {
   "cell_type": "code",
   "execution_count": 228,
   "metadata": {},
   "outputs": [
    {
     "name": "stdout",
     "output_type": "stream",
     "text": [
      "{'a': 1}\n"
     ]
    },
    {
     "data": {
      "text/plain": [
       "1"
      ]
     },
     "execution_count": 228,
     "metadata": {},
     "output_type": "execute_result"
    }
   ],
   "source": [
    "longestKDistinct('ab', 1)"
   ]
  },
  {
   "cell_type": "code",
   "execution_count": 296,
   "metadata": {
    "collapsed": true
   },
   "outputs": [],
   "source": [
    "def quicksort(array, beg, end):\n",
    "    if beg >= end:\n",
    "        return\n",
    "    pivot = array[beg]\n",
    "    index = partition(array, beg, end, pivot)\n",
    "    quicksort(array, beg, index-1)\n",
    "    quicksort(array, index, end)\n",
    "    \n",
    "def partition(array, beg, end, pivot):\n",
    "    while beg <= end:\n",
    "        while array[beg] < pivot:\n",
    "            beg += 1\n",
    "        while array[end] > pivot:\n",
    "            end -= 1\n",
    "        if beg <= end:\n",
    "            array[beg], array[end] = array[end], array[beg]\n",
    "            beg += 1\n",
    "            end -= 1\n",
    "    print(array)\n",
    "    return beg"
   ]
  },
  {
   "cell_type": "code",
   "execution_count": 298,
   "metadata": {},
   "outputs": [
    {
     "name": "stdout",
     "output_type": "stream",
     "text": [
      "[1, 4, 2, 5, 9]\n",
      "[1, 4, 2, 5, 9]\n",
      "[1, 2, 4, 5, 9]\n",
      "[1, 2, 4, 5, 9]\n"
     ]
    },
    {
     "data": {
      "text/plain": [
       "[1, 2, 4, 5, 9]"
      ]
     },
     "execution_count": 298,
     "metadata": {},
     "output_type": "execute_result"
    }
   ],
   "source": [
    "array = [5,4,2,1,9]\n",
    "quicksort(array, 0, len(array)-1)\n",
    "array"
   ]
  },
  {
   "cell_type": "code",
   "execution_count": 322,
   "metadata": {
    "collapsed": true
   },
   "outputs": [],
   "source": [
    "from collections import Counter\n",
    "def mostFrequent(array):\n",
    "    z = Counter(array)\n",
    "    curMax = 0\n",
    "    ans = ''\n",
    "    for val in z:\n",
    "        if z[val] > curMax:\n",
    "            curMax = z[val]\n",
    "            ans = val\n",
    "    return ans"
   ]
  },
  {
   "cell_type": "code",
   "execution_count": 323,
   "metadata": {},
   "outputs": [
    {
     "data": {
      "text/plain": [
       "1"
      ]
     },
     "execution_count": 323,
     "metadata": {},
     "output_type": "execute_result"
    }
   ],
   "source": [
    "mostFrequent([1,2,3,4,1])"
   ]
  },
  {
   "cell_type": "code",
   "execution_count": 330,
   "metadata": {
    "collapsed": true
   },
   "outputs": [],
   "source": [
    "def findPairs(array, target):\n",
    "    myset = set()\n",
    "    ans = []\n",
    "    for val in array:\n",
    "        if val not in myset:\n",
    "            myset.add(target-val)\n",
    "        else:\n",
    "            ans.append((target, target-val))\n",
    "    return ans"
   ]
  },
  {
   "cell_type": "code",
   "execution_count": 332,
   "metadata": {},
   "outputs": [
    {
     "data": {
      "text/plain": [
       "[(9, 4)]"
      ]
     },
     "execution_count": 332,
     "metadata": {},
     "output_type": "execute_result"
    }
   ],
   "source": [
    "findPairs([1,2,3,4,5], 9)"
   ]
  },
  {
   "cell_type": "code",
   "execution_count": 361,
   "metadata": {
    "collapsed": true
   },
   "outputs": [],
   "source": [
    "def isRotation(array1, array2):\n",
    "    array1 = array1+array1\n",
    "    j = 0\n",
    "    for i in range(len(array1)):\n",
    "        if array1[i] == array2[j]:\n",
    "            j += 1\n",
    "            if j == len(array2) - 1:\n",
    "                return True\n",
    "        else:\n",
    "            j = 0\n",
    "    return False"
   ]
  },
  {
   "cell_type": "code",
   "execution_count": 366,
   "metadata": {},
   "outputs": [
    {
     "data": {
      "text/plain": [
       "True"
      ]
     },
     "execution_count": 366,
     "metadata": {},
     "output_type": "execute_result"
    }
   ],
   "source": [
    "isRotation([1,2,3,4,5], [3,4,5,1,2])"
   ]
  },
  {
   "cell_type": "code",
   "execution_count": 373,
   "metadata": {
    "collapsed": true
   },
   "outputs": [],
   "source": [
    "def fibonacci(n):\n",
    "    fibo = [0,1]\n",
    "    if n < 2:\n",
    "        return fibo[n]\n",
    "    for i in range(2, n+1):\n",
    "        temp = fibo[0]\n",
    "        fibo[0] = fibo[1]\n",
    "        fibo[1] += temp\n",
    "    return fibo[-1]"
   ]
  },
  {
   "cell_type": "code",
   "execution_count": 376,
   "metadata": {},
   "outputs": [
    {
     "data": {
      "text/plain": [
       "[0, 1, 1, 2, 3, 5, 8, 13, 21, 34]"
      ]
     },
     "execution_count": 376,
     "metadata": {},
     "output_type": "execute_result"
    }
   ],
   "source": [
    "[fibonacci(x) for x in range(10)]"
   ]
  },
  {
   "cell_type": "code",
   "execution_count": 381,
   "metadata": {
    "collapsed": true
   },
   "outputs": [],
   "source": [
    "def toBinary(x):\n",
    "    ans = []\n",
    "    while x != 0:\n",
    "        ans.append(x%2)\n",
    "        x = x // 2\n",
    "    return ans[::-1]"
   ]
  },
  {
   "cell_type": "code",
   "execution_count": 385,
   "metadata": {},
   "outputs": [
    {
     "data": {
      "text/plain": [
       "[1, 1, 1, 0]"
      ]
     },
     "execution_count": 385,
     "metadata": {},
     "output_type": "execute_result"
    }
   ],
   "source": [
    "toBinary(14)"
   ]
  },
  {
   "cell_type": "code",
   "execution_count": 387,
   "metadata": {
    "collapsed": true
   },
   "outputs": [],
   "source": [
    "from collections import Counter\n",
    "def findOnlyOnce(array):\n",
    "    count = Counter(array)\n",
    "    for val in array:\n",
    "        if count[val] == 1:\n",
    "            return val\n",
    "    return -1"
   ]
  },
  {
   "cell_type": "code",
   "execution_count": 391,
   "metadata": {},
   "outputs": [
    {
     "data": {
      "text/plain": [
       "3"
      ]
     },
     "execution_count": 391,
     "metadata": {},
     "output_type": "execute_result"
    }
   ],
   "source": [
    "findOnlyOnce([1,2,3,4,1,2,1])"
   ]
  },
  {
   "cell_type": "code",
   "execution_count": 396,
   "metadata": {
    "collapsed": true
   },
   "outputs": [],
   "source": [
    "def findCommon(array1, array2):\n",
    "    counts = Counter(array1)\n",
    "    ans = []\n",
    "    for val in array2:\n",
    "        if val in counts:\n",
    "            counts[val] -= 1\n",
    "            if counts[val] == 0:\n",
    "                del counts[val]\n",
    "            ans.append(val)\n",
    "    return ans"
   ]
  },
  {
   "cell_type": "code",
   "execution_count": 398,
   "metadata": {},
   "outputs": [
    {
     "data": {
      "text/plain": [
       "[4, 3, 1]"
      ]
     },
     "execution_count": 398,
     "metadata": {},
     "output_type": "execute_result"
    }
   ],
   "source": [
    "findCommon([1,2,3,4], [4,3,3,1])"
   ]
  },
  {
   "cell_type": "code",
   "execution_count": 446,
   "metadata": {
    "collapsed": true
   },
   "outputs": [],
   "source": [
    "def binarySearch(array, val):\n",
    "    lo = 0; hi = len(array) - 1\n",
    "    while lo <= hi:\n",
    "        mid = (lo + hi) // 2\n",
    "        if array[mid] == val:\n",
    "            return mid\n",
    "        if val < array[mid]:\n",
    "            hi = mid - 1\n",
    "        if val > array[mid]:\n",
    "            lo = mid + 1\n",
    "    return -1"
   ]
  },
  {
   "cell_type": "code",
   "execution_count": 449,
   "metadata": {},
   "outputs": [
    {
     "data": {
      "text/plain": [
       "[0, 1, 2, 3, 4, 5]"
      ]
     },
     "execution_count": 449,
     "metadata": {},
     "output_type": "execute_result"
    }
   ],
   "source": [
    "array = [0,1,2,3,4,5]\n",
    "[binarySearch(array, x) for x in array]"
   ]
  },
  {
   "cell_type": "code",
   "execution_count": 466,
   "metadata": {
    "collapsed": true
   },
   "outputs": [],
   "source": [
    "def primeNumbers(n):\n",
    "    ans = [2]\n",
    "    cur = 3\n",
    "    while len(ans) < n:\n",
    "        if checkPrime(ans, cur):\n",
    "            ans.append(cur)\n",
    "        cur += 2\n",
    "    return ans\n",
    "\n",
    "def checkPrime(primes, val):\n",
    "    for prime in primes:\n",
    "        if val % prime == 0:\n",
    "            return False\n",
    "    return True"
   ]
  },
  {
   "cell_type": "code",
   "execution_count": 467,
   "metadata": {},
   "outputs": [
    {
     "data": {
      "text/plain": [
       "[2, 3, 5, 7, 11, 13, 17, 19, 23, 29]"
      ]
     },
     "execution_count": 467,
     "metadata": {},
     "output_type": "execute_result"
    }
   ],
   "source": [
    "primeNumbers(10)"
   ]
  },
  {
   "cell_type": "code",
   "execution_count": 510,
   "metadata": {
    "collapsed": true
   },
   "outputs": [],
   "source": [
    "def sqrt(n):\n",
    "    start = 1\n",
    "    end = n\n",
    "    ans = 1\n",
    "    while start < end:\n",
    "        mid = (start + end)//2\n",
    "        square = mid * mid\n",
    "        if square == n:\n",
    "            return mid\n",
    "        if square < n:\n",
    "            start = mid + 1\n",
    "            ans = mid\n",
    "        else:\n",
    "            end = mid - 1\n",
    "    return ans"
   ]
  },
  {
   "cell_type": "code",
   "execution_count": 513,
   "metadata": {},
   "outputs": [
    {
     "data": {
      "text/plain": [
       "[1, 1, 1, 1, 2, 1, 1, 2, 2, 3, 3, 3, 3, 3, 3, 2, 4, 4, 4, 3, 3, 3, 3, 4, 4]"
      ]
     },
     "execution_count": 513,
     "metadata": {},
     "output_type": "execute_result"
    }
   ],
   "source": [
    "[sqrt(x) for x in range(25)]"
   ]
  },
  {
   "cell_type": "code",
   "execution_count": 523,
   "metadata": {
    "collapsed": true
   },
   "outputs": [],
   "source": [
    "def exponent(number, exp):\n",
    "    ans = 1\n",
    "    for i in range(1, exp+1):\n",
    "        ans *= number\n",
    "    return ans"
   ]
  },
  {
   "cell_type": "code",
   "execution_count": 524,
   "metadata": {},
   "outputs": [
    {
     "data": {
      "text/plain": [
       "1024"
      ]
     },
     "execution_count": 524,
     "metadata": {},
     "output_type": "execute_result"
    }
   ],
   "source": [
    "exponent(2,10)"
   ]
  },
  {
   "cell_type": "code",
   "execution_count": 551,
   "metadata": {},
   "outputs": [
    {
     "data": {
      "text/plain": [
       "2"
      ]
     },
     "execution_count": 551,
     "metadata": {},
     "output_type": "execute_result"
    }
   ],
   "source": [
    "import random\n",
    "random.randint(1,5)"
   ]
  },
  {
   "cell_type": "code",
   "execution_count": 625,
   "metadata": {
    "collapsed": true
   },
   "outputs": [],
   "source": [
    "import random\n",
    "def rand7():\n",
    "    randomval = 0\n",
    "    for _ in range(7):\n",
    "        randomval += random.randint(1,5)\n",
    "    return randomval % 7"
   ]
  },
  {
   "cell_type": "code",
   "execution_count": 670,
   "metadata": {},
   "outputs": [
    {
     "data": {
      "text/plain": [
       "Counter({0: 135, 1: 163, 2: 136, 3: 134, 4: 137, 5: 137, 6: 158})"
      ]
     },
     "execution_count": 670,
     "metadata": {},
     "output_type": "execute_result"
    }
   ],
   "source": [
    "Counter([rand7() for _ in range(1000)])"
   ]
  },
  {
   "cell_type": "code",
   "execution_count": 674,
   "metadata": {
    "collapsed": true
   },
   "outputs": [],
   "source": [
    "def nIslands(array):\n",
    "    myset = set()\n",
    "    nislands = 0\n",
    "    for i in range(len(array)):\n",
    "        for j in range(len(array[0])):\n",
    "            if (i,j) not in myset:\n",
    "                myset.add((i,j))\n",
    "                if array[i][j] == 1:\n",
    "                    markneighbors(array, i, j)\n",
    "                    nislands += 1\n",
    "    return nislands\n",
    "\n",
    "def markneighbors(array, i, j):\n",
    "    if array[i][j] == 1:\n",
    "        array[i][j] = '#'\n",
    "        if 0 < i + 1 < len(array):\n",
    "            markneighbors(array, i + 1, j)\n",
    "        if 0 < i - 1 < len(array):\n",
    "            markneighbors(array, i - 1, j)\n",
    "        if 0 < j + 1 < len(array[0]):\n",
    "            markneighbors(array, i, j + 1)\n",
    "        if 0 < j - 1 < len(array[0]):\n",
    "            markneighbors(array, i, j - 1)\n",
    "    return array"
   ]
  },
  {
   "cell_type": "code",
   "execution_count": 676,
   "metadata": {},
   "outputs": [
    {
     "data": {
      "text/plain": [
       "3"
      ]
     },
     "execution_count": 676,
     "metadata": {},
     "output_type": "execute_result"
    }
   ],
   "source": [
    "array = [[1,0,0,0], [1,1,0,1], [0,0,0,0], [1,1,1,1]]\n",
    "nIslands(array)"
   ]
  },
  {
   "cell_type": "code",
   "execution_count": 678,
   "metadata": {
    "collapsed": true
   },
   "outputs": [],
   "source": [
    "from collections import Counter\n",
    "def firstNonRepeater(string):\n",
    "    count = Counter(string)\n",
    "    for char in string:\n",
    "        if count[char] == 1:\n",
    "            return char\n",
    "    return -1"
   ]
  },
  {
   "cell_type": "code",
   "execution_count": 689,
   "metadata": {},
   "outputs": [
    {
     "data": {
      "text/plain": [
       "'h'"
      ]
     },
     "execution_count": 689,
     "metadata": {},
     "output_type": "execute_result"
    }
   ],
   "source": [
    "firstNonRepeater('chicken')"
   ]
  },
  {
   "cell_type": "code",
   "execution_count": 690,
   "metadata": {
    "collapsed": true
   },
   "outputs": [],
   "source": [
    "def reverseIterative(string):\n",
    "    string = list(string)\n",
    "    for i in range(len(string)//2):\n",
    "        string[i], string[len(string)-1 - i] = string[len(string)-1 - i], string[i]\n",
    "    return ''.join(x for x in string)"
   ]
  },
  {
   "cell_type": "code",
   "execution_count": 692,
   "metadata": {},
   "outputs": [
    {
     "data": {
      "text/plain": [
       "'nekcihc'"
      ]
     },
     "execution_count": 692,
     "metadata": {},
     "output_type": "execute_result"
    }
   ],
   "source": [
    "reverseIterative('chicken')"
   ]
  },
  {
   "cell_type": "code",
   "execution_count": 705,
   "metadata": {
    "collapsed": true
   },
   "outputs": [],
   "source": [
    "def reverseRecursive(string):\n",
    "    if len(string) == 1 or len(string) == 0:\n",
    "        return string\n",
    "    return string[-1] + reverseRecursive(string[1:-1]) + string[0]"
   ]
  },
  {
   "cell_type": "code",
   "execution_count": 708,
   "metadata": {},
   "outputs": [
    {
     "data": {
      "text/plain": [
       "'tset'"
      ]
     },
     "execution_count": 708,
     "metadata": {},
     "output_type": "execute_result"
    }
   ],
   "source": [
    "reverseRecursive('test')"
   ]
  },
  {
   "cell_type": "code",
   "execution_count": 711,
   "metadata": {
    "collapsed": true
   },
   "outputs": [],
   "source": [
    "def manualCounter(array):\n",
    "    myDict = {}\n",
    "    for val in array:\n",
    "        if val not in myDict:\n",
    "            myDict[val] = 0\n",
    "        myDict[val] += 1\n",
    "    return myDict\n",
    "\n",
    "def isAnagram(string1, string2):\n",
    "    return manualCounter(string1) == manualCounter(string2)"
   ]
  },
  {
   "cell_type": "code",
   "execution_count": 714,
   "metadata": {},
   "outputs": [
    {
     "data": {
      "text/plain": [
       "False"
      ]
     },
     "execution_count": 714,
     "metadata": {},
     "output_type": "execute_result"
    }
   ],
   "source": [
    "isAnagram('test', 'este')"
   ]
  },
  {
   "cell_type": "code",
   "execution_count": 715,
   "metadata": {
    "collapsed": true
   },
   "outputs": [],
   "source": [
    "def isPalindrome(array):\n",
    "    for i in range(len(array)//2):\n",
    "        if array[i] != array[len(array)-1-i]:\n",
    "            return False\n",
    "    return True"
   ]
  },
  {
   "cell_type": "code",
   "execution_count": 725,
   "metadata": {},
   "outputs": [
    {
     "data": {
      "text/plain": [
       "[True, False]"
      ]
     },
     "execution_count": 725,
     "metadata": {},
     "output_type": "execute_result"
    }
   ],
   "source": [
    "[isPalindrome('racecar'), isPalindrome('racecars')]"
   ]
  },
  {
   "cell_type": "code",
   "execution_count": 726,
   "metadata": {
    "collapsed": true
   },
   "outputs": [],
   "source": [
    "def allunique(string):\n",
    "    return len(set(string)) == len(string)"
   ]
  },
  {
   "cell_type": "code",
   "execution_count": 727,
   "metadata": {},
   "outputs": [
    {
     "data": {
      "text/plain": [
       "[True, False]"
      ]
     },
     "execution_count": 727,
     "metadata": {},
     "output_type": "execute_result"
    }
   ],
   "source": [
    "[allunique('chiken'), allunique('chicken')]"
   ]
  },
  {
   "cell_type": "code",
   "execution_count": 730,
   "metadata": {},
   "outputs": [
    {
     "data": {
      "text/plain": [
       "2"
      ]
     },
     "execution_count": 730,
     "metadata": {},
     "output_type": "execute_result"
    }
   ],
   "source": [
    "'abc'.index('c')"
   ]
  },
  {
   "cell_type": "code",
   "execution_count": 747,
   "metadata": {
    "collapsed": true
   },
   "outputs": [],
   "source": [
    "def strordbl(string):\n",
    "    if '.' in string:\n",
    "        decimal = string[string.index('.')+1:]\n",
    "        if len(decimal.replace('0','')) > 0:\n",
    "            return 'float'\n",
    "    return 'int'"
   ]
  },
  {
   "cell_type": "code",
   "execution_count": 753,
   "metadata": {},
   "outputs": [
    {
     "data": {
      "text/plain": [
       "['float', 'int']"
      ]
     },
     "execution_count": 753,
     "metadata": {},
     "output_type": "execute_result"
    }
   ],
   "source": [
    "[strordbl('4.0000003'), strordbl('4.0000')]"
   ]
  },
  {
   "cell_type": "code",
   "execution_count": 763,
   "metadata": {
    "collapsed": true
   },
   "outputs": [],
   "source": [
    "def shortestPalindrome(string):\n",
    "    index = 0\n",
    "    for i in range(len(string)):\n",
    "        if string[i:] == string[i:][::-1]:\n",
    "            index = i\n",
    "            break\n",
    "    return string[:index] + string[index:] + string[:index][::-1]"
   ]
  },
  {
   "cell_type": "code",
   "execution_count": 768,
   "metadata": {},
   "outputs": [
    {
     "data": {
      "text/plain": [
       "'pandadnap'"
      ]
     },
     "execution_count": 768,
     "metadata": {},
     "output_type": "execute_result"
    }
   ],
   "source": [
    "shortestPalindrome('panda')"
   ]
  },
  {
   "cell_type": "code",
   "execution_count": 794,
   "metadata": {
    "collapsed": true
   },
   "outputs": [],
   "source": [
    "def allPermutations(string):\n",
    "    return _perms(string, '')\n",
    "\n",
    "def _perms(string, chosen):\n",
    "    if len(string) == 0:\n",
    "        print(chosen)\n",
    "        return\n",
    "    for i, val in enumerate(string):\n",
    "        chosen += val\n",
    "        string = string[:i] + string[i+1:]\n",
    "        _perms(string, chosen)\n",
    "        string = string[:i] + val + string[i:]\n",
    "        chosen = chosen[:-1]"
   ]
  },
  {
   "cell_type": "code",
   "execution_count": 834,
   "metadata": {
    "collapsed": true
   },
   "outputs": [],
   "source": [
    "def allPermNoReps(string):\n",
    "    return _noRepsPerms(string, '')\n",
    "\n",
    "def _noRepsPerms(string, chosen):\n",
    "    if len(string) == 0:\n",
    "        print(chosen)\n",
    "        return\n",
    "    for i, val in enumerate(string):\n",
    "        if i + 1 < len(string):\n",
    "            if val == string[i+1]:\n",
    "                continue\n",
    "        string = string[:i] + string[i+1:]\n",
    "        chosen += val\n",
    "        _noRepsPerms(string, chosen)\n",
    "        string = string[:i] + val + string[i:]\n",
    "        chosen = chosen[:-1]"
   ]
  },
  {
   "cell_type": "code",
   "execution_count": 835,
   "metadata": {},
   "outputs": [
    {
     "name": "stdout",
     "output_type": "stream",
     "text": [
      "aab\n",
      "aba\n",
      "baa\n"
     ]
    }
   ],
   "source": [
    "allPermNoReps('aab')"
   ]
  },
  {
   "cell_type": "code",
   "execution_count": 837,
   "metadata": {},
   "outputs": [
    {
     "data": {
      "text/plain": [
       "'t   e   s   t'"
      ]
     },
     "execution_count": 837,
     "metadata": {},
     "output_type": "execute_result"
    }
   ],
   "source": [
    "test = ' '*3\n",
    "test.join(x for x in 'test')"
   ]
  },
  {
   "cell_type": "code",
   "execution_count": 910,
   "metadata": {
    "collapsed": true
   },
   "outputs": [],
   "source": [
    "def stringJustify(string, limit):\n",
    "    alllines = []\n",
    "    currentline = ''\n",
    "    for word in string.split():\n",
    "        if len(word) + 1 + len(currentline) > limit:\n",
    "            alllines.append(lineJustifiy(currentline, limit))\n",
    "            currentline = word\n",
    "        else:\n",
    "            currentline += ' ' + word\n",
    "    alllines.append(lineJustifiy(currentline, limit))\n",
    "    return alllines\n",
    "\n",
    "def lineJustifiy(line, limit):\n",
    "    allwords = line.split()\n",
    "    final = ''\n",
    "    remainingSpace = limit - len(allwords[0]) - len(allwords[-1])\n",
    "    numSpaces = ' ' * (remainingSpace//(len(allwords)))\n",
    "    extraSpaces = remainingSpace % len(allwords)\n",
    "    allSpaces = [numSpaces] * len(allwords)\n",
    "    for i in range(extraSpaces):\n",
    "        allSpaces[i] += ' '\n",
    "    for key, val in enumerate(allwords[:-1]):\n",
    "        final += val + allSpaces[key]\n",
    "    final += allwords[-1]\n",
    "    return final"
   ]
  },
  {
   "cell_type": "code",
   "execution_count": 918,
   "metadata": {},
   "outputs": [
    {
     "data": {
      "text/plain": [
       "[9, 11, 9, 5]"
      ]
     },
     "execution_count": 918,
     "metadata": {},
     "output_type": "execute_result"
    }
   ],
   "source": [
    "[len(x) for x in stringJustify('this is the chicken and the tikka', 11)]"
   ]
  },
  {
   "cell_type": "code",
   "execution_count": 919,
   "metadata": {},
   "outputs": [
    {
     "data": {
      "text/plain": [
       "['this   is', 'the chicken', 'and   the', 'tikka']"
      ]
     },
     "execution_count": 919,
     "metadata": {},
     "output_type": "execute_result"
    }
   ],
   "source": [
    "stringJustify('this is the chicken and the tikka', 11)"
   ]
  },
  {
   "cell_type": "code",
   "execution_count": 1223,
   "metadata": {},
   "outputs": [],
   "source": [
    "class Node():\n",
    "    def __init__(self, val):\n",
    "        self.val = val\n",
    "        self.left = None\n",
    "        self.right = None\n",
    "class bst():\n",
    "    def __init__(self):\n",
    "        self.root = None\n",
    "    \n",
    "    def insert(self, val):\n",
    "        if self.root is None:\n",
    "            self.root = Node(val)\n",
    "        else:\n",
    "            self._insert(self.root, val)\n",
    "            \n",
    "    def _insert(self, node, val):\n",
    "        if val < node.val:\n",
    "            if node.left is None:\n",
    "                node.left = Node(val)\n",
    "            else:\n",
    "                self._insert(node.left, val)\n",
    "        else:\n",
    "            if node.right is None:\n",
    "                node.right = Node(val)\n",
    "            else:\n",
    "                self._insert(node.right, val)\n",
    "                \n",
    "    def inorder(self):\n",
    "        self._inorder(self.root)\n",
    "    \n",
    "    def _inorder(self, node):\n",
    "        if node is not None:\n",
    "            self._inorder(node.left)\n",
    "            print(node.val)\n",
    "            self._inorder(node.right)\n",
    "            \n",
    "    def delete(self, val):\n",
    "        return self._delete(self.root, val)\n",
    "    \n",
    "    def _delete(self, node, val):\n",
    "        if node is None:\n",
    "            return node\n",
    "        \n",
    "        if val < node.val:\n",
    "            node.left = self._delete(node.left, val)\n",
    "        \n",
    "        elif val > node.val:\n",
    "            node.right = self._delete(node.right, val)\n",
    "        \n",
    "        else:\n",
    "            if not node.right:\n",
    "                return node.left\n",
    "            if not node.left:\n",
    "                return node.right\n",
    "            temp = node.right\n",
    "            while temp.left is not None:\n",
    "                temp = temp.left\n",
    "            node.val = temp.val\n",
    "            node.right = self._delete(node.right, temp.val)\n",
    "        return node"
   ]
  },
  {
   "cell_type": "code",
   "execution_count": 1224,
   "metadata": {
    "scrolled": true
   },
   "outputs": [
    {
     "data": {
      "text/plain": [
       "[None, None, None, None, None, None, None]"
      ]
     },
     "execution_count": 1224,
     "metadata": {},
     "output_type": "execute_result"
    }
   ],
   "source": [
    "array = [5, 2, 1, 3, 7, 6, 9]\n",
    "myTree = bst()\n",
    "[myTree.insert(x) for x in array]"
   ]
  },
  {
   "cell_type": "code",
   "execution_count": 1225,
   "metadata": {
    "scrolled": true
   },
   "outputs": [
    {
     "name": "stdout",
     "output_type": "stream",
     "text": [
      "1\n",
      "2\n",
      "3\n",
      "5\n",
      "6\n",
      "7\n",
      "9\n"
     ]
    }
   ],
   "source": [
    "myTree.inorder()"
   ]
  },
  {
   "cell_type": "code",
   "execution_count": 1226,
   "metadata": {},
   "outputs": [
    {
     "data": {
      "text/plain": [
       "<__main__.Node at 0x193a31146a0>"
      ]
     },
     "execution_count": 1226,
     "metadata": {},
     "output_type": "execute_result"
    }
   ],
   "source": [
    "myTree.delete(9)"
   ]
  },
  {
   "cell_type": "code",
   "execution_count": 1227,
   "metadata": {
    "collapsed": true
   },
   "outputs": [],
   "source": [
    "# Q) Print a tree using BFS and DFS\n",
    "from collections import deque\n",
    "def printBFS(node):\n",
    "    level = deque([node])\n",
    "    while level:\n",
    "        print([x.val for x in level])\n",
    "        curr = level.popleft()\n",
    "        print(curr.val)\n",
    "        if curr.left is not None:\n",
    "            level.append(curr.left)\n",
    "        if curr.right is not None:\n",
    "            level.append(curr.right)\n",
    "    return"
   ]
  },
  {
   "cell_type": "code",
   "execution_count": 1228,
   "metadata": {
    "scrolled": true
   },
   "outputs": [
    {
     "name": "stdout",
     "output_type": "stream",
     "text": [
      "[5]\n",
      "5\n",
      "[2, 7]\n",
      "2\n",
      "[7, 1, 3]\n",
      "7\n",
      "[1, 3, 6]\n",
      "1\n",
      "[3, 6]\n",
      "3\n",
      "[6]\n",
      "6\n"
     ]
    }
   ],
   "source": [
    "printBFS(myTree.root)"
   ]
  },
  {
   "cell_type": "code",
   "execution_count": 1229,
   "metadata": {
    "collapsed": true
   },
   "outputs": [],
   "source": [
    "def secondLargest(node):\n",
    "    if node is None:\n",
    "        return node\n",
    "    if node.right is None:\n",
    "        return largest(node.left)\n",
    "    child = node.right\n",
    "    parent = node\n",
    "    while child.right is not None:\n",
    "        parent = child\n",
    "        child = child.right\n",
    "    if child.left is None:\n",
    "        return parent\n",
    "    return largest(child.left)\n",
    "\n",
    "def largest(node):\n",
    "    while node.right is not None:\n",
    "        node = node.right\n",
    "    return node"
   ]
  },
  {
   "cell_type": "code",
   "execution_count": 1230,
   "metadata": {
    "scrolled": true
   },
   "outputs": [
    {
     "data": {
      "text/plain": [
       "6"
      ]
     },
     "execution_count": 1230,
     "metadata": {},
     "output_type": "execute_result"
    }
   ],
   "source": [
    "myTree.delete(3)\n",
    "secondLargest(myTree.root).val"
   ]
  },
  {
   "cell_type": "code",
   "execution_count": 1231,
   "metadata": {
    "scrolled": true
   },
   "outputs": [
    {
     "name": "stdout",
     "output_type": "stream",
     "text": [
      "1\n",
      "2\n",
      "5\n",
      "6\n",
      "7\n"
     ]
    }
   ],
   "source": [
    "myTree.inorder()"
   ]
  },
  {
   "cell_type": "code",
   "execution_count": 1232,
   "metadata": {
    "collapsed": true
   },
   "outputs": [],
   "source": [
    "def distanceNodes(node1, node2):\n",
    "    pass"
   ]
  },
  {
   "cell_type": "code",
   "execution_count": null,
   "metadata": {
    "collapsed": true
   },
   "outputs": [],
   "source": [
    "def lowestCommonAncestor(node1, node2):\n",
    "    "
   ]
  }
 ],
 "metadata": {
  "kernelspec": {
   "display_name": "Python 3",
   "language": "python",
   "name": "python3"
  },
  "language_info": {
   "codemirror_mode": {
    "name": "ipython",
    "version": 3
   },
   "file_extension": ".py",
   "mimetype": "text/x-python",
   "name": "python",
   "nbconvert_exporter": "python",
   "pygments_lexer": "ipython3",
   "version": "3.6.2"
  }
 },
 "nbformat": 4,
 "nbformat_minor": 2
}
