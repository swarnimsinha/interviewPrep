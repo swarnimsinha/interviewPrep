{
 "cells": [
  {
   "cell_type": "markdown",
   "metadata": {},
   "source": [
    "#### Q1) Write a method to generate the nth Fibonacci numbe"
   ]
  },
  {
   "cell_type": "code",
   "execution_count": 1,
   "metadata": {
    "collapsed": true
   },
   "outputs": [],
   "source": [
    "def fib(n):\n",
    "    memo = [0,1]\n",
    "    if n < 2:\n",
    "        return memo[n]\n",
    "    for i in range(2, n+1):\n",
    "        curr = memo[0] + memo[1]\n",
    "        memo[0] = memo[1]\n",
    "        memo[1] = curr\n",
    "    return memo[-1]"
   ]
  },
  {
   "cell_type": "code",
   "execution_count": 2,
   "metadata": {},
   "outputs": [
    {
     "data": {
      "text/plain": [
       "[0, 1, 1, 2, 3, 5, 8, 13, 21, 34]"
      ]
     },
     "execution_count": 2,
     "metadata": {},
     "output_type": "execute_result"
    }
   ],
   "source": [
    "[fib(x) for x in range(10)]"
   ]
  },
  {
   "cell_type": "markdown",
   "metadata": {},
   "source": [
    "#### Q2) Imagine a robot sitting on the upper left hand corner of an NxN grid The robot can only move in two directions: right and down  How many possible paths are there for the robot?"
   ]
  },
  {
   "cell_type": "code",
   "execution_count": 19,
   "metadata": {
    "collapsed": true
   },
   "outputs": [],
   "source": [
    "def nPaths(grid, i, j):\n",
    "    if i == len(grid)-1 or j == len(grid[0])-1:\n",
    "        return 1\n",
    "    return nPaths(grid,i+1,j) + nPaths(grid,i,j+1)"
   ]
  },
  {
   "cell_type": "code",
   "execution_count": 23,
   "metadata": {
    "collapsed": true
   },
   "outputs": [],
   "source": [
    "memo = {}\n",
    "def nPaths(grid, i, j):\n",
    "    if i == len(grid)-1 or j == len(grid[0]) - 1:\n",
    "        return 1\n",
    "    if (i,j) not in memo:\n",
    "        memo[(i,j)] = nPaths(grid,i+1,j) + nPaths(grid,i,j+1)\n",
    "    return memo[(i,j)]"
   ]
  },
  {
   "cell_type": "code",
   "execution_count": 24,
   "metadata": {},
   "outputs": [
    {
     "data": {
      "text/plain": [
       "6"
      ]
     },
     "execution_count": 24,
     "metadata": {},
     "output_type": "execute_result"
    }
   ],
   "source": [
    "grid = [[0 for _ in range(3)] for _ in range(3)]\n",
    "nPaths(grid, 0,0)"
   ]
  },
  {
   "cell_type": "markdown",
   "metadata": {},
   "source": [
    "#### Follow up - some grid blocks are blocked."
   ]
  },
  {
   "cell_type": "code",
   "execution_count": 47,
   "metadata": {
    "collapsed": true
   },
   "outputs": [],
   "source": [
    "memo = {}\n",
    "def nPathsBlocked(grid,i,j):\n",
    "    if i == len(grid)-1 or j == len(grid[0])-1:\n",
    "        return 1\n",
    "    if grid[i][j] == 1:\n",
    "        return 0\n",
    "    if (i,j) not in memo:\n",
    "        memo[(i,j)] = nPathsBlocked(grid,i+1,j) + nPathsBlocked(grid,i,j+1)\n",
    "    return memo[(i,j)]"
   ]
  },
  {
   "cell_type": "code",
   "execution_count": 48,
   "metadata": {},
   "outputs": [
    {
     "data": {
      "text/plain": [
       "3"
      ]
     },
     "execution_count": 48,
     "metadata": {},
     "output_type": "execute_result"
    }
   ],
   "source": [
    "grid = [[0 for _ in range(3)] for _ in range(3)]\n",
    "grid[1][0] = 1\n",
    "# grid[1][1] = 1\n",
    "nPathsBlocked(grid, 0,0)"
   ]
  },
  {
   "cell_type": "markdown",
   "metadata": {},
   "source": [
    "#### Q3) Write a method that returns all subsets of a set"
   ]
  },
  {
   "cell_type": "code",
   "execution_count": 49,
   "metadata": {
    "collapsed": true
   },
   "outputs": [],
   "source": [
    "def allSubSet(array):\n",
    "    ans = [[]]\n",
    "    for val in array:\n",
    "        ans += [x + [val] for x in ans]\n",
    "    return ans"
   ]
  },
  {
   "cell_type": "code",
   "execution_count": 51,
   "metadata": {},
   "outputs": [
    {
     "data": {
      "text/plain": [
       "[[], [1], [2], [1, 2], [3], [1, 3], [2, 3], [1, 2, 3]]"
      ]
     },
     "execution_count": 51,
     "metadata": {},
     "output_type": "execute_result"
    }
   ],
   "source": [
    "allSubSet([1,2,3])"
   ]
  },
  {
   "cell_type": "markdown",
   "metadata": {},
   "source": [
    "#### Q4) All Permutations of a string"
   ]
  },
  {
   "cell_type": "code",
   "execution_count": 52,
   "metadata": {
    "collapsed": true
   },
   "outputs": [],
   "source": [
    "def allPermutations(string):\n",
    "    return createPermutations(string,'')\n",
    "\n",
    "def createPermutations(string, chosen):\n",
    "    if len(string) == 0:\n",
    "        print(chosen)\n",
    "        return\n",
    "    for key, char in enumerate(string):\n",
    "        chosen += char\n",
    "        string = string[:key] + string[key+1:]\n",
    "        createPermutations(string, chosen)\n",
    "        chosen = chosen[:-1]\n",
    "        string = string[:key] + char + string[key:]"
   ]
  },
  {
   "cell_type": "code",
   "execution_count": 55,
   "metadata": {},
   "outputs": [
    {
     "name": "stdout",
     "output_type": "stream",
     "text": [
      "123\n",
      "132\n",
      "213\n",
      "231\n",
      "312\n",
      "321\n"
     ]
    }
   ],
   "source": [
    "allPermutations('123')"
   ]
  },
  {
   "cell_type": "markdown",
   "metadata": {},
   "source": [
    "#### Followup - without repetition - say aab is the given string, then don't print repeated strings (aww)"
   ]
  },
  {
   "cell_type": "code",
   "execution_count": 69,
   "metadata": {
    "collapsed": true
   },
   "outputs": [],
   "source": [
    "def allPermutationsWOReps(string):\n",
    "    return createPermsWOReps(string,'')\n",
    "\n",
    "def createPermsWOReps(string, chosen):\n",
    "    if len(string) == 0:\n",
    "        print(chosen)\n",
    "        return\n",
    "    for key,char in enumerate(string):\n",
    "        if key + 1 < len(string):\n",
    "            if char == string[key+1]:\n",
    "                continue\n",
    "        string = string[:key] + string[key+1:]\n",
    "        chosen += char\n",
    "        createPermsWOReps(string, chosen)\n",
    "        chosen = chosen[:-1]\n",
    "        string = string[:key] + char + string[key:]        "
   ]
  },
  {
   "cell_type": "code",
   "execution_count": 71,
   "metadata": {},
   "outputs": [
    {
     "name": "stdout",
     "output_type": "stream",
     "text": [
      "abb\n",
      "bab\n",
      "bba\n"
     ]
    }
   ],
   "source": [
    "allPermutationsWOReps('abb')"
   ]
  },
  {
   "cell_type": "markdown",
   "metadata": {},
   "source": [
    "#### Q5) Implement an algorithm to print all valid (eg, properly opened and closed) combinations of n-pairs of parentheses\n",
    "EXAMPLE:\n",
    "input: 3 (eg  , 3 pairs of parentheses)<br>\n",
    "output: ()()(), ()(()), (())(), ((())"
   ]
  },
  {
   "cell_type": "code",
   "execution_count": 87,
   "metadata": {
    "collapsed": true
   },
   "outputs": [],
   "source": [
    "def createParenthesis(n):\n",
    "    return printParenthesis(n,n,'')\n",
    "\n",
    "def printParenthesis(left, right, string):\n",
    "    if left == right == 0:\n",
    "        print(string)\n",
    "        return\n",
    "    if left > 0:\n",
    "        printParenthesis(left - 1, right, string+'(')\n",
    "    if right > left:\n",
    "        printParenthesis(left, right - 1, string+')')"
   ]
  },
  {
   "cell_type": "code",
   "execution_count": 89,
   "metadata": {},
   "outputs": [
    {
     "name": "stdout",
     "output_type": "stream",
     "text": [
      "((()))\n",
      "(()())\n",
      "(())()\n",
      "()(())\n",
      "()()()\n"
     ]
    }
   ],
   "source": [
    "createParenthesis(3)"
   ]
  },
  {
   "cell_type": "markdown",
   "metadata": {},
   "source": [
    "#### Q6) Implement  the “paint  fill”  function  that  one  might  see  on  many  image  editing  programs\n",
    "That  is,  given  a  screen  (represented  by  a  2  dimensional  array  of  Colors),  a point, and a new color, fill in the surrounding area until you hit a border of that color "
   ]
  },
  {
   "cell_type": "code",
   "execution_count": 117,
   "metadata": {
    "collapsed": true
   },
   "outputs": [],
   "source": [
    "memo = set()\n",
    "def paintFill(grid, oldColor, newColor, location):\n",
    "    i,j = location\n",
    "    if 0 <= i < len(grid) and 0 <= j < len(grid[0]):\n",
    "        if (i,j) not in memo:\n",
    "            memo.add((i,j))\n",
    "            if grid[i][j] == oldColor:\n",
    "                grid[i][j] = newColor\n",
    "                paintFill(grid, oldColor, newColor, (i+1, j))\n",
    "                paintFill(grid, oldColor, newColor, (i, j+1))\n",
    "                paintFill(grid, oldColor, newColor, (i-1, j))\n",
    "                paintFill(grid, oldColor, newColor, (i, j-1))"
   ]
  },
  {
   "cell_type": "code",
   "execution_count": 118,
   "metadata": {},
   "outputs": [],
   "source": [
    "grid = [[0 for _ in range(3)] for _ in range(3)]\n",
    "grid[0][0] = 1\n",
    "grid[1][0] = 1\n",
    "grid[2][0] = 1\n",
    "paintFill(grid,1,5,(0,0))"
   ]
  },
  {
   "cell_type": "code",
   "execution_count": 119,
   "metadata": {},
   "outputs": [
    {
     "data": {
      "text/plain": [
       "[[5, 0, 0], [5, 0, 0], [5, 0, 0]]"
      ]
     },
     "execution_count": 119,
     "metadata": {},
     "output_type": "execute_result"
    }
   ],
   "source": [
    "grid"
   ]
  },
  {
   "cell_type": "markdown",
   "metadata": {},
   "source": [
    "#### Q7) Given an infinite number of quarters (25 cents), dimes (10 cents), nickels (5 cents) and pennies (1 cent), write code to calculate the number of ways of representing n cents"
   ]
  },
  {
   "cell_type": "code",
   "execution_count": 120,
   "metadata": {
    "collapsed": true
   },
   "outputs": [],
   "source": [
    "memo = {}\n",
    "def coinchange(amount, coins,current):\n",
    "    if amount == 0:\n",
    "        return 1\n",
    "    if amount < 0:\n",
    "        return 0\n",
    "    nways = 0\n",
    "    for i in range(current,len(coins)):\n",
    "        if  (amount, i) not in memo:\n",
    "            memo[(amount,i)] = coinchange(amount - coins[i], coins, i)\n",
    "        nways += memo[(amount,i)]\n",
    "    return nways"
   ]
  },
  {
   "cell_type": "code",
   "execution_count": 122,
   "metadata": {},
   "outputs": [
    {
     "data": {
      "text/plain": [
       "3"
      ]
     },
     "execution_count": 122,
     "metadata": {},
     "output_type": "execute_result"
    }
   ],
   "source": [
    "coinchange(3,[1,2,3],0)"
   ]
  },
  {
   "cell_type": "code",
   "execution_count": null,
   "metadata": {
    "collapsed": true
   },
   "outputs": [],
   "source": []
  }
 ],
 "metadata": {
  "kernelspec": {
   "display_name": "Python 3",
   "language": "python",
   "name": "python3"
  },
  "language_info": {
   "codemirror_mode": {
    "name": "ipython",
    "version": 3
   },
   "file_extension": ".py",
   "mimetype": "text/x-python",
   "name": "python",
   "nbconvert_exporter": "python",
   "pygments_lexer": "ipython3",
   "version": "3.6.2"
  }
 },
 "nbformat": 4,
 "nbformat_minor": 2
}
