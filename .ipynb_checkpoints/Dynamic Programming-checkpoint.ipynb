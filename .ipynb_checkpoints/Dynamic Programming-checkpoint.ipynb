{
 "cells": [
  {
   "cell_type": "markdown",
   "metadata": {},
   "source": [
    "#### 1) Fibonacci Sequence"
   ]
  },
  {
   "cell_type": "code",
   "execution_count": 3,
   "metadata": {
    "collapsed": true
   },
   "outputs": [],
   "source": [
    "def fibonacci(n):\n",
    "    fibo = {}\n",
    "    fibo[0] = 0\n",
    "    fibo[1] = 1\n",
    "    for i in range(2, n+1):\n",
    "        fibo[i] = fibo[i-1] + fibo[i-2]\n",
    "    return fibo[n]"
   ]
  },
  {
   "cell_type": "code",
   "execution_count": 6,
   "metadata": {},
   "outputs": [
    {
     "data": {
      "text/plain": [
       "[0, 1, 1, 2, 3, 5, 8, 13, 21, 34]"
      ]
     },
     "execution_count": 6,
     "metadata": {},
     "output_type": "execute_result"
    }
   ],
   "source": [
    "[fibonacci(x) for x in range(10)]"
   ]
  },
  {
   "cell_type": "markdown",
   "metadata": {},
   "source": [
    "#### 2) Longest Common Subsequence"
   ]
  },
  {
   "cell_type": "code",
   "execution_count": 80,
   "metadata": {
    "collapsed": true
   },
   "outputs": [],
   "source": [
    "# naive way is to find all the subsequences of the two strings\n",
    "# find the largest common subsequnces from these\n",
    "# for the sake of practice (as creating all subsequences isn't trivial)\n",
    "# implementing the naive way too\n",
    "def lcs(a,b):\n",
    "    aSubstrings = createSubstring(list(a))\n",
    "    bSubstrings = createSubstring(list(b))\n",
    "    maxSubString = ''\n",
    "    for val in aSubstrings:\n",
    "        if val in bSubstrings:\n",
    "            if len(val) > len(maxSubString):\n",
    "                maxSubString = val\n",
    "    return maxSubString\n",
    "    \n",
    "def createSubstring(string):\n",
    "    # creates a powerset which contains all the substrings\n",
    "    ans = [[]]\n",
    "    for element in string:\n",
    "        ans += [x + [element] for x in ans]\n",
    "    return ans"
   ]
  },
  {
   "cell_type": "code",
   "execution_count": 82,
   "metadata": {},
   "outputs": [
    {
     "data": {
      "text/plain": [
       "['G', 'T', 'A', 'B']"
      ]
     },
     "execution_count": 82,
     "metadata": {},
     "output_type": "execute_result"
    }
   ],
   "source": [
    "lcs('AGGTAB', 'GXTXAYB')"
   ]
  },
  {
   "cell_type": "code",
   "execution_count": 91,
   "metadata": {},
   "outputs": [
    {
     "data": {
      "text/plain": [
       "[[0, 0, 0, 0], [0, 0, 0, 0], [0, 0, 0, 0], [0, 0, 0, 0], [0, 0, 0, 0]]"
      ]
     },
     "execution_count": 91,
     "metadata": {},
     "output_type": "execute_result"
    }
   ],
   "source": [
    "array = [[0] * (3 + 1)] * (4 + 1)\n",
    "array"
   ]
  },
  {
   "cell_type": "code",
   "execution_count": 93,
   "metadata": {},
   "outputs": [
    {
     "data": {
      "text/plain": [
       "[[0, 0, 0, 0], [0, 0, 0, 0], [0, 0, 0, 0], [0, 0, 0, 0], [0, 0, 0, 0]]"
      ]
     },
     "execution_count": 93,
     "metadata": {},
     "output_type": "execute_result"
    }
   ],
   "source": [
    "[[0 for j in range(3+1)] for i in range(4+1)]"
   ]
  },
  {
   "cell_type": "code",
   "execution_count": 71,
   "metadata": {
    "collapsed": true
   },
   "outputs": [],
   "source": [
    "# the proper way of implementing the LCS\n",
    "# idea is to create a table of length +1 x length + 1\n",
    "# set everything to zero\n",
    "# if there is a match, while iterating, the i+1th row and j+1th column gets the current + 1\n",
    "# else it gets the max of the top/left\n",
    "# the value at the bottom right is the length of lcs\n",
    "def lcs(a,b):\n",
    "    array = [[0 for _ in range(len(b) + 1)] for _ in range(len(a) + 1)]\n",
    "    for i, x in enumerate(a):\n",
    "        for j, y in enumerate(b):\n",
    "            if x == y:\n",
    "                array[i+1][j+1] = array[i][j] + 1\n",
    "            else:\n",
    "                array[i+1][j+1] = max(array[i+1][j], array[i][j+1])\n",
    "    return getLCS(array, a, b)\n",
    "\n",
    "def getLCS(array, a, b):\n",
    "    x, y = len(a), len(b)\n",
    "    result = ''\n",
    "    while x != 0 and y != 0:\n",
    "        if array[x][y] == array[x-1][y-1]+1:\n",
    "            result = a[x-1] + result\n",
    "            x -= 1\n",
    "            y -= 1\n",
    "        elif array[x][y] == array[x-1][y]:\n",
    "            x -= 1\n",
    "        else:\n",
    "            y -= 1\n",
    "    return result"
   ]
  },
  {
   "cell_type": "code",
   "execution_count": 72,
   "metadata": {},
   "outputs": [
    {
     "data": {
      "text/plain": [
       "'pikahu'"
      ]
     },
     "execution_count": 72,
     "metadata": {},
     "output_type": "execute_result"
    }
   ],
   "source": [
    "lcs('pikachu', 'pikathu')"
   ]
  },
  {
   "cell_type": "markdown",
   "metadata": {},
   "source": [
    "#### 3) Longest Increasing subsequence"
   ]
  },
  {
   "cell_type": "code",
   "execution_count": 204,
   "metadata": {
    "collapsed": true
   },
   "outputs": [],
   "source": [
    "# idea is to create an array of 1s of the same size\n",
    "# have two pointers, i & j\n",
    "# i starts at 1 and j at 0\n",
    "# iterate over all i and j from 0 to i - 1\n",
    "# if ith element in greater, the ith element becomes the max of jth element + 1 and the ith element\n",
    "def lis(array):\n",
    "    lis = [1] * len(array)\n",
    "    i = 1\n",
    "    while i < len(array):\n",
    "        j = 0\n",
    "        while j < i:\n",
    "            if array[i] > array[j]:\n",
    "                lis[i] = max(lis[j]+1, lis[i])\n",
    "            j += 1\n",
    "        i += 1\n",
    "    return getLIS(array, lis)\n",
    "\n",
    "def getLIS(array, lis):\n",
    "    i = len(lis) - 1\n",
    "    result = []\n",
    "    current = i\n",
    "    maximum = lis[-1]\n",
    "    while i > 0:\n",
    "        if lis[i] == maximum:\n",
    "            maximum = lis[i] - 1\n",
    "            result.append(array[i])\n",
    "        i -= 1\n",
    "    return result[::-1]"
   ]
  },
  {
   "cell_type": "code",
   "execution_count": 207,
   "metadata": {},
   "outputs": [
    {
     "data": {
      "text/plain": [
       "[2, 3, 7, 18]"
      ]
     },
     "execution_count": 207,
     "metadata": {},
     "output_type": "execute_result"
    }
   ],
   "source": [
    "lis([10,9,2,5,3,7,101,18])"
   ]
  },
  {
   "cell_type": "markdown",
   "metadata": {},
   "source": [
    "#### 4) Find edit distance between two strings (number of inserts/replaces/deletes required to make two strings identical)"
   ]
  },
  {
   "cell_type": "code",
   "execution_count": 217,
   "metadata": {
    "collapsed": true
   },
   "outputs": [],
   "source": [
    "# this is the naive approach\n",
    "# recursively, find the minimum of each replacement, insertion, deletion required\n",
    "# to make the strings similar\n",
    "# can memoize this to do reduce the calculation\n",
    "def editDistance(string1, string2):\n",
    "    return editDistanceHelper(string1, string2, len(string1), len(string2))\n",
    "\n",
    "def editDistanceHelper(string1, string2, m, n):\n",
    "    if m == 0:\n",
    "        return n\n",
    "    if n == 0:\n",
    "        return m\n",
    "    if string1[m-1] == string2[n-1]:\n",
    "        return editDistanceHelper(string1, string2, m-1, n-1)\n",
    "    return 1 + min(editDistanceHelper(string1, string2, m-1, n),\n",
    "                   editDistanceHelper(string1, string2, m, n-1), \n",
    "                   editDistanceHelper(string1, string2, m-1, n-1))"
   ]
  },
  {
   "cell_type": "code",
   "execution_count": 65,
   "metadata": {},
   "outputs": [
    {
     "data": {
      "text/plain": [
       "0"
      ]
     },
     "execution_count": 65,
     "metadata": {},
     "output_type": "execute_result"
    }
   ],
   "source": [
    "arr = [[0 for x in range(5)] for x in range(5)]\n",
    "a = (0,0)\n",
    "arr[a[0]][a[1]]"
   ]
  },
  {
   "cell_type": "code",
   "execution_count": 117,
   "metadata": {},
   "outputs": [],
   "source": [
    "# optimal way is to use dynamic programming\n",
    "# create an m+1xn+1 array\n",
    "# fill the first row and column with increasing numbers\n",
    "# start comparing if same, i,j = i-1,j-1\n",
    "# else the min of up/left/diagonal\n",
    "def editDistance(string1, string2):\n",
    "    dp = [[0 for _ in range(len(string2)+1)] for _ in range(len(string1)+1)]\n",
    "    for i in range(len(string1)+1):\n",
    "        for j in range(len(string2)+1):\n",
    "            if i == 0:\n",
    "                dp[i][j] = j\n",
    "            elif j == 0:\n",
    "                dp[i][j] = i\n",
    "            elif string1[i-1] == string2[j-1]:\n",
    "                dp[i][j] = dp[i-1][j-1]\n",
    "            else:\n",
    "                dp[i][j]= 1 + min(dp[i-1][j], dp[i][j-1], dp[i-1][j-1])\n",
    "    \n",
    "    x = len(string1); y = len(string2)\n",
    "    result = []\n",
    "    while x != 0 and y != 0:\n",
    "        if dp[x][y] == 1 + dp[x-1][y-1]:\n",
    "            x -= 1\n",
    "            y -= 1\n",
    "            print('replace', string2[y],string1[y])\n",
    "        elif dp[x][y] == 1 + dp[x-1][y]:\n",
    "            x -= 1\n",
    "            print('insert', string1[x])\n",
    "        elif dp[x][y] == 1 + dp[x][y-1]:\n",
    "            y -= 1\n",
    "            print('delete', string2[y])\n",
    "        else:\n",
    "            x -= 1\n",
    "            y -= 1\n",
    "    return result"
   ]
  },
  {
   "cell_type": "code",
   "execution_count": 120,
   "metadata": {},
   "outputs": [
    {
     "name": "stdout",
     "output_type": "stream",
     "text": [
      "delete s\n",
      "replace a e\n"
     ]
    },
    {
     "data": {
      "text/plain": [
       "[]"
      ]
     },
     "execution_count": 120,
     "metadata": {},
     "output_type": "execute_result"
    }
   ],
   "source": [
    "editDistance('testing', 'tastings')"
   ]
  },
  {
   "cell_type": "code",
   "execution_count": 132,
   "metadata": {
    "collapsed": true
   },
   "outputs": [],
   "source": [
    "def subsetSum(array, value):\n",
    "    dp = [[False for _ in range(value+1)] for _ in range(len(array)+1)]\n",
    "    for i in range(len(array) + 1):\n",
    "        for j in range(value+1):\n",
    "            if j == 0:\n",
    "                dp[i][j] = True\n",
    "            elif j - array[i-1] >= 0:\n",
    "                dp[i][j] = dp[i-1][j] or dp[i-1][j-array[i-1]]\n",
    "            else:\n",
    "                dp[i][j] = dp[i-1][j]\n",
    "    print(dp)"
   ]
  },
  {
   "cell_type": "code",
   "execution_count": 137,
   "metadata": {},
   "outputs": [
    {
     "name": "stdout",
     "output_type": "stream",
     "text": [
      "[[True, False, False, False, False, False, False, False, False, False, False, False], [True, True, False, False, False, False, False, False, False, False, False, False], [True, True, True, True, False, False, False, False, False, False, False, False], [True, True, True, True, True, True, True, False, False, False, False, False], [True, True, True, True, True, True, True, True, True, True, True, False]]\n"
     ]
    }
   ],
   "source": [
    "subsetSum([1,2,3,4],11)"
   ]
  }
 ],
 "metadata": {
  "kernelspec": {
   "display_name": "Python 3",
   "language": "python",
   "name": "python3"
  },
  "language_info": {
   "codemirror_mode": {
    "name": "ipython",
    "version": 3
   },
   "file_extension": ".py",
   "mimetype": "text/x-python",
   "name": "python",
   "nbconvert_exporter": "python",
   "pygments_lexer": "ipython3",
   "version": "3.6.2"
  }
 },
 "nbformat": 4,
 "nbformat_minor": 2
}
