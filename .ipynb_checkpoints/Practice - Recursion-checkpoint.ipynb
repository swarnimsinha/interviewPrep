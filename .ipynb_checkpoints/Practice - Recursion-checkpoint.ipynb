{
 "cells": [
  {
   "cell_type": "markdown",
   "metadata": {},
   "source": [
    "#### Q1) Imagine a robot sitting on the upper left hand corner of an NxN grid. The robot can  only move in two directions: right and down  How many possible paths are there for the robot?"
   ]
  },
  {
   "cell_type": "code",
   "execution_count": 27,
   "metadata": {
    "collapsed": true
   },
   "outputs": [],
   "source": [
    "def findPaths(grid):\n",
    "    return findPathsHelper(grid, 0, 0)\n",
    "memo = {}\n",
    "def findPathsHelper(grid, i, j):\n",
    "    if i == len(grid) - 1 or j == len(grid) - 1:\n",
    "        return 1\n",
    "    if (i,j) not in memo:\n",
    "        memo[(i,j)] = findPathsHelper(grid, i+1, j) + findPathsHelper(grid, i, j+1)\n",
    "    \n",
    "    return memo[(i,j)]"
   ]
  },
  {
   "cell_type": "code",
   "execution_count": 62,
   "metadata": {},
   "outputs": [
    {
     "name": "stdout",
     "output_type": "stream",
     "text": [
      "{(0, 0): 2}\n",
      "[[0, 0], [1, 0]]\n"
     ]
    },
    {
     "data": {
      "text/plain": [
       "2"
      ]
     },
     "execution_count": 62,
     "metadata": {},
     "output_type": "execute_result"
    }
   ],
   "source": [
    "array = [[0 for _ in range(2)] for _ in range(2)]\n",
    "array[1][0] = 1\n",
    "print(memo)\n",
    "findPaths(array)"
   ]
  },
  {
   "cell_type": "markdown",
   "metadata": {},
   "source": [
    "#### Follow up\n",
    "Imagine  certain  squares  are “off  limits”,  such  that  the  robot  can  not  step  on  them  \n",
    "Design an algorithm to get all possible paths for the robot"
   ]
  },
  {
   "cell_type": "code",
   "execution_count": 81,
   "metadata": {
    "collapsed": true
   },
   "outputs": [],
   "source": [
    "# using memoization\n",
    "# if the current step is 1, can't step so return 0\n",
    "# else walk iterate over neighbors\n",
    "# keep saving the (i,j) value\n",
    "def findPaths(grid):\n",
    "    return findPathsHelper(grid, 0, 0)\n",
    "memo = {}\n",
    "def findPathsHelper(grid, i, j):\n",
    "    if grid[i][j] == 1:\n",
    "        return 0\n",
    "    if i == len(grid) - 1 or j == len(grid) - 1:\n",
    "        return 1\n",
    "    memo[(i,j)] = findPathsHelper(grid, i+1, j) + findPathsHelper(grid, i, j+1)\n",
    "    return memo[(i,j)]"
   ]
  },
  {
   "cell_type": "code",
   "execution_count": 82,
   "metadata": {},
   "outputs": [
    {
     "data": {
      "text/plain": [
       "1"
      ]
     },
     "execution_count": 82,
     "metadata": {},
     "output_type": "execute_result"
    }
   ],
   "source": [
    "array = [[0 for _ in range(3)] for _ in range(3)]\n",
    "array[1][0] = 1\n",
    "array[1][1] = 1\n",
    "findPaths(array)"
   ]
  },
  {
   "cell_type": "markdown",
   "metadata": {},
   "source": [
    "#### Q2) Write a method that returns all subsets of a set"
   ]
  },
  {
   "cell_type": "code",
   "execution_count": 83,
   "metadata": {
    "collapsed": true
   },
   "outputs": [],
   "source": [
    "# create an array with blank element\n",
    "# for every element in the array, append value of the current array to the array\n",
    "def allSubsets(array):\n",
    "    ans = [[]]\n",
    "    for val in array:\n",
    "        ans += [x + [val] for x in ans]\n",
    "    return ans"
   ]
  },
  {
   "cell_type": "code",
   "execution_count": 84,
   "metadata": {},
   "outputs": [
    {
     "data": {
      "text/plain": [
       "[[], [1], [2], [1, 2], [3], [1, 3], [2, 3], [1, 2, 3]]"
      ]
     },
     "execution_count": 84,
     "metadata": {},
     "output_type": "execute_result"
    }
   ],
   "source": [
    "allSubsets([1,2,3])"
   ]
  },
  {
   "cell_type": "markdown",
   "metadata": {},
   "source": [
    "#### Q3) Write a method to compute all permutations of a string (with repetitions and without)"
   ]
  },
  {
   "cell_type": "code",
   "execution_count": 107,
   "metadata": {
    "collapsed": true
   },
   "outputs": [],
   "source": [
    "def allPermutations(string):\n",
    "    return allPermutationsHelper(''.join(x for x in sorted(string)), '')\n",
    "def allPermutationsHelper(string, sequence):\n",
    "    if len(string) == 0:\n",
    "        print(sequence)\n",
    "        return\n",
    "    for key, val in enumerate(string):\n",
    "        # comment the if statements if no repetitions is required\n",
    "        if key+1 < len(string):\n",
    "            if val == string[key+1]:\n",
    "                continue\n",
    "        sequence += val\n",
    "        string = string[:key] + string[key+1:]\n",
    "        allPermutationsHelper(string, sequence)\n",
    "        string = string[:key] + val + string[key:]\n",
    "        sequence = sequence[:-1]"
   ]
  },
  {
   "cell_type": "code",
   "execution_count": 108,
   "metadata": {},
   "outputs": [
    {
     "name": "stdout",
     "output_type": "stream",
     "text": [
      "abb\n",
      "bab\n",
      "bba\n"
     ]
    }
   ],
   "source": [
    "allPermutations('abb')"
   ]
  },
  {
   "cell_type": "markdown",
   "metadata": {},
   "source": [
    "#### Q4) Implement an algorithm to print all valid (eg, properly opened and closed) combinations of n-pairs of parentheses\n",
    "EXAMPLE:\n",
    "input: 3 (eg  , 3 pairs of parentheses)<br>\n",
    "output: ()()(), ()(()), (())(), ((())"
   ]
  },
  {
   "cell_type": "code",
   "execution_count": 135,
   "metadata": {
    "collapsed": true
   },
   "outputs": [],
   "source": [
    "def printParenthesis(n):\n",
    "    return printParenthesisHelper(n,n,'')\n",
    "\n",
    "def printParenthesisHelper(left, right, string):\n",
    "    if left == 0 and right == 0:\n",
    "        print(string)\n",
    "        return\n",
    "    if left > 0:\n",
    "        printParenthesisHelper(left-1, right, string+'(')\n",
    "    if right > left:\n",
    "        printParenthesisHelper(left, right-1, string+')')"
   ]
  },
  {
   "cell_type": "code",
   "execution_count": 137,
   "metadata": {},
   "outputs": [
    {
     "name": "stdout",
     "output_type": "stream",
     "text": [
      "((()))\n",
      "(()())\n",
      "(())()\n",
      "()(())\n",
      "()()()\n"
     ]
    }
   ],
   "source": [
    "printParenthesis(3)"
   ]
  },
  {
   "cell_type": "markdown",
   "metadata": {},
   "source": [
    "#### Q5) Implement  the “paint  fill”  function  that  one  might  see  on  many  image  editing  programs\n",
    "That  is,  given  a  screen  (represented  by  a  2  dimensional  array  of  Colors),  a point, and a new color, fill in the surrounding area until you hit a border of that color "
   ]
  },
  {
   "cell_type": "code",
   "execution_count": 224,
   "metadata": {
    "collapsed": true
   },
   "outputs": [],
   "source": [
    "# recursively find the neighbors and check if they are the shitz\n",
    "memo = {}\n",
    "def paintFill(grid, location, old, new):\n",
    "    i,j = location\n",
    "    if 0 <= i < len(grid) and 0 <= j < len(grid[0]):\n",
    "        if grid[i][j] == old:\n",
    "            grid[i][j] = new\n",
    "            paintFill(grid, (i+1,j), old, new)\n",
    "            paintFill(grid, (i-1,j), old, new)\n",
    "            paintFill(grid, (i,j-1), old, new)\n",
    "            paintFill(grid, (i,j+1), old, new)"
   ]
  },
  {
   "cell_type": "code",
   "execution_count": 225,
   "metadata": {},
   "outputs": [
    {
     "data": {
      "text/plain": [
       "[[3, 3, 3, 3], [3, 3, 3, 4], [1, 2, 3, 4], [4, 4, 4, 4]]"
      ]
     },
     "execution_count": 225,
     "metadata": {},
     "output_type": "execute_result"
    }
   ],
   "source": [
    "array = [\n",
    "    [0,0,0,0],\n",
    "    [0,0,3,4],\n",
    "    [1,2,3,4],\n",
    "    [4,4,4,4]\n",
    "]\n",
    "paintFill(array, (0,0),0, 3)\n",
    "array"
   ]
  },
  {
   "cell_type": "markdown",
   "metadata": {},
   "source": [
    "#### Q6) Given an infinite number of quarters (25 cents), dimes (10 cents), nickels (5 cents) and pennies (1 cent), write code to calculate the number of ways of representing n cents"
   ]
  },
  {
   "cell_type": "code",
   "execution_count": 385,
   "metadata": {},
   "outputs": [
    {
     "data": {
      "text/plain": [
       "4"
      ]
     },
     "execution_count": 385,
     "metadata": {},
     "output_type": "execute_result"
    }
   ],
   "source": [
    "memo = {}\n",
    "def nways(sumValue, coins, current):\n",
    "    if sumValue == 0:\n",
    "        return 1\n",
    "    if sumValue < 0:\n",
    "        return 0\n",
    "    count = 0\n",
    "    for i in range(current, len(coins)):\n",
    "        if (sumValue, i) not in memo:\n",
    "            memo[(sumValue,i)] = nways(sumValue-coins[i], coins, i)\n",
    "        count += memo[(sumValue,i)]\n",
    "    return count\n",
    "nways(5, [1,2,5,10],0)"
   ]
  }
 ],
 "metadata": {
  "kernelspec": {
   "display_name": "Python 3",
   "language": "python",
   "name": "python3"
  },
  "language_info": {
   "codemirror_mode": {
    "name": "ipython",
    "version": 3
   },
   "file_extension": ".py",
   "mimetype": "text/x-python",
   "name": "python",
   "nbconvert_exporter": "python",
   "pygments_lexer": "ipython3",
   "version": "3.6.2"
  }
 },
 "nbformat": 4,
 "nbformat_minor": 2
}
