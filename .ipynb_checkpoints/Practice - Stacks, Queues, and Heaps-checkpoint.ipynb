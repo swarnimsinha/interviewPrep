{
 "cells": [
  {
   "cell_type": "markdown",
   "metadata": {},
   "source": [
    "#### Q1) Implement a stack with push and pop functions"
   ]
  },
  {
   "cell_type": "code",
   "execution_count": 19,
   "metadata": {},
   "outputs": [
    {
     "data": {
      "text/plain": [
       "[5, 4]"
      ]
     },
     "execution_count": 19,
     "metadata": {},
     "output_type": "execute_result"
    }
   ],
   "source": [
    "class stack():\n",
    "    \n",
    "    def __init__(self):\n",
    "        self.array = []\n",
    "        \n",
    "    def push(self, value):\n",
    "        self.array.append(value)\n",
    "        \n",
    "    def pop(self, value):\n",
    "        self.array.pop()\n",
    "        \n",
    "    def peek(self):\n",
    "        return self.array[-1]\n",
    "    \n",
    "a = stack()\n",
    "a.push(5)\n",
    "a.push(4)\n",
    "a.array"
   ]
  },
  {
   "cell_type": "markdown",
   "metadata": {},
   "source": [
    "#### Q2) Implement a queue with queue and dequeue functions"
   ]
  },
  {
   "cell_type": "code",
   "execution_count": 27,
   "metadata": {
    "collapsed": true
   },
   "outputs": [],
   "source": [
    "class queue():\n",
    "    \n",
    "    def __init__(self):\n",
    "        self.array = []\n",
    "        \n",
    "    def push(self, value):\n",
    "        self.array.append(value)\n",
    "        \n",
    "    def pop(self):\n",
    "        return self.array.pop(0)\n",
    "        \n",
    "    def peek(self):\n",
    "        return self.array[0]"
   ]
  },
  {
   "cell_type": "code",
   "execution_count": 28,
   "metadata": {},
   "outputs": [
    {
     "data": {
      "text/plain": [
       "3"
      ]
     },
     "execution_count": 28,
     "metadata": {},
     "output_type": "execute_result"
    }
   ],
   "source": [
    "b = queue()\n",
    "b.push(3)\n",
    "b.push(4)\n",
    "b.push(5)\n",
    "b.pop()"
   ]
  },
  {
   "cell_type": "markdown",
   "metadata": {},
   "source": [
    "#### Q3) Find the minimum element in a stack in O(1) time"
   ]
  },
  {
   "cell_type": "code",
   "execution_count": 55,
   "metadata": {
    "collapsed": true
   },
   "outputs": [],
   "source": [
    "class minStack():\n",
    "    \n",
    "    def __init__(self):\n",
    "        self.array = []\n",
    "        self.min = []\n",
    "    \n",
    "    def push(self, value):\n",
    "        self.array.append(value)\n",
    "        if len(self.min) == 0 or self.min[-1] >= value:\n",
    "            self.min.append(value)\n",
    "            \n",
    "    def minimum(self):\n",
    "        return self.min[-1]\n",
    "            \n",
    "    def pop(self):\n",
    "        popped = self.array.pop()\n",
    "        if popped == self.min[-1]:\n",
    "            self.min.pop()\n",
    "        return popped\n",
    "    \n",
    "    def sort(self):\n",
    "        # to-do implement a sorting function\n",
    "        # implementing the bubble-sort (no extra memory)\n",
    "        array = self.array\n",
    "        for i in range(len(array)-1):\n",
    "            for j in range(i,(len(array))):\n",
    "                if array[j] < array[i]:\n",
    "                    array[i], array[j] = array[j], array[i]\n",
    "                    \n",
    "        self.array = array"
   ]
  },
  {
   "cell_type": "code",
   "execution_count": 56,
   "metadata": {},
   "outputs": [
    {
     "name": "stdout",
     "output_type": "stream",
     "text": [
      "[1, 2, 3, 4, 0]\n",
      "0\n"
     ]
    },
    {
     "data": {
      "text/plain": [
       "1"
      ]
     },
     "execution_count": 56,
     "metadata": {},
     "output_type": "execute_result"
    }
   ],
   "source": [
    "a = minStack()\n",
    "[a.push(x) for x in range(1,5)]\n",
    "a.push(0)\n",
    "print(a.array)\n",
    "print(a.minimum())\n",
    "a.pop()\n",
    "a.minimum()"
   ]
  }
 ],
 "metadata": {
  "kernelspec": {
   "display_name": "Python 3",
   "language": "python",
   "name": "python3"
  },
  "language_info": {
   "codemirror_mode": {
    "name": "ipython",
    "version": 3
   },
   "file_extension": ".py",
   "mimetype": "text/x-python",
   "name": "python",
   "nbconvert_exporter": "python",
   "pygments_lexer": "ipython3",
   "version": "3.6.2"
  }
 },
 "nbformat": 4,
 "nbformat_minor": 2
}
