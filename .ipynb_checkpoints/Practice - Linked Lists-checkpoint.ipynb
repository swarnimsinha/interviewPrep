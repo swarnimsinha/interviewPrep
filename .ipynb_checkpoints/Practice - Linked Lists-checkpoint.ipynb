{
 "cells": [
  {
   "cell_type": "markdown",
   "metadata": {},
   "source": [
    "#### Q1) Implement a linked list (with insert and delete functions)"
   ]
  },
  {
   "cell_type": "code",
   "execution_count": 74,
   "metadata": {},
   "outputs": [],
   "source": [
    "class Node():\n",
    "    def __init__(self, val):\n",
    "        self.val = val\n",
    "        self.next = None\n",
    "\n",
    "class linkedList():\n",
    "    def __init__(self):\n",
    "        self.root = None\n",
    "        \n",
    "    def insert(self, val):\n",
    "        root = self.root\n",
    "        node = root\n",
    "        if node is None:\n",
    "            self.root = Node(val)\n",
    "            return\n",
    "        while node.next is not None:\n",
    "            node = node.next\n",
    "        node.next = Node(val)\n",
    "        \n",
    "    def delete(self):\n",
    "        root = self.root\n",
    "        prev = root\n",
    "        if root.next is not None:\n",
    "            current = root.next\n",
    "        else:\n",
    "            self.root = None\n",
    "            return self.root\n",
    "        while current.next is not None:\n",
    "            prev = current\n",
    "            current = current.next\n",
    "        prev.next = None\n",
    "        return self.root\n",
    "    \n",
    "    def printList(self):\n",
    "        root = self.root\n",
    "        while root is not None:\n",
    "            print(root.val)\n",
    "            root = root.next"
   ]
  },
  {
   "cell_type": "code",
   "execution_count": 129,
   "metadata": {
    "scrolled": true
   },
   "outputs": [
    {
     "data": {
      "text/plain": [
       "[None, None, None, None]"
      ]
     },
     "execution_count": 129,
     "metadata": {},
     "output_type": "execute_result"
    }
   ],
   "source": [
    "a = linkedList()\n",
    "[a.insert(x) for x in range(4)]"
   ]
  },
  {
   "cell_type": "code",
   "execution_count": 130,
   "metadata": {
    "scrolled": true
   },
   "outputs": [
    {
     "name": "stdout",
     "output_type": "stream",
     "text": [
      "0\n",
      "1\n",
      "2\n",
      "3\n"
     ]
    }
   ],
   "source": [
    "a.printList()"
   ]
  },
  {
   "cell_type": "markdown",
   "metadata": {},
   "source": [
    "#### Q2) Find the Nth element in a linked list"
   ]
  },
  {
   "cell_type": "code",
   "execution_count": 131,
   "metadata": {
    "collapsed": true
   },
   "outputs": [],
   "source": [
    "def nthElement(llist, n):\n",
    "    current = llist.root\n",
    "    for i in range(n):\n",
    "        if current.next is not None:\n",
    "            current = current.next\n",
    "        else:\n",
    "            return \"Invalid value of n\"\n",
    "    return current.val"
   ]
  },
  {
   "cell_type": "code",
   "execution_count": 132,
   "metadata": {
    "scrolled": true
   },
   "outputs": [
    {
     "data": {
      "text/plain": [
       "[0, 1, 2, 3, 'Invalid value of n']"
      ]
     },
     "execution_count": 132,
     "metadata": {},
     "output_type": "execute_result"
    }
   ],
   "source": [
    "[nthElement(a, x) for x in range(5)]"
   ]
  },
  {
   "cell_type": "markdown",
   "metadata": {},
   "source": [
    "#### Q3) Remove the Nth element of a linked list"
   ]
  },
  {
   "cell_type": "code",
   "execution_count": 79,
   "metadata": {
    "collapsed": true
   },
   "outputs": [],
   "source": [
    "def removeNth(llist, n):\n",
    "    root = llist.root\n",
    "    current = llist.root\n",
    "    prev = llist.root\n",
    "    for i in range(n):\n",
    "        if current.next is not None:\n",
    "            prev = current\n",
    "            current = current.next\n",
    "        else:\n",
    "            return \"Invalid value of n\"\n",
    "    prev.next = current.next\n",
    "    return root"
   ]
  },
  {
   "cell_type": "code",
   "execution_count": 80,
   "metadata": {},
   "outputs": [
    {
     "data": {
      "text/plain": [
       "<__main__.Node at 0x20472031b00>"
      ]
     },
     "execution_count": 80,
     "metadata": {},
     "output_type": "execute_result"
    }
   ],
   "source": [
    "removeNth(a, 3)"
   ]
  },
  {
   "cell_type": "code",
   "execution_count": 133,
   "metadata": {
    "scrolled": true
   },
   "outputs": [
    {
     "name": "stdout",
     "output_type": "stream",
     "text": [
      "0\n",
      "1\n",
      "2\n",
      "3\n"
     ]
    }
   ],
   "source": [
    "a.printList()"
   ]
  },
  {
   "cell_type": "markdown",
   "metadata": {},
   "source": [
    "#### Q4) Check if a linked list has cycles"
   ]
  },
  {
   "cell_type": "code",
   "execution_count": 99,
   "metadata": {
    "collapsed": true
   },
   "outputs": [],
   "source": [
    "def hasCycle(llist):\n",
    "    fast = llist.root\n",
    "    slow = llist.root\n",
    "    while slow is not None or fast is not None:\n",
    "        if fast.next is not None:\n",
    "            slow = slow.next\n",
    "            fast = fast.next.next\n",
    "            if slow == fast:\n",
    "                return True\n",
    "        else:\n",
    "            return False\n",
    "    return False"
   ]
  },
  {
   "cell_type": "code",
   "execution_count": 134,
   "metadata": {
    "collapsed": true
   },
   "outputs": [],
   "source": [
    "a.root.next.next = a.root"
   ]
  },
  {
   "cell_type": "code",
   "execution_count": 135,
   "metadata": {
    "scrolled": true
   },
   "outputs": [
    {
     "data": {
      "text/plain": [
       "True"
      ]
     },
     "execution_count": 135,
     "metadata": {},
     "output_type": "execute_result"
    }
   ],
   "source": [
    "hasCycle(a)"
   ]
  },
  {
   "cell_type": "code",
   "execution_count": 142,
   "metadata": {
    "collapsed": true
   },
   "outputs": [],
   "source": [
    "def startofCycle(llist):\n",
    "    start = llist.root\n",
    "    fast = llist.root\n",
    "    slow = llist.root\n",
    "    if not hasCycle(llist):\n",
    "        return False\n",
    "    while slow is not None and fast is not None:\n",
    "        if fast.next is not None:\n",
    "            slow = slow.next\n",
    "            fast = fast.next.next\n",
    "            if slow == fast:\n",
    "                break\n",
    "    slow = start\n",
    "    while True:\n",
    "        if slow == fast:\n",
    "            return slow\n",
    "        slow = slow.next\n",
    "        fast = fast.next"
   ]
  },
  {
   "cell_type": "code",
   "execution_count": 143,
   "metadata": {},
   "outputs": [
    {
     "data": {
      "text/plain": [
       "0"
      ]
     },
     "execution_count": 143,
     "metadata": {},
     "output_type": "execute_result"
    }
   ],
   "source": [
    "startofCycle(a).val"
   ]
  }
 ],
 "metadata": {
  "kernelspec": {
   "display_name": "Python 3",
   "language": "python",
   "name": "python3"
  },
  "language_info": {
   "codemirror_mode": {
    "name": "ipython",
    "version": 3
   },
   "file_extension": ".py",
   "mimetype": "text/x-python",
   "name": "python",
   "nbconvert_exporter": "python",
   "pygments_lexer": "ipython3",
   "version": "3.6.2"
  }
 },
 "nbformat": 4,
 "nbformat_minor": 2
}
