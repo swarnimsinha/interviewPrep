{
 "cells": [
  {
   "cell_type": "code",
   "execution_count": 29,
   "metadata": {},
   "outputs": [],
   "source": [
    "from collections import Counter\n",
    "def customSort(arr):\n",
    "    arr = sorted(arr)\n",
    "    count = Counter(arr)\n",
    "    new_list = sorted(arr, key=count.get)\n",
    "    print('\\n'.join(str(x) for x in new_list))"
   ]
  },
  {
   "cell_type": "code",
   "execution_count": 31,
   "metadata": {},
   "outputs": [
    {
     "name": "stdout",
     "output_type": "stream",
     "text": [
      "3\n",
      "5\n",
      "4\n",
      "4\n",
      "6\n",
      "6\n"
     ]
    }
   ],
   "source": [
    "test = [3,6,6,4,4,5]\n",
    "customSort(test)"
   ]
  },
  {
   "cell_type": "code",
   "execution_count": 55,
   "metadata": {},
   "outputs": [],
   "source": [
    "def min_sum(n, p):\n",
    "    \n",
    "    dpTable = [0]\n",
    "\n",
    "    for i in range(1, n+1):\n",
    "        dpTable.append(float('inf'));\n",
    "\n",
    "    for i in range(1, n+1):\n",
    "        for j in range(len(p)):\n",
    "            if (p[j] <= i):\n",
    "                tmp = dpTable[i-p[j]]\n",
    "                if (tmp != float('inf')) and (tmp + 1 < dpTable[i]):\n",
    "                    dpTable[i] = tmp + 1\n",
    "\n",
    "    return dpTable[n]"
   ]
  },
  {
   "cell_type": "code",
   "execution_count": 56,
   "metadata": {},
   "outputs": [
    {
     "data": {
      "text/plain": [
       "1"
      ]
     },
     "execution_count": 56,
     "metadata": {},
     "output_type": "execute_result"
    }
   ],
   "source": [
    "min_sum(14, [1,2,7,7,14])"
   ]
  }
 ],
 "metadata": {
  "kernelspec": {
   "display_name": "Python 3",
   "language": "python",
   "name": "python3"
  },
  "language_info": {
   "codemirror_mode": {
    "name": "ipython",
    "version": 3
   },
   "file_extension": ".py",
   "mimetype": "text/x-python",
   "name": "python",
   "nbconvert_exporter": "python",
   "pygments_lexer": "ipython3",
   "version": "3.6.2"
  }
 },
 "nbformat": 4,
 "nbformat_minor": 2
}
