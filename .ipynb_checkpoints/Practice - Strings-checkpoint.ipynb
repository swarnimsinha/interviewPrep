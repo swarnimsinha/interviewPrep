{
 "cells": [
  {
   "cell_type": "markdown",
   "metadata": {},
   "source": [
    "#### Q1) Find the first non-repeated character in a String"
   ]
  },
  {
   "cell_type": "code",
   "execution_count": 80,
   "metadata": {
    "collapsed": true
   },
   "outputs": [],
   "source": [
    "# from collections import Counter\n",
    "def firstNonRepeated(string):\n",
    "    stringDict = {}\n",
    "    for i in range(len(string)):\n",
    "        if string[i] not in stringDict:\n",
    "            stringDict[string[i]] = (0, i)\n",
    "        current = stringDict[string[i]]\n",
    "        temp = current[0] + 1\n",
    "        stringDict[string[i]] = (temp, i)\n",
    "#         stringDict[string[i]] = current\n",
    "    minIndex = (float('inf'), float('inf'))\n",
    "    for key in stringDict:\n",
    "        count, index = stringDict[key]\n",
    "        if count == 1:\n",
    "            if index < minIndex[0]:\n",
    "                minIndex = (index, key)\n",
    "    if minIndex[1] == float('inf'):\n",
    "        return None\n",
    "    return minIndex[1]"
   ]
  },
  {
   "cell_type": "code",
   "execution_count": 85,
   "metadata": {},
   "outputs": [
    {
     "data": {
      "text/plain": [
       "'d'"
      ]
     },
     "execution_count": 85,
     "metadata": {},
     "output_type": "execute_result"
    }
   ],
   "source": [
    "firstNonRepeated('abcbcad')"
   ]
  },
  {
   "cell_type": "markdown",
   "metadata": {},
   "source": [
    "#### Q2) Reverse a String iteratively and recursively"
   ]
  },
  {
   "cell_type": "code",
   "execution_count": 92,
   "metadata": {},
   "outputs": [
    {
     "data": {
      "text/plain": [
       "'ytisrevinU notsoB'"
      ]
     },
     "execution_count": 92,
     "metadata": {},
     "output_type": "execute_result"
    }
   ],
   "source": [
    "# interatively\n",
    "def reverseString(string):\n",
    "    string = list(string)\n",
    "    l,r = 0,len(string)-1\n",
    "    while l <= r:\n",
    "        string[l], string[r] = string[r], string[l]\n",
    "        l += 1\n",
    "        r -= 1\n",
    "    return ''.join(x for x in string)\n",
    "\n",
    "reverseString('Boston University')"
   ]
  },
  {
   "cell_type": "code",
   "execution_count": 97,
   "metadata": {},
   "outputs": [
    {
     "data": {
      "text/plain": [
       "'ytisrevinU notsoB'"
      ]
     },
     "execution_count": 97,
     "metadata": {},
     "output_type": "execute_result"
    }
   ],
   "source": [
    "ans = []\n",
    "def reverseString(string, index):\n",
    "    string = list(string)\n",
    "    if index < 0:\n",
    "        return\n",
    "    else:\n",
    "        ans.append(string[index])\n",
    "        reverseString(string, index - 1)\n",
    "\n",
    "reverseString('Boston University', len('Boston University') - 1)\n",
    "''.join(x for x in ans)"
   ]
  },
  {
   "cell_type": "markdown",
   "metadata": {},
   "source": [
    "#### Q3) Determine if 2 Strings are anagrams"
   ]
  },
  {
   "cell_type": "code",
   "execution_count": 103,
   "metadata": {},
   "outputs": [
    {
     "data": {
      "text/plain": [
       "True"
      ]
     },
     "execution_count": 103,
     "metadata": {},
     "output_type": "execute_result"
    }
   ],
   "source": [
    "from collections import Counter\n",
    "def isAnagram(string1, string2):\n",
    "    return Counter(string1) == Counter(string2)\n",
    "isAnagram('test', 'stet')"
   ]
  },
  {
   "cell_type": "markdown",
   "metadata": {},
   "source": [
    "#### Q4) Check if String is a palindrome"
   ]
  },
  {
   "cell_type": "code",
   "execution_count": 112,
   "metadata": {
    "collapsed": true
   },
   "outputs": [],
   "source": [
    "def isPalindrome(string):\n",
    "    for i in range(len(string)//2):\n",
    "        if string[i] != string[len(string)-1 - i]:\n",
    "            return False\n",
    "    return True"
   ]
  },
  {
   "cell_type": "code",
   "execution_count": 115,
   "metadata": {
    "scrolled": true
   },
   "outputs": [
    {
     "data": {
      "text/plain": [
       "True"
      ]
     },
     "execution_count": 115,
     "metadata": {},
     "output_type": "execute_result"
    }
   ],
   "source": [
    "isPalindrome('sracecars')"
   ]
  },
  {
   "cell_type": "markdown",
   "metadata": {},
   "source": [
    "#### Q5) Check if a String is composed of all unique characters"
   ]
  },
  {
   "cell_type": "code",
   "execution_count": 118,
   "metadata": {},
   "outputs": [
    {
     "data": {
      "text/plain": [
       "True"
      ]
     },
     "execution_count": 118,
     "metadata": {},
     "output_type": "execute_result"
    }
   ],
   "source": [
    "def isUnique(string):\n",
    "    stringSet = set()\n",
    "    for val in string:\n",
    "        if val in stringSet:\n",
    "            return False\n",
    "        stringSet.add(val)\n",
    "    return True\n",
    "isUnique('tes')"
   ]
  },
  {
   "cell_type": "markdown",
   "metadata": {},
   "source": [
    "#### Q6) Determine if a String is an int or a double"
   ]
  },
  {
   "cell_type": "code",
   "execution_count": 125,
   "metadata": {},
   "outputs": [
    {
     "data": {
      "text/plain": [
       "'int'"
      ]
     },
     "execution_count": 125,
     "metadata": {},
     "output_type": "execute_result"
    }
   ],
   "source": [
    "def doubleOrInt(string):\n",
    "    return 'double' if '.' in string else 'int'\n",
    "doubleOrInt('1')"
   ]
  },
  {
   "cell_type": "markdown",
   "metadata": {},
   "source": [
    "#### Q7) Given a string S, you are allowed to convert it to a palindrome by adding characters in front of it. Find and return the shortest palindrome you can find by performing this transformation."
   ]
  },
  {
   "cell_type": "code",
   "execution_count": 146,
   "metadata": {},
   "outputs": [
    {
     "data": {
      "text/plain": [
       "'cardrac'"
      ]
     },
     "execution_count": 146,
     "metadata": {},
     "output_type": "execute_result"
    }
   ],
   "source": [
    "def shortestPalindrome(string):\n",
    "    index = 0\n",
    "    for i in range(len(string)):\n",
    "        if string[i:] == string[i:][::-1]:\n",
    "            index = i\n",
    "            break\n",
    "    return string[:index] + string[index:] + string[:index][::-1]\n",
    "shortestPalindrome('cardr')"
   ]
  },
  {
   "cell_type": "markdown",
   "metadata": {},
   "source": [
    "#### Q8) HARD: Print all permutations of a String"
   ]
  },
  {
   "cell_type": "code",
   "execution_count": 180,
   "metadata": {},
   "outputs": [
    {
     "name": "stdout",
     "output_type": "stream",
     "text": [
      "['23']\n",
      "['23', '32']\n",
      "['123', '132']\n",
      "['13']\n",
      "['13', '31']\n",
      "['123', '132', '213', '231']\n",
      "['12']\n",
      "['12', '21']\n",
      "['123', '132', '213', '231', '312', '321']\n",
      "123 132 213 231 312 321\n"
     ]
    }
   ],
   "source": [
    "def getPermutations(string):\n",
    "    if len(string) == 1:\n",
    "        return [string]\n",
    "    result = []\n",
    "    for key, val in enumerate(string):\n",
    "        result += [val + p for p in getPermutations(string[:key] + string[key+1:])]\n",
    "        print(result)\n",
    "    return result\n",
    "\n",
    "def printPermutations(string):\n",
    "    print (' '.join(x for x in getPermutations(string)))\n",
    "printPermutations('123')"
   ]
  },
  {
   "cell_type": "code",
   "execution_count": 185,
   "metadata": {
    "collapsed": true
   },
   "outputs": [],
   "source": [
    "def getPermutatins(string):\n",
    "    return getHelper(string, '')\n",
    "\n",
    "def getHelper(string, chosen):\n",
    "    if len(string) == 0:\n",
    "        print(chosen)\n",
    "        return chosen\n",
    "    for key, val in enumerate(string):\n",
    "        chosen += val\n",
    "        string = string[:key] + string[key:]\n",
    "        getHelper(string, chosen)\n",
    "        chosen = chosen[:-1]\n",
    "        string = string[:key] + string[key] + string[key+1]"
   ]
  },
  {
   "cell_type": "code",
   "execution_count": 186,
   "metadata": {},
   "outputs": [
    {
     "name": "stderr",
     "output_type": "stream",
     "text": [
      "ERROR:root:Internal Python error in the inspect module.\n",
      "Below is the traceback from this internal error.\n",
      "\n"
     ]
    },
    {
     "name": "stdout",
     "output_type": "stream",
     "text": [
      "Traceback (most recent call last):\n",
      "  File \"C:\\Users\\swarn\\Anaconda3\\lib\\site-packages\\IPython\\core\\interactiveshell.py\", line 2862, in run_code\n",
      "    exec(code_obj, self.user_global_ns, self.user_ns)\n",
      "  File \"<ipython-input-186-43d55c96d91f>\", line 1, in <module>\n",
      "    getPermutatins('abc')\n",
      "  File \"<ipython-input-185-80bcf441bca9>\", line 2, in getPermutatins\n",
      "    return getHelper(string, '')\n",
      "  File \"<ipython-input-185-80bcf441bca9>\", line 12, in getHelper\n",
      "    getHelper(string, chosen)\n",
      "  File \"<ipython-input-185-80bcf441bca9>\", line 12, in getHelper\n",
      "    getHelper(string, chosen)\n",
      "  File \"<ipython-input-185-80bcf441bca9>\", line 12, in getHelper\n",
      "    getHelper(string, chosen)\n",
      "  [Previous line repeated 1966 more times]\n",
      "  File \"<ipython-input-185-80bcf441bca9>\", line 5, in getHelper\n",
      "    if len(string) == 0:\n",
      "RecursionError: maximum recursion depth exceeded in comparison\n",
      "\n",
      "During handling of the above exception, another exception occurred:\n",
      "\n",
      "Traceback (most recent call last):\n",
      "  File \"C:\\Users\\swarn\\Anaconda3\\lib\\site-packages\\IPython\\core\\interactiveshell.py\", line 1806, in showtraceback\n",
      "    stb = value._render_traceback_()\n",
      "AttributeError: 'RecursionError' object has no attribute '_render_traceback_'\n",
      "\n",
      "During handling of the above exception, another exception occurred:\n",
      "\n",
      "Traceback (most recent call last):\n",
      "  File \"C:\\Users\\swarn\\Anaconda3\\lib\\genericpath.py\", line 19, in exists\n",
      "    os.stat(path)\n",
      "OSError: [WinError 123] The filename, directory name, or volume label syntax is incorrect: '<ipython-input-185-80bcf441bca9>'\n",
      "\n",
      "During handling of the above exception, another exception occurred:\n",
      "\n",
      "Traceback (most recent call last):\n",
      "  File \"C:\\Users\\swarn\\Anaconda3\\lib\\site-packages\\IPython\\core\\ultratb.py\", line 1090, in get_records\n",
      "    return _fixed_getinnerframes(etb, number_of_lines_of_context, tb_offset)\n",
      "  File \"C:\\Users\\swarn\\Anaconda3\\lib\\site-packages\\IPython\\core\\ultratb.py\", line 311, in wrapped\n",
      "    return f(*args, **kwargs)\n",
      "  File \"C:\\Users\\swarn\\Anaconda3\\lib\\site-packages\\IPython\\core\\ultratb.py\", line 345, in _fixed_getinnerframes\n",
      "    records = fix_frame_records_filenames(inspect.getinnerframes(etb, context))\n",
      "  File \"C:\\Users\\swarn\\Anaconda3\\lib\\inspect.py\", line 1480, in getinnerframes\n",
      "    frameinfo = (tb.tb_frame,) + getframeinfo(tb, context)\n",
      "  File \"C:\\Users\\swarn\\Anaconda3\\lib\\inspect.py\", line 1438, in getframeinfo\n",
      "    filename = getsourcefile(frame) or getfile(frame)\n",
      "  File \"C:\\Users\\swarn\\Anaconda3\\lib\\inspect.py\", line 690, in getsourcefile\n",
      "    if os.path.exists(filename):\n",
      "  File \"C:\\Users\\swarn\\Anaconda3\\lib\\genericpath.py\", line 19, in exists\n",
      "    os.stat(path)\n",
      "KeyboardInterrupt\n"
     ]
    },
    {
     "ename": "RecursionError",
     "evalue": "maximum recursion depth exceeded in comparison",
     "output_type": "error",
     "traceback": [
      "\u001b[1;31m---------------------------------------------------------------------------\u001b[0m"
     ]
    }
   ],
   "source": [
    "getPermutatins('abc')"
   ]
  },
  {
   "cell_type": "markdown",
   "metadata": {},
   "source": [
    "#### Q9) Given a single-line text String and a maximum width value, write the function 'String justify(String text, int maxWidth)' that formats the input text using full-justification, i.e., extra spaces on each line are equally distributed between the words; the first word on each line is flushed left and the last word on each line is flushed right"
   ]
  },
  {
   "cell_type": "code",
   "execution_count": null,
   "metadata": {
    "collapsed": true
   },
   "outputs": [],
   "source": []
  }
 ],
 "metadata": {
  "kernelspec": {
   "display_name": "Python 3",
   "language": "python",
   "name": "python3"
  },
  "language_info": {
   "codemirror_mode": {
    "name": "ipython",
    "version": 3
   },
   "file_extension": ".py",
   "mimetype": "text/x-python",
   "name": "python",
   "nbconvert_exporter": "python",
   "pygments_lexer": "ipython3",
   "version": "3.6.2"
  }
 },
 "nbformat": 4,
 "nbformat_minor": 2
}
