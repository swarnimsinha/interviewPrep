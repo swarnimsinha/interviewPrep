{
 "cells": [
  {
   "cell_type": "markdown",
   "metadata": {},
   "source": [
    "#### Q1) Find the first non-repeated character in a String"
   ]
  },
  {
   "cell_type": "code",
   "execution_count": 220,
   "metadata": {
    "collapsed": true
   },
   "outputs": [],
   "source": [
    "# from collections import Counter\n",
    "def firstNonRepeated(string):\n",
    "    stringDict = {}\n",
    "    for i in range(len(string)):\n",
    "        if string[i] not in stringDict:\n",
    "            stringDict[string[i]] = (0, i)\n",
    "        current = stringDict[string[i]]\n",
    "        temp = current[0] + 1\n",
    "        stringDict[string[i]] = (temp, i)\n",
    "#         stringDict[string[i]] = current\n",
    "    minIndex = (float('inf'), float('inf'))\n",
    "    for key in stringDict:\n",
    "        count, index = stringDict[key]\n",
    "        if count == 1:\n",
    "            if index < minIndex[0]:\n",
    "                minIndex = (index, key)\n",
    "    if minIndex[1] == float('inf'):\n",
    "        return None\n",
    "    return minIndex[1]"
   ]
  },
  {
   "cell_type": "code",
   "execution_count": 221,
   "metadata": {},
   "outputs": [
    {
     "data": {
      "text/plain": [
       "'d'"
      ]
     },
     "execution_count": 221,
     "metadata": {},
     "output_type": "execute_result"
    }
   ],
   "source": [
    "firstNonRepeated('abcbcad')"
   ]
  },
  {
   "cell_type": "markdown",
   "metadata": {},
   "source": [
    "#### Q2) Reverse a String iteratively and recursively"
   ]
  },
  {
   "cell_type": "code",
   "execution_count": 222,
   "metadata": {},
   "outputs": [
    {
     "data": {
      "text/plain": [
       "'ytisrevinU notsoB'"
      ]
     },
     "execution_count": 222,
     "metadata": {},
     "output_type": "execute_result"
    }
   ],
   "source": [
    "# interatively\n",
    "def reverseString(string):\n",
    "    string = list(string)\n",
    "    l,r = 0,len(string)-1\n",
    "    while l <= r:\n",
    "        string[l], string[r] = string[r], string[l]\n",
    "        l += 1\n",
    "        r -= 1\n",
    "    return ''.join(x for x in string)\n",
    "\n",
    "reverseString('Boston University')"
   ]
  },
  {
   "cell_type": "code",
   "execution_count": 223,
   "metadata": {},
   "outputs": [
    {
     "data": {
      "text/plain": [
       "'ytisrevinU notsoB'"
      ]
     },
     "execution_count": 223,
     "metadata": {},
     "output_type": "execute_result"
    }
   ],
   "source": [
    "ans = []\n",
    "def reverseString(string, index):\n",
    "    string = list(string)\n",
    "    if index < 0:\n",
    "        return\n",
    "    else:\n",
    "        ans.append(string[index])\n",
    "        reverseString(string, index - 1)\n",
    "\n",
    "reverseString('Boston University', len('Boston University') - 1)\n",
    "''.join(x for x in ans)"
   ]
  },
  {
   "cell_type": "markdown",
   "metadata": {},
   "source": [
    "#### Q3) Determine if 2 Strings are anagrams"
   ]
  },
  {
   "cell_type": "code",
   "execution_count": 224,
   "metadata": {},
   "outputs": [
    {
     "data": {
      "text/plain": [
       "True"
      ]
     },
     "execution_count": 224,
     "metadata": {},
     "output_type": "execute_result"
    }
   ],
   "source": [
    "from collections import Counter\n",
    "def isAnagram(string1, string2):\n",
    "    return Counter(string1) == Counter(string2)\n",
    "isAnagram('test', 'stet')"
   ]
  },
  {
   "cell_type": "markdown",
   "metadata": {},
   "source": [
    "#### Q4) Check if String is a palindrome"
   ]
  },
  {
   "cell_type": "code",
   "execution_count": 227,
   "metadata": {},
   "outputs": [
    {
     "data": {
      "text/plain": [
       "True"
      ]
     },
     "execution_count": 227,
     "metadata": {},
     "output_type": "execute_result"
    }
   ],
   "source": [
    "def isPalindrome(string):\n",
    "    for i in range(len(string)//2):\n",
    "        if string[i] != string[len(string)-1 - i]:\n",
    "            return False\n",
    "    return True\n",
    "isPalindrome('sracecars')"
   ]
  },
  {
   "cell_type": "markdown",
   "metadata": {},
   "source": [
    "#### Q5) Check if a String is composed of all unique characters"
   ]
  },
  {
   "cell_type": "code",
   "execution_count": 228,
   "metadata": {},
   "outputs": [
    {
     "data": {
      "text/plain": [
       "True"
      ]
     },
     "execution_count": 228,
     "metadata": {},
     "output_type": "execute_result"
    }
   ],
   "source": [
    "def isUnique(string):\n",
    "    stringSet = set()\n",
    "    for val in string:\n",
    "        if val in stringSet:\n",
    "            return False\n",
    "        stringSet.add(val)\n",
    "    return True\n",
    "isUnique('tes')"
   ]
  },
  {
   "cell_type": "markdown",
   "metadata": {},
   "source": [
    "#### Q6) Determine if a String is an int or a double"
   ]
  },
  {
   "cell_type": "code",
   "execution_count": 229,
   "metadata": {},
   "outputs": [
    {
     "data": {
      "text/plain": [
       "'int'"
      ]
     },
     "execution_count": 229,
     "metadata": {},
     "output_type": "execute_result"
    }
   ],
   "source": [
    "def doubleOrInt(string):\n",
    "    return 'double' if '.' in string else 'int'\n",
    "doubleOrInt('1')"
   ]
  },
  {
   "cell_type": "markdown",
   "metadata": {},
   "source": [
    "#### Q7) Given a string S, you are allowed to convert it to a palindrome by adding characters in front of it. Find and return the shortest palindrome you can find by performing this transformation."
   ]
  },
  {
   "cell_type": "code",
   "execution_count": 230,
   "metadata": {},
   "outputs": [
    {
     "data": {
      "text/plain": [
       "'cardrac'"
      ]
     },
     "execution_count": 230,
     "metadata": {},
     "output_type": "execute_result"
    }
   ],
   "source": [
    "def shortestPalindrome(string):\n",
    "    index = 0\n",
    "    for i in range(len(string)):\n",
    "        if string[i:] == string[i:][::-1]:\n",
    "            index = i\n",
    "            break\n",
    "    return string[:index] + string[index:] + string[:index][::-1]\n",
    "shortestPalindrome('cardr')"
   ]
  },
  {
   "cell_type": "markdown",
   "metadata": {},
   "source": [
    "#### Q8) HARD: Print all permutations of a String"
   ]
  },
  {
   "cell_type": "code",
   "execution_count": 232,
   "metadata": {},
   "outputs": [
    {
     "name": "stdout",
     "output_type": "stream",
     "text": [
      "123 132 213 231 312 321\n"
     ]
    }
   ],
   "source": [
    "def getPermutations(string):\n",
    "    if len(string) == 1:\n",
    "        return [string]\n",
    "    result = []\n",
    "    for key, val in enumerate(string):\n",
    "        result += [val + p for p in getPermutations(string[:key] + string[key+1:])]\n",
    "    return result\n",
    "\n",
    "def printPermutations(string):\n",
    "    print (' '.join(x for x in getPermutations(string)))\n",
    "printPermutations('123')"
   ]
  },
  {
   "cell_type": "code",
   "execution_count": 1,
   "metadata": {},
   "outputs": [
    {
     "name": "stdout",
     "output_type": "stream",
     "text": [
      "123\n",
      "132\n",
      "213\n",
      "231\n",
      "312\n",
      "321\n"
     ]
    }
   ],
   "source": [
    "def getPermutatins(string):\n",
    "    return getHelper(string, '')\n",
    "\n",
    "def getHelper(string, chosen):\n",
    "    if len(string) == 0:\n",
    "        print(chosen)\n",
    "        return chosen\n",
    "    for key, val in enumerate(string):\n",
    "        chosen += val\n",
    "        string = string[:key] + string[key+1:]\n",
    "        getHelper(string, chosen)\n",
    "        string = string[:key] + chosen[-1] + string[key:]\n",
    "        chosen = chosen[:-1]\n",
    "getPermutatins('123')"
   ]
  },
  {
   "cell_type": "markdown",
   "metadata": {},
   "source": [
    "#### Q9) Given a single-line text String and a maximum width value, write the function 'String justify(String text, int maxWidth)' that formats the input text using full-justification, i.e., extra spaces on each line are equally distributed between the words; the first word on each line is flushed left and the last word on each line is flushed right"
   ]
  },
  {
   "cell_type": "code",
   "execution_count": 237,
   "metadata": {
    "collapsed": true
   },
   "outputs": [],
   "source": [
    "def stringJustify(string, maxWidth):\n",
    "    pass"
   ]
  }
 ],
 "metadata": {
  "kernelspec": {
   "display_name": "Python 3",
   "language": "python",
   "name": "python3"
  },
  "language_info": {
   "codemirror_mode": {
    "name": "ipython",
    "version": 3
   },
   "file_extension": ".py",
   "mimetype": "text/x-python",
   "name": "python",
   "nbconvert_exporter": "python",
   "pygments_lexer": "ipython3",
   "version": "3.6.2"
  }
 },
 "nbformat": 4,
 "nbformat_minor": 2
}
