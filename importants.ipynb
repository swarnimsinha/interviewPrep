{
 "cells": [
  {
   "cell_type": "markdown",
   "metadata": {},
   "source": [
    "- strtok implementation\n",
    "- given set of characters duplicates possible, and given dictionary (list of words). Find longest word from dictionary that can be made from given characters. How will you do it if '*' (matches one wild character) is also included?\n",
    "- Access card system design\n",
    "- Implement a stack with find_min api as well.\n",
    "- Given set of points, find line with max points… \n",
    "- All permutations of a string\n",
    "- Text Justification\n",
    "- Distance between two nodes in BST and Tree\n",
    "- Max distance between two nodes in a BST\n",
    "- Construct a BST given the pre-order and in-order traversal Strings and also post-order and in-order\n",
    "- Implement min heap and convert to max heap\n",
    "- Implement stack using queue"
   ]
  },
  {
   "cell_type": "code",
   "execution_count": 41,
   "metadata": {
    "collapsed": true
   },
   "outputs": [],
   "source": [
    "def createPermutations(string):\n",
    "    return createPermutationHelper(string, '', [])\n",
    "\n",
    "def createPermutationHelper(string, sequence, ans):\n",
    "    if len(string) == 0:\n",
    "        ans.append(sequence)\n",
    "        return\n",
    "    for key,val in enumerate(string):\n",
    "        sequence += val\n",
    "        string = string[:key] + string[key+1:]\n",
    "        createPermutationHelper(string, sequence, ans)\n",
    "        string = string[:key] + val + string[key:]\n",
    "        sequence = sequence[:-1]\n",
    "    return ans"
   ]
  },
  {
   "cell_type": "code",
   "execution_count": 43,
   "metadata": {},
   "outputs": [
    {
     "data": {
      "text/plain": [
       "['123', '132', '213', '231', '312', '321']"
      ]
     },
     "execution_count": 43,
     "metadata": {},
     "output_type": "execute_result"
    }
   ],
   "source": [
    "createPermutations('123')"
   ]
  },
  {
   "cell_type": "code",
   "execution_count": 59,
   "metadata": {
    "collapsed": true
   },
   "outputs": [],
   "source": [
    "def powerset(string):\n",
    "    ans = [[]]\n",
    "    for element in string:\n",
    "        ans += [x + [element] for x in ans]\n",
    "        \n",
    "#     for element in string:\n",
    "#         for x in ans:\n",
    "#             ans.append(x + [element])\n",
    "    return ans"
   ]
  },
  {
   "cell_type": "code",
   "execution_count": 69,
   "metadata": {},
   "outputs": [
    {
     "data": {
      "text/plain": [
       "[[], ['a'], ['b'], ['a', 'b'], ['c'], ['a', 'c'], ['b', 'c'], ['a', 'b', 'c']]"
      ]
     },
     "execution_count": 69,
     "metadata": {},
     "output_type": "execute_result"
    }
   ],
   "source": [
    "powerset('abc')"
   ]
  }
 ],
 "metadata": {
  "kernelspec": {
   "display_name": "Python 3",
   "language": "python",
   "name": "python3"
  },
  "language_info": {
   "codemirror_mode": {
    "name": "ipython",
    "version": 3
   },
   "file_extension": ".py",
   "mimetype": "text/x-python",
   "name": "python",
   "nbconvert_exporter": "python",
   "pygments_lexer": "ipython3",
   "version": "3.6.2"
  }
 },
 "nbformat": 4,
 "nbformat_minor": 2
}
