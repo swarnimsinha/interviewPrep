{
 "cells": [
  {
   "cell_type": "markdown",
   "metadata": {},
   "source": [
    "- strtok implementation\n",
    "- given set of characters duplicates possible, and given dictionary (list of words). Find longest word from dictionary that can be made from given characters. How will you do it if '*' (matches one wild character) is also included?\n",
    "- Access card system design\n",
    "- Implement a stack with find_min api as well.\n",
    "- Given set of points, find line with max points… \n",
    "- All permutations of a string\n",
    "- Text Justification\n",
    "- Distance between two nodes in BST and Tree\n",
    "- Max distance between two nodes in a BST\n",
    "- Construct a BST given the pre-order and in-order traversal Strings"
   ]
  }
 ],
 "metadata": {
  "kernelspec": {
   "display_name": "Python 3",
   "language": "python",
   "name": "python3"
  },
  "language_info": {
   "codemirror_mode": {
    "name": "ipython",
    "version": 3
   },
   "file_extension": ".py",
   "mimetype": "text/x-python",
   "name": "python",
   "nbconvert_exporter": "python",
   "pygments_lexer": "ipython3",
   "version": "3.6.2"
  }
 },
 "nbformat": 4,
 "nbformat_minor": 2
}
