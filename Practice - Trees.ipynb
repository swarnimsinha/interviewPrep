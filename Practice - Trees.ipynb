{
 "cells": [
  {
   "cell_type": "markdown",
   "metadata": {},
   "source": [
    "#### Q1) Implement a BST with insert and delete functions"
   ]
  },
  {
   "cell_type": "code",
   "execution_count": 372,
   "metadata": {
    "collapsed": true
   },
   "outputs": [],
   "source": [
    "class Node():\n",
    "    def __init__(self, val):\n",
    "        self.val = val\n",
    "        self.left = None\n",
    "        self.right = None"
   ]
  },
  {
   "cell_type": "code",
   "execution_count": 507,
   "metadata": {
    "collapsed": true
   },
   "outputs": [],
   "source": [
    "class Tree():\n",
    "    def __init__(self):\n",
    "        self.root = None\n",
    "    \n",
    "    def insert(self, val):\n",
    "        if self.root is None:\n",
    "            self.root = Node(val)\n",
    "        else:\n",
    "            self._insert(self.root, val)\n",
    "    \n",
    "    def _insert(self, node, val):\n",
    "        if val < node.val:\n",
    "            if node.left is None:\n",
    "                node.left = Node(val)\n",
    "            else:\n",
    "                self._insert(node.left, val)\n",
    "        else:\n",
    "            if node.right is None:\n",
    "                node.right = Node(val)\n",
    "            else:\n",
    "                self._insert(node.right, val)\n",
    "                \n",
    "    def findElement(self, node, element):\n",
    "        if node is None:\n",
    "            print('not found')\n",
    "            return\n",
    "        if node.val == element:\n",
    "            print('found')\n",
    "            return node\n",
    "        elif element > node.val:\n",
    "            return self.findElement(node.right, element)\n",
    "        else:\n",
    "            return self.findElement(node.left, element)\n",
    "        \n",
    "    def minValue(self, node):\n",
    "        while node.left is not None:\n",
    "            node = node.left\n",
    "        return node\n",
    "            \n",
    "    def delete(self, node, val):\n",
    "        if node is None:\n",
    "            return node\n",
    "        if val < node.val:\n",
    "            node.left = self.delete(node.left, val)\n",
    "        elif val > node.val:\n",
    "            node.right = self.delete(node.right, val)\n",
    "        else:\n",
    "            if node.left is None:\n",
    "                temp = node.right\n",
    "                node = None\n",
    "                return temp\n",
    "            elif node.right is None:\n",
    "                temp = node.left\n",
    "                node = None\n",
    "                return temp\n",
    "            temp = self.minValue(node.right)\n",
    "            node.val = temp.val\n",
    "            node.right = self.delete(temp, temp.val)\n",
    "        return node\n",
    "    \n",
    "    def inorder(self, node):\n",
    "        if node is not None:\n",
    "            self.inorder(node.left)\n",
    "            print(node.val)\n",
    "            self.inorder(node.right)\n",
    "            \n",
    "    def preorder(self, node):\n",
    "        if node is not None:\n",
    "            print(node.val)\n",
    "            self.preorder(node.left)\n",
    "            self.preorder(node.right)\n",
    "            \n",
    "    def postorder(self, node):\n",
    "        if node is not None:\n",
    "            self.postorder(node.left)\n",
    "            self.postorder(node.right)\n",
    "            print(node.val)"
   ]
  },
  {
   "cell_type": "code",
   "execution_count": 508,
   "metadata": {},
   "outputs": [
    {
     "name": "stdout",
     "output_type": "stream",
     "text": [
      "1\n",
      "2\n",
      "3\n",
      "5\n",
      "6\n",
      "7\n",
      "9\n"
     ]
    }
   ],
   "source": [
    "myTree = Tree()\n",
    "myTree.insert(5)\n",
    "myTree.insert(3)\n",
    "myTree.insert(1)\n",
    "myTree.insert(2)\n",
    "myTree.insert(7)\n",
    "myTree.insert(6)\n",
    "myTree.insert(9)\n",
    "myTree.inorder(myTree.root)"
   ]
  },
  {
   "cell_type": "code",
   "execution_count": 375,
   "metadata": {},
   "outputs": [
    {
     "name": "stdout",
     "output_type": "stream",
     "text": [
      "1\n",
      "3\n",
      "5\n",
      "6\n",
      "7\n"
     ]
    }
   ],
   "source": [
    "myTree.delete(myTree.root, 5)\n",
    "myTree.inorder(myTree.root)"
   ]
  },
  {
   "cell_type": "markdown",
   "metadata": {},
   "source": [
    "#### Q2) Print a tree using BFS and DFS"
   ]
  },
  {
   "cell_type": "code",
   "execution_count": 376,
   "metadata": {},
   "outputs": [
    {
     "name": "stdout",
     "output_type": "stream",
     "text": [
      "5\n",
      "7\n",
      "6\n",
      "1\n",
      "3\n"
     ]
    }
   ],
   "source": [
    "from collections import deque\n",
    "def printBFS(tree):\n",
    "    queue = deque([tree.root])\n",
    "    while queue:\n",
    "        node = queue.pop()\n",
    "        if node is not None:\n",
    "            queue.append(node.left)\n",
    "            queue.append(node.right)\n",
    "            print(node.val)\n",
    "    return\n",
    "printBFS(myTree)"
   ]
  },
  {
   "cell_type": "markdown",
   "metadata": {},
   "source": [
    "#### Q3) Write a function that determines if a tree is a BST"
   ]
  },
  {
   "cell_type": "code",
   "execution_count": 377,
   "metadata": {},
   "outputs": [
    {
     "data": {
      "text/plain": [
       "False"
      ]
     },
     "execution_count": 377,
     "metadata": {},
     "output_type": "execute_result"
    }
   ],
   "source": [
    "# naive way, save all the elements inorder in an array\n",
    "# check if the elements are all sorted\n",
    "array = []\n",
    "def isBST(tree):\n",
    "    isBST_helper(root)\n",
    "    return array == sorted(array)\n",
    "\n",
    "def isBST_helper(node):\n",
    "    if node is not None:\n",
    "        isBST_helper(node.left)\n",
    "        array.append(node.val)\n",
    "        isBST_helper(node.right)\n",
    "\n",
    "root = Node(4) \n",
    "root.left = Node(2) \n",
    "root.right = Node(5) \n",
    "root.left.left = Node(1) \n",
    "root.left.right = Node(7)\n",
    "\n",
    "isBST(root)"
   ]
  },
  {
   "cell_type": "code",
   "execution_count": 378,
   "metadata": {},
   "outputs": [
    {
     "data": {
      "text/plain": [
       "True"
      ]
     },
     "execution_count": 378,
     "metadata": {},
     "output_type": "execute_result"
    }
   ],
   "source": [
    "def isBST(tree):\n",
    "    return isBstHelper(root, float('-inf'), float('inf'))\n",
    "\n",
    "def isBstHelper(node, minVal, maxVal):\n",
    "    if node is None:\n",
    "        return True\n",
    "    if minVal <= node.val < maxVal:\n",
    "        return isBstHelper(node.left, minVal, node.val) & isBstHelper(node.right, node.val, maxVal)\n",
    "    return False\n",
    "\n",
    "root = Node(4) \n",
    "root.left = Node(2) \n",
    "root.right = Node(5) \n",
    "root.left.left = Node(1) \n",
    "root.left.right = Node(3)\n",
    "\n",
    "isBST(root)"
   ]
  },
  {
   "cell_type": "markdown",
   "metadata": {},
   "source": [
    "#### Q4) Find the smallest element in a BST"
   ]
  },
  {
   "cell_type": "code",
   "execution_count": 379,
   "metadata": {},
   "outputs": [
    {
     "data": {
      "text/plain": [
       "(<__main__.Node at 0x1e68a175e10>, 1)"
      ]
     },
     "execution_count": 379,
     "metadata": {},
     "output_type": "execute_result"
    }
   ],
   "source": [
    "def smallestBst(tree):\n",
    "    node = tree.root\n",
    "    while node.left is not None:\n",
    "        node = node.left\n",
    "    return node, node.val\n",
    "\n",
    "smallestBst(myTree)"
   ]
  },
  {
   "cell_type": "markdown",
   "metadata": {},
   "source": [
    "#### Q5) Find the 2nd largest number in a BST"
   ]
  },
  {
   "cell_type": "code",
   "execution_count": 380,
   "metadata": {
    "collapsed": true
   },
   "outputs": [],
   "source": [
    "def secondLargest(tree):\n",
    "    if tree.root is None:\n",
    "        return None\n",
    "    parent = tree.root\n",
    "    if parent.left is None:\n",
    "        return parent\n",
    "    return secondLargestHelper(parent.left, parent)\n",
    "\n",
    "def secondLargestHelper(node, parent):\n",
    "    while node.left is not None:\n",
    "        parent = node\n",
    "        node = node.left\n",
    "    if node.right is None:\n",
    "        return parent, parent.val\n",
    "    node = node.right\n",
    "    while node.left is not None:\n",
    "        node = node.left\n",
    "    return node, node.val"
   ]
  },
  {
   "cell_type": "code",
   "execution_count": 381,
   "metadata": {},
   "outputs": [
    {
     "data": {
      "text/plain": [
       "(<__main__.Node at 0x1e68a1759b0>, 3)"
      ]
     },
     "execution_count": 381,
     "metadata": {},
     "output_type": "execute_result"
    }
   ],
   "source": [
    "secondLargest(myTree)"
   ]
  },
  {
   "cell_type": "markdown",
   "metadata": {},
   "source": [
    "#### Q6) Given a binary tree which is a sum tree (child nodes add to parent), write an algorithm to determine whether the tree is a valid sum tree"
   ]
  },
  {
   "cell_type": "code",
   "execution_count": 382,
   "metadata": {
    "collapsed": true
   },
   "outputs": [],
   "source": [
    "from collections import deque\n",
    "# def isSumTree(tree):\n",
    "#     if tree.root is None:\n",
    "#         return\n",
    "#     queue = deque(tree.root)\n",
    "def isSumTree(node):\n",
    "    if node is None:\n",
    "        return\n",
    "    queue = deque([node])\n",
    "    while queue:\n",
    "        current = queue.pop()\n",
    "        if current.left is not None and current.right is not None:\n",
    "            if current.val == current.left.val + current.right.val:\n",
    "                    queue.append(current.left)\n",
    "                    queue.append(current.right)\n",
    "            else:\n",
    "                return False\n",
    "    return True"
   ]
  },
  {
   "cell_type": "code",
   "execution_count": 383,
   "metadata": {},
   "outputs": [
    {
     "data": {
      "text/plain": [
       "True"
      ]
     },
     "execution_count": 383,
     "metadata": {},
     "output_type": "execute_result"
    }
   ],
   "source": [
    "root = Node(7)\n",
    "root.left = Node(4)\n",
    "root.right = Node(3)\n",
    "root.left.left = Node(2)\n",
    "root.left.right = Node(2)\n",
    "root.right.left = Node(2)\n",
    "root.right.right = Node(1)\n",
    "isSumTree(root)"
   ]
  },
  {
   "cell_type": "markdown",
   "metadata": {},
   "source": [
    "#### Q7) Find the distance between 2 nodes in a BST and a normal binary tree"
   ]
  },
  {
   "cell_type": "code",
   "execution_count": 384,
   "metadata": {
    "collapsed": true
   },
   "outputs": [],
   "source": [
    "def lowestCommonAncestor(root, node1, node2):\n",
    "    return lcaHelper(root, node1, node2)\n",
    "def lcaHelper(root, node1, node2):\n",
    "    if root is None:\n",
    "        return root\n",
    "    \n",
    "    if root.val > node1 and root.val > node2:\n",
    "        return lcaHelper(root.left, node1, node2)\n",
    "    \n",
    "    if root.val < node1 and root.val < node2:\n",
    "        return lcaHelper(root.right, node1, node2)\n",
    "    \n",
    "    return root"
   ]
  },
  {
   "cell_type": "code",
   "execution_count": 385,
   "metadata": {},
   "outputs": [
    {
     "data": {
      "text/plain": [
       "20"
      ]
     },
     "execution_count": 385,
     "metadata": {},
     "output_type": "execute_result"
    }
   ],
   "source": [
    "root = Node(20) \n",
    "root.left = Node(8) \n",
    "root.right = Node(22) \n",
    "root.left.left = Node(4) \n",
    "root.left.right = Node(12) \n",
    "root.left.right.left = Node(10) \n",
    "root.left.right.right = Node(14) \n",
    "lowestCommonAncestor(root, 8, 22).val"
   ]
  },
  {
   "cell_type": "code",
   "execution_count": 386,
   "metadata": {
    "collapsed": true
   },
   "outputs": [],
   "source": [
    "def distanceRootNode(root, node, dist=0):\n",
    "    if root is None:\n",
    "        return root\n",
    "    \n",
    "    if root.val > node.val:\n",
    "        return distanceRootNode(root.left, node, dist + 1)\n",
    "    \n",
    "    if root.val < node.val:\n",
    "        return distanceRootNode(root.right, node, dist + 1)\n",
    "    \n",
    "    if root.val == node.val:\n",
    "        return dist"
   ]
  },
  {
   "cell_type": "code",
   "execution_count": 387,
   "metadata": {},
   "outputs": [
    {
     "data": {
      "text/plain": [
       "3"
      ]
     },
     "execution_count": 387,
     "metadata": {},
     "output_type": "execute_result"
    }
   ],
   "source": [
    "distanceRootNode(root, root.left.right.left, 0)"
   ]
  },
  {
   "cell_type": "code",
   "execution_count": 388,
   "metadata": {
    "collapsed": true
   },
   "outputs": [],
   "source": [
    "def distanceNodes(root, node1, node2):\n",
    "    a = distanceRootNode(root, node1)\n",
    "    b = distanceRootNode(root, node2)\n",
    "    d = lowestCommonAncestor(root, node1.val, node2.val)\n",
    "    c = distanceRootNode(root, d)\n",
    "    return a + b - 2 * c"
   ]
  },
  {
   "cell_type": "code",
   "execution_count": 389,
   "metadata": {},
   "outputs": [
    {
     "data": {
      "text/plain": [
       "4"
      ]
     },
     "execution_count": 389,
     "metadata": {},
     "output_type": "execute_result"
    }
   ],
   "source": [
    "distanceNodes(root, root.left.right.right, root.right)"
   ]
  },
  {
   "cell_type": "code",
   "execution_count": 390,
   "metadata": {
    "collapsed": true
   },
   "outputs": [],
   "source": [
    "def commonLCA(root, node1, node2):\n",
    "    if root is None:\n",
    "        return root\n",
    "    \n",
    "    if root.val == node1.val or root.val == node2.val:\n",
    "        return root\n",
    "    \n",
    "    left = commonLCA(root.left, node1, node2)\n",
    "    right = commonLCA(root.right, node1, node2)\n",
    "    \n",
    "    if left and right:\n",
    "        return root\n",
    "    \n",
    "    return left if left is not None else right"
   ]
  },
  {
   "cell_type": "code",
   "execution_count": 391,
   "metadata": {},
   "outputs": [
    {
     "data": {
      "text/plain": [
       "8"
      ]
     },
     "execution_count": 391,
     "metadata": {},
     "output_type": "execute_result"
    }
   ],
   "source": [
    "commonLCA(root, root.left.left, root.left.right.left).val"
   ]
  },
  {
   "cell_type": "markdown",
   "metadata": {},
   "source": [
    "#### Q8) Print the coordinates of every node in a binary tree, where root is 0,0"
   ]
  },
  {
   "cell_type": "code",
   "execution_count": 392,
   "metadata": {
    "collapsed": true
   },
   "outputs": [],
   "source": [
    "# my idea (lel)\n",
    "# make two queues - outer and inner\n",
    "# iterate over the outer, print i,j\n",
    "# check for left and right and append it to the outer one\n",
    "# make inner the outer after iterating all"
   ]
  },
  {
   "cell_type": "code",
   "execution_count": 393,
   "metadata": {
    "collapsed": true
   },
   "outputs": [],
   "source": [
    "def printCoordinates(root):\n",
    "    inner = []\n",
    "    i = 0; j = 0\n",
    "    inner.append(root)\n",
    "    outer = []\n",
    "    while inner:\n",
    "        if j < len(inner):\n",
    "            print((i,j))\n",
    "            if inner[j].left is not None:\n",
    "                outer.append(inner[j].left)\n",
    "            if inner[j].right is not None:\n",
    "                outer.append(inner[j].left)\n",
    "            j += 1\n",
    "        else:\n",
    "            j = 0\n",
    "            inner = outer\n",
    "            outer = []\n",
    "            i += 1"
   ]
  },
  {
   "cell_type": "code",
   "execution_count": 394,
   "metadata": {},
   "outputs": [
    {
     "name": "stdout",
     "output_type": "stream",
     "text": [
      "(0, 0)\n",
      "(1, 0)\n",
      "(1, 1)\n",
      "(2, 0)\n",
      "(2, 1)\n",
      "(2, 2)\n",
      "(2, 3)\n"
     ]
    }
   ],
   "source": [
    "printCoordinates(root)"
   ]
  },
  {
   "cell_type": "markdown",
   "metadata": {},
   "source": [
    "#### Q9) Print a tree by levels"
   ]
  },
  {
   "cell_type": "code",
   "execution_count": 395,
   "metadata": {
    "collapsed": true
   },
   "outputs": [],
   "source": [
    "def printByLevels(root):\n",
    "    inner = []\n",
    "    i = 0; j = 0\n",
    "    inner.append(root)\n",
    "    outer = []\n",
    "    while inner:\n",
    "        if j < len(inner):\n",
    "            if inner[j].left is not None:\n",
    "                outer.append(inner[j].left)\n",
    "            if inner[j].right is not None:\n",
    "                outer.append(inner[j].right)\n",
    "            j += 1\n",
    "        else:\n",
    "            j = 0\n",
    "            print(' '.join(str(x.val) for x in inner))\n",
    "            inner = outer\n",
    "            outer = []\n",
    "            i += 1"
   ]
  },
  {
   "cell_type": "code",
   "execution_count": 396,
   "metadata": {},
   "outputs": [
    {
     "name": "stdout",
     "output_type": "stream",
     "text": [
      "20\n",
      "8 22\n",
      "4 12\n",
      "10 14\n"
     ]
    }
   ],
   "source": [
    "printByLevels(root)"
   ]
  },
  {
   "cell_type": "markdown",
   "metadata": {},
   "source": [
    "#### Q10) Given a tree, verify that it contains a sub-tree"
   ]
  },
  {
   "cell_type": "code",
   "execution_count": 397,
   "metadata": {
    "collapsed": true
   },
   "outputs": [],
   "source": [
    "def verifySubtree(tree1, tree2):\n",
    "    if tree2 is None:\n",
    "        return True\n",
    "    if tree1 is None:\n",
    "        return False\n",
    "    if isIdentical(tree1, tree2):\n",
    "        return True\n",
    "    return verifySubtree(tree1.left, tree2) or verifySubtree(tree1.right, tree2)"
   ]
  },
  {
   "cell_type": "code",
   "execution_count": 398,
   "metadata": {
    "collapsed": true
   },
   "outputs": [],
   "source": [
    "def isIdentical(tree1, tree2):\n",
    "    # commented part is for - if the second subtree is an inbetween subtree (not with the leaves of the first one)\n",
    "#     if tree1 is None and tree2 is None:\n",
    "#         return True\n",
    "#     if tree2 is None:\n",
    "#         return True\n",
    "#     if tree1 is None:\n",
    "#         return False\n",
    "\n",
    "    #  this makes sure that the tree2 is a \"proper\" subtree - with end nodes of the first\n",
    "    if tree1 is None and tree2 is None:\n",
    "        return True\n",
    "    if tree1 is None or tree2 is None:\n",
    "        return False\n",
    "    \n",
    "    if tree1.val == tree2.val:\n",
    "        return isIdentical(tree1.left, tree2.left) and isIdentical(tree1.right, tree2.right)"
   ]
  },
  {
   "cell_type": "code",
   "execution_count": 399,
   "metadata": {
    "collapsed": true
   },
   "outputs": [],
   "source": [
    "T = Node(26) \n",
    "T.right = Node(3) \n",
    "T.right.right  = Node(3) \n",
    "T.left = Node(10) \n",
    "T.left.left = Node(4) \n",
    "T.left.left.right = Node(30) \n",
    "T.left.right = Node(6) \n",
    "\n",
    "S = Node(10) \n",
    "S.right = Node(6) \n",
    "S.left = Node(4) \n",
    "S.left.right = Node(30)"
   ]
  },
  {
   "cell_type": "code",
   "execution_count": 400,
   "metadata": {},
   "outputs": [
    {
     "data": {
      "text/plain": [
       "True"
      ]
     },
     "execution_count": 400,
     "metadata": {},
     "output_type": "execute_result"
    }
   ],
   "source": [
    "verifySubtree(T, S)"
   ]
  },
  {
   "cell_type": "markdown",
   "metadata": {},
   "source": [
    "#### Q11) Find the max distance between 2 nodes in a BST."
   ]
  },
  {
   "cell_type": "code",
   "execution_count": 481,
   "metadata": {
    "collapsed": true
   },
   "outputs": [],
   "source": [
    "# the most naive way\n",
    "# save all the nodes in an array\n",
    "# iterate over all the elements in the array and find their LCA\n",
    "# find the max distance between the LCAs\n",
    "# this gives the answer which makes \"more\" sense when \n",
    "# but the one provided at geeksforgeeks gives weird values"
   ]
  },
  {
   "cell_type": "code",
   "execution_count": 489,
   "metadata": {
    "collapsed": true
   },
   "outputs": [],
   "source": [
    "from collections import deque\n",
    "def maxDistance(tree):\n",
    "    allNodes = findNodes(tree.root)\n",
    "    maxDistance = 0\n",
    "    for i in range(len(allNodes) - 1):\n",
    "        for j in range(i, len(allNodes)):\n",
    "            node1 = allNodes[i]\n",
    "            node2 = allNodes[j]\n",
    "            lcaNode = lca(tree.root, node1, node2)\n",
    "            distance = localDistance(lcaNode, node1) + localDistance(lcaNode, node2)\n",
    "            if distance > maxDistance:\n",
    "                maxDistance = distance\n",
    "    return maxDistance\n",
    "\n",
    "def lca(root, node1, node2):\n",
    "    if root is None:\n",
    "        return None\n",
    "    if root.val < node1.val and root.val < node2.val:\n",
    "        return lca(root.right, node1, node2)\n",
    "    elif root.val > node1.val and root.val > node2.val:\n",
    "        return lca(root.left, node1, node2)\n",
    "    else:\n",
    "        return root\n",
    "\n",
    "def localDistance(node1, node2, dist=0):\n",
    "    if node1.val == node2.val:\n",
    "        return dist\n",
    "    if node1.val > node2.val:\n",
    "        return localDistance(node1.left, node2, dist+1)\n",
    "    else:\n",
    "        return localDistance(node1.right, node2, dist+1)\n",
    "\n",
    "def findNodes(node):\n",
    "    if node is None:\n",
    "        return\n",
    "    queue = deque([node])\n",
    "    array = []\n",
    "    while queue:\n",
    "        current = queue.pop()\n",
    "        array.append(current)\n",
    "        if current.left is not None:\n",
    "            queue.append(current.left)\n",
    "        if current.right is not None:\n",
    "            queue.append(current.right)\n",
    "            \n",
    "    return array"
   ]
  },
  {
   "cell_type": "code",
   "execution_count": 490,
   "metadata": {
    "scrolled": true
   },
   "outputs": [
    {
     "data": {
      "text/plain": [
       "5"
      ]
     },
     "execution_count": 490,
     "metadata": {},
     "output_type": "execute_result"
    }
   ],
   "source": [
    "maxDistance(myTree)"
   ]
  },
  {
   "cell_type": "code",
   "execution_count": 487,
   "metadata": {
    "scrolled": false
   },
   "outputs": [
    {
     "name": "stdout",
     "output_type": "stream",
     "text": [
      "5\n",
      "1 9\n",
      "3 7\n",
      "6\n"
     ]
    }
   ],
   "source": [
    "printByLevels(myTree.root)"
   ]
  },
  {
   "cell_type": "code",
   "execution_count": 488,
   "metadata": {
    "collapsed": true
   },
   "outputs": [],
   "source": [
    "height = -1\n",
    "def maxHeight(node):\n",
    "    # also called the diameter of a tree\n",
    "    if node is None:\n",
    "        return 0\n",
    "    leftHeight = maxHeight(node.left)\n",
    "    rightHeight = maxHeight(node.right)\n",
    "    global height\n",
    "    height = max(height, leftHeight + rightHeight + 1)\n",
    "    \n",
    "    return max(leftHeight, rightHeight) + 1"
   ]
  },
  {
   "cell_type": "code",
   "execution_count": 475,
   "metadata": {},
   "outputs": [
    {
     "data": {
      "text/plain": [
       "4"
      ]
     },
     "execution_count": 475,
     "metadata": {},
     "output_type": "execute_result"
    }
   ],
   "source": [
    "maxHeight(myTree.root)"
   ]
  },
  {
   "cell_type": "markdown",
   "metadata": {},
   "source": [
    "#### Q12) Construct a BST given the pre-order and in-order traversal Strings"
   ]
  },
  {
   "cell_type": "code",
   "execution_count": 502,
   "metadata": {
    "scrolled": false
   },
   "outputs": [
    {
     "name": "stdout",
     "output_type": "stream",
     "text": [
      "1\n",
      "2\n",
      "3\n",
      "5\n",
      "6\n",
      "7\n",
      "9\n"
     ]
    }
   ],
   "source": [
    "myTree.inorder(myTree.root)"
   ]
  },
  {
   "cell_type": "code",
   "execution_count": 505,
   "metadata": {},
   "outputs": [
    {
     "name": "stdout",
     "output_type": "stream",
     "text": [
      "5\n",
      "3\n",
      "1\n",
      "2\n",
      "7\n",
      "6\n",
      "9\n"
     ]
    }
   ],
   "source": [
    "myTree.preorder(myTree.root)"
   ]
  },
  {
   "cell_type": "code",
   "execution_count": 509,
   "metadata": {
    "scrolled": true
   },
   "outputs": [
    {
     "name": "stdout",
     "output_type": "stream",
     "text": [
      "2\n",
      "1\n",
      "3\n",
      "6\n",
      "9\n",
      "7\n",
      "5\n"
     ]
    }
   ],
   "source": [
    "myTree.postorder(myTree.root)"
   ]
  },
  {
   "cell_type": "code",
   "execution_count": 525,
   "metadata": {},
   "outputs": [
    {
     "data": {
      "text/plain": [
       "9"
      ]
     },
     "execution_count": 525,
     "metadata": {},
     "output_type": "execute_result"
    }
   ],
   "source": [
    "# from post and inorder\n",
    "# last element of a postordered list is the root of that subtree\n",
    "# from the inorder, we get the respective left/right subtree\n",
    "def constructTree(postOrder, inOrder):\n",
    "    if not inOrder or not postOrder:\n",
    "        return None\n",
    "    node = Node(postOrder.pop())\n",
    "    index = inOrder.index(node.val)\n",
    "    node.right = constructTree(postOrder, inOrder[index+1:])\n",
    "    node.left = constructTree(postOrder,inOrder[:index])\n",
    "    return node\n",
    "    \n",
    "postOrder = [2,1,3,6,9,7,5]\n",
    "inOrder = [1,2,3,5,6,7,9]\n",
    "testTree = constructTree(postOrder, inOrder)\n",
    "testTree.right.right.val"
   ]
  },
  {
   "cell_type": "code",
   "execution_count": 526,
   "metadata": {},
   "outputs": [
    {
     "name": "stdout",
     "output_type": "stream",
     "text": [
      "5\n",
      "3\n",
      "1\n",
      "2\n",
      "7\n",
      "6\n",
      "9\n"
     ]
    }
   ],
   "source": [
    "myTree.preorder(myTree.root)"
   ]
  },
  {
   "cell_type": "code",
   "execution_count": 563,
   "metadata": {
    "scrolled": true
   },
   "outputs": [
    {
     "data": {
      "text/plain": [
       "9"
      ]
     },
     "execution_count": 563,
     "metadata": {},
     "output_type": "execute_result"
    }
   ],
   "source": [
    "def constructTree(preOrder, inOrder):\n",
    "    if not inOrder or not preOrder:\n",
    "        return None\n",
    "    node = Node(preOrder.pop(0))\n",
    "    index = inOrder.index(node.val)\n",
    "    node.left = constructTree(preOrder, inOrder[:index])\n",
    "    node.right = constructTree(preOrder,inOrder[index+1:])\n",
    "    return node\n",
    "\n",
    "preOrder = [5,3,1,2,7,6,9]\n",
    "inOrder = [1,2,3,5,6,7,9]\n",
    "testTree = constructTree(preOrder, inOrder)\n",
    "testTree.right.right.val"
   ]
  }
 ],
 "metadata": {
  "kernelspec": {
   "display_name": "Python 3",
   "language": "python",
   "name": "python3"
  },
  "language_info": {
   "codemirror_mode": {
    "name": "ipython",
    "version": 3
   },
   "file_extension": ".py",
   "mimetype": "text/x-python",
   "name": "python",
   "nbconvert_exporter": "python",
   "pygments_lexer": "ipython3",
   "version": "3.6.2"
  }
 },
 "nbformat": 4,
 "nbformat_minor": 2
}
