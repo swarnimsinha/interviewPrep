{
 "cells": [
  {
   "cell_type": "markdown",
   "metadata": {},
   "source": [
    "#### Q1) Find the most frequent number in an array"
   ]
  },
  {
   "cell_type": "code",
   "execution_count": 149,
   "metadata": {},
   "outputs": [
    {
     "data": {
      "text/plain": [
       "1"
      ]
     },
     "execution_count": 149,
     "metadata": {},
     "output_type": "execute_result"
    }
   ],
   "source": [
    "from collections import Counter\n",
    "def mostFrequentCounter(array):\n",
    "    # create a {value:count} pair dictionary\n",
    "    arrayCounter = Counter(array)\n",
    "    # return the maximum value in the arrayCounter, key is the count\n",
    "    return max(arrayCounter, key=arrayCounter.get)\n",
    "array = [1,21,1,1,2,3]\n",
    "mostFrequentCounter(array)"
   ]
  },
  {
   "cell_type": "code",
   "execution_count": 147,
   "metadata": {},
   "outputs": [
    {
     "data": {
      "text/plain": [
       "2"
      ]
     },
     "execution_count": 147,
     "metadata": {},
     "output_type": "execute_result"
    }
   ],
   "source": [
    "def mostFrequent(array):\n",
    "    # crete a set for the array\n",
    "    # done to prevent from comparing the count of same variables\n",
    "    arraySet = set(array)\n",
    "    # initialize a variable for answer to zero\n",
    "    mostFrequent = 0\n",
    "    for val in arraySet:\n",
    "        # if the count of the element in the array is greater than \n",
    "        # the current maximum count\n",
    "        if array.count(val) > array.count(mostFrequent):\n",
    "            mostFrequent = val\n",
    "    return mostFrequent\n",
    "array = [1,2,2,2,3,]\n",
    "mostFrequent(array)"
   ]
  },
  {
   "cell_type": "code",
   "execution_count": 49,
   "metadata": {},
   "outputs": [
    {
     "data": {
      "text/plain": [
       "1"
      ]
     },
     "execution_count": 49,
     "metadata": {},
     "output_type": "execute_result"
    }
   ],
   "source": [
    "# find the most frequent number in an array\n",
    "from collections import Counter\n",
    "# naive way find the count of each, update max whenever\n",
    "def mostFrequent(array):\n",
    "    maxima = 0\n",
    "    for val in array:\n",
    "        # compares for repeated elements\n",
    "        if array.count(val) > array.count(maxima):\n",
    "            maxima = val  \n",
    "    return maxima\n",
    "array = [1,2,2,3,1,1,1,1]\n",
    "mostFrequent(array)"
   ]
  },
  {
   "cell_type": "code",
   "execution_count": 153,
   "metadata": {
    "collapsed": true
   },
   "outputs": [],
   "source": [
    "def mostFrequent(array):\n",
    "    return max(array, key=array.count)"
   ]
  },
  {
   "cell_type": "code",
   "execution_count": 154,
   "metadata": {},
   "outputs": [
    {
     "data": {
      "text/plain": [
       "3"
      ]
     },
     "execution_count": 154,
     "metadata": {},
     "output_type": "execute_result"
    }
   ],
   "source": [
    "array = [1,2,3,3,3,1]\n",
    "mostFrequent(array)"
   ]
  },
  {
   "cell_type": "code",
   "execution_count": 151,
   "metadata": {},
   "outputs": [
    {
     "data": {
      "text/plain": [
       "1"
      ]
     },
     "execution_count": 151,
     "metadata": {},
     "output_type": "execute_result"
    }
   ],
   "source": [
    "def mostFrequent(array):\n",
    "    # using in-built methods\n",
    "    countArray = Counter(array)\n",
    "    return max(countArray, key=countArray.get)\n",
    "array = [1,2,2,3,1,1,1,1]\n",
    "mostFrequent(array)"
   ]
  },
  {
   "cell_type": "code",
   "execution_count": 51,
   "metadata": {},
   "outputs": [
    {
     "data": {
      "text/plain": [
       "1"
      ]
     },
     "execution_count": 51,
     "metadata": {},
     "output_type": "execute_result"
    }
   ],
   "source": [
    "def mostFrequent(array):\n",
    "    # the count for each element is compared just once\n",
    "    arraySet = set(array)\n",
    "    maxima = 0\n",
    "    for val in arraySet:\n",
    "        if array.count(val) > array.count(maxima):\n",
    "            maxima = val\n",
    "    return maxima\n",
    "mostFrequent(array)"
   ]
  },
  {
   "cell_type": "markdown",
   "metadata": {},
   "source": [
    "#### Q2) Find pairs in an integer array whose sum is equal to 10 (bonus: do it in linear time)"
   ]
  },
  {
   "cell_type": "code",
   "execution_count": 160,
   "metadata": {
    "collapsed": true
   },
   "outputs": [],
   "source": [
    "def findingSum(array, value):\n",
    "    for i in range(len(array) - 1):\n",
    "        for j in range(i, len(array)):\n",
    "            if array[i] + array[j] == value:\n",
    "                return (array[i], array[j])\n",
    "    return -1"
   ]
  },
  {
   "cell_type": "code",
   "execution_count": 163,
   "metadata": {},
   "outputs": [
    {
     "data": {
      "text/plain": [
       "-1"
      ]
     },
     "execution_count": 163,
     "metadata": {},
     "output_type": "execute_result"
    }
   ],
   "source": [
    "findingSum([1,2,3,4,5], 10)"
   ]
  },
  {
   "cell_type": "code",
   "execution_count": 57,
   "metadata": {
    "collapsed": true
   },
   "outputs": [],
   "source": [
    "# if list is sorted\n",
    "def findingSum(array, value):\n",
    "    # sorting the list first to show the method\n",
    "    array = sorted(array)\n",
    "    # do a left and right addition, left starts at 0 and right at length\n",
    "    # increment left at each stage if sum is greater than target \n",
    "    # decrement right at each stage if sum is lesser than that\n",
    "    i, j = 0, len(array) - 1\n",
    "    while i < j:\n",
    "        currSum = array[i] + array[j]\n",
    "        if currSum == value:\n",
    "            return array[i], array[j]\n",
    "        if currSum > value:\n",
    "            j -= 1\n",
    "        else:\n",
    "            i += 1\n",
    "    return -1"
   ]
  },
  {
   "cell_type": "markdown",
   "metadata": {},
   "source": [
    "Complexity = O(nlogn)"
   ]
  },
  {
   "cell_type": "code",
   "execution_count": 64,
   "metadata": {},
   "outputs": [
    {
     "data": {
      "text/plain": [
       "(5, 6)"
      ]
     },
     "execution_count": 64,
     "metadata": {},
     "output_type": "execute_result"
    }
   ],
   "source": [
    "findingSum([2,4,1,3,5,6], 11)"
   ]
  },
  {
   "cell_type": "code",
   "execution_count": 65,
   "metadata": {
    "collapsed": true
   },
   "outputs": [],
   "source": [
    "# O(n) solution, create a set and add the complement of each\n",
    "# element and check if the complement is present in the set\n",
    "# or not. When matched, return the complement and the value\n",
    "def findingSum(array, value):\n",
    "    complement = set()\n",
    "    for val in array:\n",
    "        if val not in complement:\n",
    "            complement.add(value - val)\n",
    "        else:\n",
    "            return (value - val, val)\n",
    "        \n",
    "    return -1"
   ]
  },
  {
   "cell_type": "markdown",
   "metadata": {},
   "source": [
    "#### Q3) Given 2 integer arrays, determine of the 2nd array is a rotated version of the 1st array. Ex. Original Array A={1,2,3,5,6,7,8} Rotated Array B={5,6,7,8,1,2,3}"
   ]
  },
  {
   "cell_type": "code",
   "execution_count": 84,
   "metadata": {},
   "outputs": [
    {
     "data": {
      "text/plain": [
       "True"
      ]
     },
     "execution_count": 84,
     "metadata": {},
     "output_type": "execute_result"
    }
   ],
   "source": [
    "def isRotation(array1, array2):\n",
    "    array1 += array1\n",
    "    array1 = ''.join(str(x) for x in array1)\n",
    "    array2 = ''.join(str(x) for x in array2)\n",
    "    return array2 in array1\n",
    "\n",
    "isRotation([1,2,3,4], [2,3,4,1])"
   ]
  },
  {
   "cell_type": "markdown",
   "metadata": {},
   "source": [
    "#### Q4) Write fibonacci - recursively, dynamic and iterative"
   ]
  },
  {
   "cell_type": "code",
   "execution_count": 195,
   "metadata": {
    "collapsed": true
   },
   "outputs": [],
   "source": [
    "# iterative\n",
    "def fibonacciIterative(n):\n",
    "    fibo = [0, 1]\n",
    "    if n == 0 or n == 1:\n",
    "        return fibo[n]\n",
    "    for i in range(2, n+1):\n",
    "        fibo.append(fibo[i-1] + fibo[i-2])\n",
    "    return fibo[-1]"
   ]
  },
  {
   "cell_type": "code",
   "execution_count": 196,
   "metadata": {},
   "outputs": [
    {
     "data": {
      "text/plain": [
       "[0, 1, 1, 2, 3, 5, 8, 13, 21, 34]"
      ]
     },
     "execution_count": 196,
     "metadata": {},
     "output_type": "execute_result"
    }
   ],
   "source": [
    "ans = [fibonacciIterative(x) for x in range(10)]\n",
    "ans"
   ]
  },
  {
   "cell_type": "code",
   "execution_count": 116,
   "metadata": {
    "collapsed": true
   },
   "outputs": [],
   "source": [
    "# recursive\n",
    "def fibonacciRecursive(n):\n",
    "    if n == 0 or n == 1:\n",
    "        return n\n",
    "    return fibonacciRecursive(n-2) + fibonacciRecursive(n-1)"
   ]
  },
  {
   "cell_type": "code",
   "execution_count": 123,
   "metadata": {},
   "outputs": [
    {
     "data": {
      "text/plain": [
       "[0, 1, 1, 2, 3, 5, 8, 13, 21, 34]"
      ]
     },
     "execution_count": 123,
     "metadata": {},
     "output_type": "execute_result"
    }
   ],
   "source": [
    "ans = [fibonacciRecursive(x) for x in range(10)]\n",
    "ans"
   ]
  },
  {
   "cell_type": "markdown",
   "metadata": {},
   "source": [
    "#### Q5) Find the only element in an array that only occurs once."
   ]
  },
  {
   "cell_type": "code",
   "execution_count": 222,
   "metadata": {
    "collapsed": true
   },
   "outputs": [],
   "source": [
    "from collections import Counter\n",
    "def onlyOnce(array):\n",
    "    counterArray = Counter(array)\n",
    "    ans = None\n",
    "    return [val for val in counterArray if counterArray[val] is 1]"
   ]
  },
  {
   "cell_type": "code",
   "execution_count": 224,
   "metadata": {},
   "outputs": [
    {
     "data": {
      "text/plain": [
       "[2]"
      ]
     },
     "execution_count": 224,
     "metadata": {},
     "output_type": "execute_result"
    }
   ],
   "source": [
    "onlyOnce([1,1,1,2])"
   ]
  },
  {
   "cell_type": "markdown",
   "metadata": {},
   "source": [
    "#### Q6) Find the common elements of 2 int arrays"
   ]
  },
  {
   "cell_type": "code",
   "execution_count": 234,
   "metadata": {
    "collapsed": true
   },
   "outputs": [],
   "source": [
    "from collections import Counter\n",
    "def commonElements(array1, array2):\n",
    "    counter1 = Counter(array1)\n",
    "    counter2 = Counter(array2)\n",
    "    ans = []\n",
    "    for ele in counter1:\n",
    "        if ele in counter2:\n",
    "            ans.extend([ele]* min(counter1[ele], counter2[ele]))\n",
    "    return ans"
   ]
  },
  {
   "cell_type": "code",
   "execution_count": 241,
   "metadata": {},
   "outputs": [
    {
     "data": {
      "text/plain": [
       "[[1], [2], [3], [4, 4]]"
      ]
     },
     "execution_count": 241,
     "metadata": {},
     "output_type": "execute_result"
    }
   ],
   "source": [
    "array1 = [1,2,3,4,4,5]\n",
    "array2 = [2,3,4,4,1]\n",
    "counter1 = Counter(array1)\n",
    "counter2 = Counter(array2)\n",
    "test = counter1&counter2\n",
    "ans = [[val] * test[val] for val in test]\n",
    "ans"
   ]
  },
  {
   "cell_type": "code",
   "execution_count": 242,
   "metadata": {},
   "outputs": [
    {
     "data": {
      "text/plain": [
       "[2, 3, 4, 5, 5]"
      ]
     },
     "execution_count": 242,
     "metadata": {},
     "output_type": "execute_result"
    }
   ],
   "source": [
    "commonElements([1,2,3,4,5,5], [2,3,4,5,5,6])"
   ]
  },
  {
   "cell_type": "markdown",
   "metadata": {},
   "source": [
    "#### Q7) Implement binary search on an array"
   ]
  },
  {
   "cell_type": "code",
   "execution_count": 251,
   "metadata": {
    "collapsed": true
   },
   "outputs": [],
   "source": [
    "def binarySearch(array, item):\n",
    "    left = 0\n",
    "    right = len(array)\n",
    "    while left <= right:\n",
    "        mid = (left + right) // 2\n",
    "        if array[mid] == item:\n",
    "            return mid\n",
    "        if array[mid] < item:\n",
    "            left = mid + 1\n",
    "        else:\n",
    "            right = mid -1\n",
    "    return -1"
   ]
  },
  {
   "cell_type": "code",
   "execution_count": 253,
   "metadata": {},
   "outputs": [
    {
     "data": {
      "text/plain": [
       "[0, 1, 2, 3, 4, 5]"
      ]
     },
     "execution_count": 253,
     "metadata": {},
     "output_type": "execute_result"
    }
   ],
   "source": [
    "array = [1,2,3,4,5,6]\n",
    "ans = [binarySearch(array, x) for x in array]\n",
    "ans"
   ]
  },
  {
   "cell_type": "markdown",
   "metadata": {},
   "source": [
    "#### Q8) Implement binary search on a rotated array"
   ]
  },
  {
   "cell_type": "code",
   "execution_count": 286,
   "metadata": {
    "collapsed": true
   },
   "outputs": [],
   "source": [
    "def rotatedBinarySearch(array, value):\n",
    "    left = 0\n",
    "    right = len(array)\n",
    "    while left <= right:\n",
    "        mid = (left + right)//2\n",
    "        if array[mid] == value:\n",
    "            return mid\n",
    "        # if left side is sorted\n",
    "        if array[left] <= array[mid]:\n",
    "            if array[left] <= value < array[mid]:\n",
    "                right = mid - 1\n",
    "            else:\n",
    "                left = mid + 1\n",
    "        else:\n",
    "            if array[mid] < value <= array[right]:\n",
    "                left = mid + 1\n",
    "            else:\n",
    "                right = mid - 1\n",
    "    return -1"
   ]
  },
  {
   "cell_type": "code",
   "execution_count": 287,
   "metadata": {},
   "outputs": [
    {
     "data": {
      "text/plain": [
       "[0, 1, 2, 3, 4, 5, 6]"
      ]
     },
     "execution_count": 287,
     "metadata": {},
     "output_type": "execute_result"
    }
   ],
   "source": [
    "array = [4,5,6,7,1,2,3]\n",
    "[rotatedBinarySearch(array, x) for x in array]"
   ]
  },
  {
   "cell_type": "markdown",
   "metadata": {},
   "source": [
    "#### Q9) Use dynamic programming to find the first X prime numbers"
   ]
  },
  {
   "cell_type": "code",
   "execution_count": 355,
   "metadata": {},
   "outputs": [
    {
     "data": {
      "text/plain": [
       "[2, 3, 5, 7, 11, 13, 17, 19, 23, 29]"
      ]
     },
     "execution_count": 355,
     "metadata": {},
     "output_type": "execute_result"
    }
   ],
   "source": [
    "def createPrime(n):\n",
    "    ans = []\n",
    "    i = 1\n",
    "    while len(ans) < n:\n",
    "        i += 1\n",
    "        flag = True\n",
    "        for j in range(2, int(i**0.5)+1):\n",
    "            if i % j == 0:\n",
    "                flag = False\n",
    "        if flag:\n",
    "            ans.append(i)\n",
    "    return ans\n",
    "createPrime(10)"
   ]
  },
  {
   "cell_type": "markdown",
   "metadata": {},
   "source": [
    "#### Q10) Write a function that prints out the binary form of an int"
   ]
  },
  {
   "cell_type": "code",
   "execution_count": 380,
   "metadata": {},
   "outputs": [
    {
     "data": {
      "text/plain": [
       "[1, 0, 0, 0, 0]"
      ]
     },
     "execution_count": 380,
     "metadata": {},
     "output_type": "execute_result"
    }
   ],
   "source": [
    "def createBinary(value):\n",
    "    ans = []\n",
    "    while value != 0:\n",
    "        ans.append(value % 2)\n",
    "        value //= 2\n",
    "    return ans[::-1]\n",
    "createBinary(16)"
   ]
  },
  {
   "cell_type": "markdown",
   "metadata": {},
   "source": [
    "#### Q11) Implement squareroot function"
   ]
  },
  {
   "cell_type": "code",
   "execution_count": 428,
   "metadata": {},
   "outputs": [
    {
     "data": {
      "text/plain": [
       "16"
      ]
     },
     "execution_count": 428,
     "metadata": {},
     "output_type": "execute_result"
    }
   ],
   "source": [
    "def squareRoot(number):\n",
    "    i = 0\n",
    "    while i < number:\n",
    "        if i*i == number:\n",
    "            return i\n",
    "        i += 1\n",
    "    return -1\n",
    "squareRoot(256)"
   ]
  },
  {
   "cell_type": "code",
   "execution_count": 429,
   "metadata": {},
   "outputs": [
    {
     "data": {
      "text/plain": [
       "16"
      ]
     },
     "execution_count": 429,
     "metadata": {},
     "output_type": "execute_result"
    }
   ],
   "source": [
    "def squareRoot(number):\n",
    "    left = 0\n",
    "    right = number\n",
    "    while left <= right:\n",
    "        mid = (left + right)//2\n",
    "        squared = mid*mid\n",
    "        if squared == number:\n",
    "            return mid\n",
    "        if squared > number:\n",
    "            right = mid - 1\n",
    "        else:\n",
    "            left = mid + 1\n",
    "    return -1\n",
    "squareRoot(256)"
   ]
  },
  {
   "cell_type": "markdown",
   "metadata": {},
   "source": [
    "#### Q12) Implement an exponent function (bonus: now try in log(n) time)"
   ]
  },
  {
   "cell_type": "code",
   "execution_count": 534,
   "metadata": {},
   "outputs": [
    {
     "data": {
      "text/plain": [
       "9"
      ]
     },
     "execution_count": 534,
     "metadata": {},
     "output_type": "execute_result"
    }
   ],
   "source": [
    "def exponent(value, n):\n",
    "    ans = 1\n",
    "    for i in range(1, n+1):\n",
    "        ans *= value\n",
    "    return ans\n",
    "exponent(3,2)"
   ]
  },
  {
   "cell_type": "markdown",
   "metadata": {},
   "source": [
    "#### Q13) Write a multiply function that multiples 2 integers without using *"
   ]
  },
  {
   "cell_type": "code",
   "execution_count": 694,
   "metadata": {},
   "outputs": [
    {
     "data": {
      "text/plain": [
       "27"
      ]
     },
     "execution_count": 694,
     "metadata": {},
     "output_type": "execute_result"
    }
   ],
   "source": [
    "def multiply(a, b):\n",
    "    ans = 0\n",
    "    i = 1\n",
    "    while i <= b:\n",
    "        i += 1\n",
    "        ans += a\n",
    "    return ans\n",
    "multiply(3,9)"
   ]
  },
  {
   "cell_type": "markdown",
   "metadata": {},
   "source": [
    "#### Q14) Given a function rand5() that returns a random int between 0 and 5, implement rand7()"
   ]
  },
  {
   "cell_type": "code",
   "execution_count": 775,
   "metadata": {},
   "outputs": [
    {
     "name": "stdout",
     "output_type": "stream",
     "text": [
      "Counter({6: 1481, 5: 1473, 2: 1467, 4: 1429, 1: 1422, 0: 1370, 3: 1358})\n"
     ]
    }
   ],
   "source": [
    "import random\n",
    "from collections import Counter\n",
    "def rand7():\n",
    "    current = 0\n",
    "    for i in range(7):\n",
    "        current += random.randint(0,5)\n",
    "    return current % 7\n",
    "counter = []\n",
    "for i in range(10000):\n",
    "    counter.append(rand7())\n",
    "print(Counter(counter))"
   ]
  },
  {
   "cell_type": "markdown",
   "metadata": {},
   "source": [
    "#### Q15) Given a 2D array of 1s and 0s, count the number of \"islands of 1s\" (e.g. groups of connecting 1s)"
   ]
  },
  {
   "cell_type": "code",
   "execution_count": 784,
   "metadata": {},
   "outputs": [],
   "source": [
    "# idea is to find the 1's, do a flood fill by replacing all the 1's with # (or any other symbol)\n",
    "# count the number of disjoint 1's\n",
    "def numIslands(array):\n",
    "    count = 0\n",
    "    for i in range(len(array)):\n",
    "        for j in range(len(array[0])):\n",
    "            # if the element is 1\n",
    "            if array[i][j] == 1:\n",
    "                # increment the count\n",
    "                count += 1\n",
    "                # do a flood fill\n",
    "                getIslands(array, i, j)\n",
    "    return count\n",
    "\n",
    "def getIslands(array, i, j):\n",
    "    # if the current is 1\n",
    "    if array[i][j] == 1:\n",
    "        # set current to #\n",
    "        array[i][j] = '#'\n",
    "        # four if statements for the four possible neighbors\n",
    "        # not considering diagonal elements\n",
    "        if 0 <= i + 1 < len(array):\n",
    "            getIslands(array, i + 1, j)\n",
    "        if 0 <= i - 1 < len(array):\n",
    "            getIslands(array, i - 1, j)\n",
    "        if 0 <= j + 1 < len(array):\n",
    "            getIslands(array, i, j + 1)\n",
    "        if 0 <= j - 1 < len(array):\n",
    "            getIslands(array, i, j - 1)\n",
    "    return array"
   ]
  },
  {
   "cell_type": "code",
   "execution_count": 785,
   "metadata": {},
   "outputs": [
    {
     "data": {
      "text/plain": [
       "3"
      ]
     },
     "execution_count": 785,
     "metadata": {},
     "output_type": "execute_result"
    }
   ],
   "source": [
    "array = [[1,0,0,0], [1,1,0,1], [0,0,0,0], [1,1,1,1]]\n",
    "numIslands(array)"
   ]
  }
 ],
 "metadata": {
  "kernelspec": {
   "display_name": "Python 3",
   "language": "python",
   "name": "python3"
  },
  "language_info": {
   "codemirror_mode": {
    "name": "ipython",
    "version": 3
   },
   "file_extension": ".py",
   "mimetype": "text/x-python",
   "name": "python",
   "nbconvert_exporter": "python",
   "pygments_lexer": "ipython3",
   "version": "3.6.2"
  }
 },
 "nbformat": 4,
 "nbformat_minor": 2
}
