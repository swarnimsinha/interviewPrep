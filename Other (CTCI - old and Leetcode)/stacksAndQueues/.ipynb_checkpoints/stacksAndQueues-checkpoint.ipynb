{
 "cells": [
  {
   "cell_type": "code",
   "execution_count": 82,
   "metadata": {
    "collapsed": true
   },
   "outputs": [],
   "source": [
    "class multipleStacks():\n",
    "    \n",
    "    def __init__(self, size=10, number=3):\n",
    "        self.array = [None] * size\n",
    "        self.indexes = [x * size//number for x in range(number)]\n",
    "        \n",
    "    def push(self, value, index):\n",
    "        currIndex = self.indexes[index]\n",
    "        self.array[currIndex] = value\n",
    "        self.indexes[index] = currIndex + 1\n",
    "    \n",
    "    def pop(self, index):\n",
    "        currIndex = self.indexes[index]\n",
    "        self.array[currIndex - 1] = None\n",
    "        self.indexes[index] = currIndex - 1\n",
    "    \n",
    "    def peek(self, index):\n",
    "        currIndex = self.indexes[index]\n",
    "        return self.array[currIndex-1]"
   ]
  },
  {
   "cell_type": "code",
   "execution_count": 83,
   "metadata": {
    "collapsed": true
   },
   "outputs": [],
   "source": [
    "a = multipleStacks()\n",
    "a.push(3, 0)\n",
    "a.push(4,0)\n",
    "a.push(5, 1)\n",
    "a.push(6, 2)"
   ]
  },
  {
   "cell_type": "code",
   "execution_count": 84,
   "metadata": {
    "collapsed": true
   },
   "outputs": [],
   "source": [
    "a.pop(2)"
   ]
  },
  {
   "cell_type": "code",
   "execution_count": 85,
   "metadata": {},
   "outputs": [
    {
     "data": {
      "text/plain": [
       "[3, 4, None, 5, None, None, None, None, None, None]"
      ]
     },
     "execution_count": 85,
     "metadata": {},
     "output_type": "execute_result"
    }
   ],
   "source": [
    "a.array"
   ]
  },
  {
   "cell_type": "code",
   "execution_count": 109,
   "metadata": {
    "collapsed": true
   },
   "outputs": [],
   "source": [
    "# create a stack with minimum\n",
    "class stackWithMin():\n",
    "    \n",
    "    def __init__(self):\n",
    "        self.array = []\n",
    "        self.min = []\n",
    "    \n",
    "    def push(self, val):\n",
    "        if len(self.min) == 0 or val < self.min[len(self.min)-1] :\n",
    "            self.min.append(val)\n",
    "        self.array.append(val)\n",
    "        \n",
    "    def pop(self):\n",
    "        val = self.array.pop()\n",
    "        if val <= self.min[len(self.min) - 1]:\n",
    "            self.min.pop()"
   ]
  },
  {
   "cell_type": "code",
   "execution_count": 110,
   "metadata": {
    "collapsed": true
   },
   "outputs": [],
   "source": [
    "b = stackWithMin()\n",
    "b.push(3)\n",
    "b.push(4)\n",
    "b.push(2)"
   ]
  },
  {
   "cell_type": "code",
   "execution_count": 117,
   "metadata": {},
   "outputs": [
    {
     "data": {
      "text/plain": [
       "[3, 4]"
      ]
     },
     "execution_count": 117,
     "metadata": {},
     "output_type": "execute_result"
    }
   ],
   "source": [
    "b.array"
   ]
  },
  {
   "cell_type": "code",
   "execution_count": 116,
   "metadata": {},
   "outputs": [
    {
     "data": {
      "text/plain": [
       "[3]"
      ]
     },
     "execution_count": 116,
     "metadata": {},
     "output_type": "execute_result"
    }
   ],
   "source": [
    "b.min"
   ]
  },
  {
   "cell_type": "code",
   "execution_count": 115,
   "metadata": {
    "collapsed": true
   },
   "outputs": [],
   "source": [
    "b.pop()"
   ]
  },
  {
   "cell_type": "code",
   "execution_count": 291,
   "metadata": {
    "collapsed": true
   },
   "outputs": [],
   "source": [
    "# stack with upper limit\n",
    "class stackWithLimit():\n",
    "    def __init__(self, limit):\n",
    "        self.array = [[]]\n",
    "        self.limit = limit\n",
    "        self.currentIndex = 0\n",
    "        \n",
    "    def push(self, value):\n",
    "        if len(self.array[self.currentIndex]) >= self.limit:\n",
    "            self.array.append([])\n",
    "            self.currentIndex += 1\n",
    "        self.array[self.currentIndex].append(value)\n",
    "        \n",
    "    def pop(self):\n",
    "        value = self.array[self.currentIndex].pop()\n",
    "        if len(self.array[self.currentIndex]) == 0:\n",
    "            self.currentIndex -= 1\n",
    "        return value\n",
    "    \n",
    "    def popAt(self, index):\n",
    "        currentIndex = (index // self.limit)\n",
    "        innerIndex = index % self.limit\n",
    "        self.array[currentIndex].pop(innerIndex)\n",
    "        while currentIndex < self.currentIndex:\n",
    "            if len(self.array[self.currentIndex]) > 0:\n",
    "                self.array[currentIndex].append(self.array[self.currentIndex].pop())\n",
    "            else:\n",
    "                self.array.pop()\n",
    "                self.currentIndex -= 1\n",
    "            currentIndex += 1"
   ]
  },
  {
   "cell_type": "code",
   "execution_count": 292,
   "metadata": {},
   "outputs": [
    {
     "data": {
      "text/plain": [
       "[[5, 3], [4, 1], [5, 3], [4]]"
      ]
     },
     "execution_count": 292,
     "metadata": {},
     "output_type": "execute_result"
    }
   ],
   "source": [
    "a = stackWithLimit(2)\n",
    "a.push(5)\n",
    "a.push(3)\n",
    "a.push(4)\n",
    "a.push(1)\n",
    "a.push(5)\n",
    "a.push(3)\n",
    "a.push(4)\n",
    "a.array"
   ]
  },
  {
   "cell_type": "code",
   "execution_count": 160,
   "metadata": {},
   "outputs": [
    {
     "data": {
      "text/plain": [
       "4"
      ]
     },
     "execution_count": 160,
     "metadata": {},
     "output_type": "execute_result"
    }
   ],
   "source": [
    "a.pop()"
   ]
  },
  {
   "cell_type": "code",
   "execution_count": 305,
   "metadata": {
    "collapsed": true
   },
   "outputs": [],
   "source": [
    "a.push(3)"
   ]
  },
  {
   "cell_type": "code",
   "execution_count": 293,
   "metadata": {},
   "outputs": [
    {
     "data": {
      "text/plain": [
       "3"
      ]
     },
     "execution_count": 293,
     "metadata": {},
     "output_type": "execute_result"
    }
   ],
   "source": [
    "a.currentIndex"
   ]
  },
  {
   "cell_type": "code",
   "execution_count": 310,
   "metadata": {},
   "outputs": [
    {
     "data": {
      "text/plain": [
       "[[5, 3], [3]]"
      ]
     },
     "execution_count": 310,
     "metadata": {},
     "output_type": "execute_result"
    }
   ],
   "source": [
    "a.array"
   ]
  },
  {
   "cell_type": "code",
   "execution_count": 309,
   "metadata": {
    "collapsed": true
   },
   "outputs": [],
   "source": [
    "a.popAt(2)"
   ]
  },
  {
   "cell_type": "code",
   "execution_count": 334,
   "metadata": {},
   "outputs": [
    {
     "name": "stdout",
     "output_type": "stream",
     "text": [
      "from A to B\n",
      "Move A to C\n",
      "from B to C\n",
      "Move A to B\n",
      "from C to A\n",
      "Move C to B\n",
      "from A to B\n",
      "Move A to C\n",
      "from B to C\n",
      "Move B to A\n",
      "from C to A\n",
      "Move B to C\n",
      "from A to B\n",
      "Move A to C\n",
      "from B to C\n",
      "Move A to B\n",
      "from C to A\n",
      "Move C to B\n",
      "from A to B\n",
      "Move C to A\n",
      "from B to C\n",
      "Move B to A\n",
      "from C to A\n",
      "Move C to B\n",
      "from A to B\n",
      "Move A to C\n",
      "from B to C\n",
      "Move A to B\n",
      "from C to A\n",
      "Move C to B\n",
      "from A to B\n"
     ]
    }
   ],
   "source": [
    "# towerOfHanoi\n",
    "def tower(n, from_, to_, aux_):\n",
    "    if n == 1:\n",
    "        print('from '+from_+' to '+to_)\n",
    "        return\n",
    "    tower(n-1, from_, aux_, to_)\n",
    "    print('Move ' +from_+ ' to ' + to_)\n",
    "    tower(n-1, aux_, to_, from_)\n",
    "tower(5, 'A', 'B', 'C')    "
   ]
  },
  {
   "cell_type": "code",
   "execution_count": 336,
   "metadata": {},
   "outputs": [],
   "source": [
    "def TowerOfHanoi(n , from_rod, to_rod, aux_rod):\n",
    "    if n == 1:\n",
    "        print (\"Move disk 1 from rod\",from_rod,\"to rod\",to_rod)\n",
    "        return\n",
    "    TowerOfHanoi(n-1, from_rod, aux_rod, to_rod)\n",
    "    print (\"Move disk\",n,\"from rod\",from_rod,\"to rod\",to_rod)\n",
    "    TowerOfHanoi(n-1, aux_rod, to_rod, from_rod)"
   ]
  },
  {
   "cell_type": "code",
   "execution_count": 337,
   "metadata": {},
   "outputs": [
    {
     "name": "stdout",
     "output_type": "stream",
     "text": [
      "Move disk 1 from rod A to rod B\n",
      "Move disk 2 from rod A to rod C\n",
      "Move disk 1 from rod B to rod C\n",
      "Move disk 3 from rod A to rod B\n",
      "Move disk 1 from rod C to rod A\n",
      "Move disk 2 from rod C to rod B\n",
      "Move disk 1 from rod A to rod B\n",
      "Move disk 4 from rod A to rod C\n",
      "Move disk 1 from rod B to rod C\n",
      "Move disk 2 from rod B to rod A\n",
      "Move disk 1 from rod C to rod A\n",
      "Move disk 3 from rod B to rod C\n",
      "Move disk 1 from rod A to rod B\n",
      "Move disk 2 from rod A to rod C\n",
      "Move disk 1 from rod B to rod C\n",
      "Move disk 5 from rod A to rod B\n",
      "Move disk 1 from rod C to rod A\n",
      "Move disk 2 from rod C to rod B\n",
      "Move disk 1 from rod A to rod B\n",
      "Move disk 3 from rod C to rod A\n",
      "Move disk 1 from rod B to rod C\n",
      "Move disk 2 from rod B to rod A\n",
      "Move disk 1 from rod C to rod A\n",
      "Move disk 4 from rod C to rod B\n",
      "Move disk 1 from rod A to rod B\n",
      "Move disk 2 from rod A to rod C\n",
      "Move disk 1 from rod B to rod C\n",
      "Move disk 3 from rod A to rod B\n",
      "Move disk 1 from rod C to rod A\n",
      "Move disk 2 from rod C to rod B\n",
      "Move disk 1 from rod A to rod B\n"
     ]
    }
   ],
   "source": [
    "TowerOfHanoi(5, 'A', 'B', 'C')"
   ]
  },
  {
   "cell_type": "code",
   "execution_count": 403,
   "metadata": {
    "collapsed": true
   },
   "outputs": [],
   "source": [
    "# sort stacks using peek and push\n",
    "class stack():\n",
    "    def __init__(self):\n",
    "        self.array = []\n",
    "    \n",
    "    def push(self, val):\n",
    "        self.array.append(val)\n",
    "        \n",
    "    def pop(self):\n",
    "        return self.array.pop()\n",
    "    \n",
    "    def peek(self):\n",
    "        return self.array[-1]\n",
    "    \n",
    "    def sortStack(self):\n",
    "        b = stack()\n",
    "        while len(self.array) > 0:\n",
    "            temp = self.pop()\n",
    "            while len(b.array) > 0 and b.peek() > temp:\n",
    "                self.push(b.pop())\n",
    "            b.push(temp)\n",
    "#             print(b.array)\n",
    "        self.array = b.array"
   ]
  },
  {
   "cell_type": "code",
   "execution_count": 404,
   "metadata": {
    "collapsed": true
   },
   "outputs": [],
   "source": [
    "a = stack()\n",
    "toPush = [4,3,1,9,8]\n",
    "for val in toPush:\n",
    "    a.push(val)"
   ]
  },
  {
   "cell_type": "code",
   "execution_count": 405,
   "metadata": {},
   "outputs": [
    {
     "data": {
      "text/plain": [
       "[4, 3, 1, 9, 8]"
      ]
     },
     "execution_count": 405,
     "metadata": {},
     "output_type": "execute_result"
    }
   ],
   "source": [
    "a.array"
   ]
  },
  {
   "cell_type": "code",
   "execution_count": 408,
   "metadata": {},
   "outputs": [
    {
     "data": {
      "text/plain": [
       "[1, 3, 4, 8, 9]"
      ]
     },
     "execution_count": 408,
     "metadata": {},
     "output_type": "execute_result"
    }
   ],
   "source": [
    "a.array"
   ]
  }
 ],
 "metadata": {
  "kernelspec": {
   "display_name": "Python 3",
   "language": "python",
   "name": "python3"
  },
  "language_info": {
   "codemirror_mode": {
    "name": "ipython",
    "version": 3
   },
   "file_extension": ".py",
   "mimetype": "text/x-python",
   "name": "python",
   "nbconvert_exporter": "python",
   "pygments_lexer": "ipython3",
   "version": "3.6.2"
  }
 },
 "nbformat": 4,
 "nbformat_minor": 2
}
