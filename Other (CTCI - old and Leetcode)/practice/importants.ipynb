{
 "cells": [
  {
   "cell_type": "code",
   "execution_count": 7,
   "metadata": {
    "collapsed": true
   },
   "outputs": [],
   "source": [
    "def createZeroMatrix(matrix):\n",
    "    rowIndices = set()\n",
    "    colIndices = set()\n",
    "    \n",
    "    for i in range(len(matrix)):\n",
    "        for j in range(len(matrix[0])):\n",
    "            if matrix[i][j] == 0:\n",
    "                rowIndices.add(i)\n",
    "                colIndices.add(j)\n",
    "    \n",
    "    for i in range(len(matrix)):\n",
    "        if i in rowIndices:\n",
    "            matrix[i] = [0] * len(matrix[0])\n",
    "            continue\n",
    "        for j in range(len(matrix[0])):\n",
    "            if j in colIndices:\n",
    "                matrix[i][j] = 0\n",
    "    \n",
    "    return matrix"
   ]
  },
  {
   "cell_type": "code",
   "execution_count": 10,
   "metadata": {},
   "outputs": [
    {
     "data": {
      "text/plain": [
       "[[0, 0, 3], [0, 0, 0], [0, 0, 7]]"
      ]
     },
     "execution_count": 10,
     "metadata": {},
     "output_type": "execute_result"
    }
   ],
   "source": [
    "createZeroMatrix([[1,2,3],[0,0,4],[5,6,7]])"
   ]
  },
  {
   "cell_type": "code",
   "execution_count": 15,
   "metadata": {
    "collapsed": true
   },
   "outputs": [],
   "source": [
    "def removeDuplicates(array):\n",
    "    arraySet = set()\n",
    "    i = 0\n",
    "    while i < len(array):\n",
    "        if array[i] in arraySet:\n",
    "            array.pop(i)\n",
    "        else:\n",
    "            arraySet.add(i)\n",
    "            i += 1\n",
    "    \n",
    "    return array"
   ]
  },
  {
   "cell_type": "code",
   "execution_count": 16,
   "metadata": {},
   "outputs": [
    {
     "data": {
      "text/plain": [
       "[1, 2, 3, 4]"
      ]
     },
     "execution_count": 16,
     "metadata": {},
     "output_type": "execute_result"
    }
   ],
   "source": [
    "removeDuplicates([1,2,3,1,1,4])"
   ]
  },
  {
   "cell_type": "code",
   "execution_count": 17,
   "metadata": {
    "collapsed": true
   },
   "outputs": [],
   "source": [
    "def isSubstring(string1, string2):\n",
    "    string1 += string1\n",
    "    return string2 in string1"
   ]
  },
  {
   "cell_type": "code",
   "execution_count": 20,
   "metadata": {},
   "outputs": [
    {
     "data": {
      "text/plain": [
       "False"
      ]
     },
     "execution_count": 20,
     "metadata": {},
     "output_type": "execute_result"
    }
   ],
   "source": [
    "isSubstring('waterbottle', 'bottlwatera')"
   ]
  },
  {
   "cell_type": "code",
   "execution_count": 22,
   "metadata": {
    "collapsed": true
   },
   "outputs": [],
   "source": [
    "class arrayWithMin():\n",
    "    \n",
    "    def __init__(self):\n",
    "        self.array = []\n",
    "        self.min = []\n",
    "        \n",
    "    def insert(self, value):\n",
    "        self.array.append(value)\n",
    "        if not self.min or value < self.min[-1]:\n",
    "            self.min.append(value)\n",
    "    \n",
    "    def pop(self):\n",
    "        value = self.array.pop()\n",
    "        if value < self.array[-1]:\n",
    "            self.min.pop()\n",
    "            \n",
    "    def minimum(self):\n",
    "        return self.min[-1]"
   ]
  },
  {
   "cell_type": "code",
   "execution_count": 35,
   "metadata": {
    "collapsed": true
   },
   "outputs": [],
   "source": [
    "array = arrayWithMin()\n",
    "array.insert(1)\n",
    "for i in range(5):\n",
    "    array.insert(i)\n",
    "\n",
    "array.insert(-1)"
   ]
  },
  {
   "cell_type": "code",
   "execution_count": 38,
   "metadata": {
    "collapsed": true
   },
   "outputs": [],
   "source": [
    "array.pop()"
   ]
  },
  {
   "cell_type": "code",
   "execution_count": 39,
   "metadata": {},
   "outputs": [
    {
     "data": {
      "text/plain": [
       "[1, 0, 1, 2, 3, 4]"
      ]
     },
     "execution_count": 39,
     "metadata": {},
     "output_type": "execute_result"
    }
   ],
   "source": [
    "array.array"
   ]
  },
  {
   "cell_type": "code",
   "execution_count": 40,
   "metadata": {},
   "outputs": [
    {
     "data": {
      "text/plain": [
       "0"
      ]
     },
     "execution_count": 40,
     "metadata": {},
     "output_type": "execute_result"
    }
   ],
   "source": [
    "array.minimum()"
   ]
  },
  {
   "cell_type": "code",
   "execution_count": 126,
   "metadata": {
    "collapsed": true
   },
   "outputs": [],
   "source": [
    "class StackOfPlates():\n",
    "    \n",
    "    def __init__(self, threshold):\n",
    "        self.threshold = threshold\n",
    "        self.array = [[]]\n",
    "        self.index = 0\n",
    "        \n",
    "    def push(self, value):\n",
    "        currentArray = self.array[self.index]\n",
    "        if len(currentArray) < self.threshold:\n",
    "            currentArray.append(value)\n",
    "        else:\n",
    "            self.array.append([value])\n",
    "            self.index += 1\n",
    "            \n",
    "    def pop(self):\n",
    "        currentArray = self.array[self.index]\n",
    "        if len(currentArray) == 0:\n",
    "            self.index -= 1\n",
    "            self.array.pop()\n",
    "            currentArray = self.array[self.index]\n",
    "        value = currentArray.pop()\n",
    "        return value\n"
   ]
  },
  {
   "cell_type": "code",
   "execution_count": 127,
   "metadata": {},
   "outputs": [
    {
     "data": {
      "text/plain": [
       "4"
      ]
     },
     "execution_count": 127,
     "metadata": {},
     "output_type": "execute_result"
    }
   ],
   "source": [
    "array = StackOfPlates(2)\n",
    "array.push(1)\n",
    "array.push(2)\n",
    "array.push(3)\n",
    "array.push(4)\n",
    "array.pop()"
   ]
  },
  {
   "cell_type": "code",
   "execution_count": 128,
   "metadata": {},
   "outputs": [
    {
     "data": {
      "text/plain": [
       "3"
      ]
     },
     "execution_count": 128,
     "metadata": {},
     "output_type": "execute_result"
    }
   ],
   "source": [
    "array.pop()"
   ]
  },
  {
   "cell_type": "code",
   "execution_count": 129,
   "metadata": {
    "collapsed": true
   },
   "outputs": [],
   "source": [
    "for i in range(5):\n",
    "    array.push(i)"
   ]
  },
  {
   "cell_type": "code",
   "execution_count": 130,
   "metadata": {
    "scrolled": true
   },
   "outputs": [
    {
     "data": {
      "text/plain": [
       "[[1, 2], [0, 1], [2, 3], [4]]"
      ]
     },
     "execution_count": 130,
     "metadata": {},
     "output_type": "execute_result"
    }
   ],
   "source": [
    "array.array"
   ]
  },
  {
   "cell_type": "code",
   "execution_count": 3,
   "metadata": {
    "collapsed": true
   },
   "outputs": [],
   "source": [
    "class Node():\n",
    "    def __init__(self, val):\n",
    "        self.value = val\n",
    "        self.left = None\n",
    "        self.right = None"
   ]
  },
  {
   "cell_type": "code",
   "execution_count": 4,
   "metadata": {
    "collapsed": true
   },
   "outputs": [],
   "source": [
    "class Tree():\n",
    "    def __init__(self):\n",
    "        self.root = None\n",
    "    \n",
    "    def insert(self, value):\n",
    "        if self.root is None:\n",
    "            self.root = Node(value)\n",
    "        else:\n",
    "            self._insert(self.root, value)\n",
    "            \n",
    "    def _insert(self, node, value):\n",
    "        if value < node.value:\n",
    "            if node.left is None:\n",
    "                node.left = Node(value)\n",
    "            else:\n",
    "                self._insert(node.left, value)\n",
    "        else:\n",
    "            if node.right is None:\n",
    "                node.right = Node(value)\n",
    "            else:\n",
    "                self._insert(node.right, value)\n",
    "                \n",
    "    def inOrder(self):\n",
    "        self._inOrder(self.root)\n",
    "    \n",
    "    def _inOrder(self, node):\n",
    "        if node is not None:\n",
    "            self._inOrder(node.left)\n",
    "            print(node.value)\n",
    "            self._inOrder(node.right)\n",
    "    \n",
    "    def preOrder(self):\n",
    "        self._preOrder(self.root)\n",
    "    \n",
    "    def _preOrder(self, node):\n",
    "        if node is not None:\n",
    "            print(node.value)\n",
    "            self._preOrder(node.left)\n",
    "            self._preOrder(node.right)\n",
    "            \n",
    "    def postOrder(self):\n",
    "        self._postOrder(self.root)\n",
    "    \n",
    "    def _postOrder(self, node):\n",
    "        if node is not None:\n",
    "            self._postOrder(node.left)\n",
    "            self._postOrder(node.right)\n",
    "            print(node.value)\n",
    "            \n",
    "def isBalanced(tree):\n",
    "    return (maxDepth(tree.root) - minDepth(tree.root)) < 1\n",
    "\n",
    "def minDepth(node):\n",
    "    if node is not None:\n",
    "        return 1 + min(minDepth(node.left), minDepth(node.right))\n",
    "    else:\n",
    "        return 0\n",
    "    \n",
    "def maxDepth(node):\n",
    "    if node is not None:\n",
    "        return 1 + max(maxDepth(node.left), maxDepth(node.right))\n",
    "    else:\n",
    "        return 0"
   ]
  },
  {
   "cell_type": "code",
   "execution_count": 188,
   "metadata": {
    "collapsed": true
   },
   "outputs": [],
   "source": [
    "myTree = Tree()\n",
    "myTree.insert(4)\n",
    "myTree.insert(2)\n",
    "myTree.insert(6)\n",
    "myTree.insert(1)\n",
    "myTree.insert(3)\n",
    "myTree.insert(5)\n",
    "myTree.insert(7)"
   ]
  },
  {
   "cell_type": "code",
   "execution_count": 189,
   "metadata": {},
   "outputs": [
    {
     "data": {
      "text/plain": [
       "True"
      ]
     },
     "execution_count": 189,
     "metadata": {},
     "output_type": "execute_result"
    }
   ],
   "source": [
    "isBalanced(myTree)"
   ]
  },
  {
   "cell_type": "code",
   "execution_count": 11,
   "metadata": {
    "collapsed": true
   },
   "outputs": [],
   "source": [
    "def createMinimal(array):\n",
    "    return createMinimalHelper(array,0,len(array)-1)\n",
    "\n",
    "def createMinimalHelper(array,start,end):\n",
    "    if end < start:\n",
    "        return\n",
    "    mid = (start+end)//2\n",
    "    node = Node(array[mid])\n",
    "    node.left = createMinimalHelper(array,start,mid-1)\n",
    "    node.right = createMinimalHelper(array,mid+1,end)\n",
    "    return node"
   ]
  },
  {
   "cell_type": "code",
   "execution_count": 12,
   "metadata": {
    "scrolled": true
   },
   "outputs": [
    {
     "data": {
      "text/plain": [
       "<__main__.Node at 0x24690aca780>"
      ]
     },
     "execution_count": 12,
     "metadata": {},
     "output_type": "execute_result"
    }
   ],
   "source": [
    "createMinimal([1,2,3,4,5,6])"
   ]
  },
  {
   "cell_type": "code",
   "execution_count": 196,
   "metadata": {
    "collapsed": true
   },
   "outputs": [],
   "source": [
    "def fibonacci(n):\n",
    "    if n == 0:\n",
    "        return 0\n",
    "    if n == 1:\n",
    "        return 1\n",
    "    return fibonacci(n-1) + fibonacci(n-2)"
   ]
  },
  {
   "cell_type": "code",
   "execution_count": 199,
   "metadata": {},
   "outputs": [
    {
     "data": {
      "text/plain": [
       "89"
      ]
     },
     "execution_count": 199,
     "metadata": {},
     "output_type": "execute_result"
    }
   ],
   "source": [
    "fibonacci(11)"
   ]
  },
  {
   "cell_type": "code",
   "execution_count": 226,
   "metadata": {
    "collapsed": true
   },
   "outputs": [],
   "source": [
    "fiboDict = {0:1,1:1}\n",
    "def memoizeFibo(n):\n",
    "    if n not in fiboDict:\n",
    "        fiboDict[n] = memoizeFibo(n-1) + memoizeFibo(n-2)\n",
    "    return fiboDict[n]\n",
    "\n",
    "def _fibonacci(n):\n",
    "    return memoizeFibo(n-1) + memoizeFibo(n-2)"
   ]
  },
  {
   "cell_type": "code",
   "execution_count": 227,
   "metadata": {},
   "outputs": [
    {
     "data": {
      "text/plain": [
       "8"
      ]
     },
     "execution_count": 227,
     "metadata": {},
     "output_type": "execute_result"
    }
   ],
   "source": [
    "memoizeFibo(5)"
   ]
  }
 ],
 "metadata": {
  "kernelspec": {
   "display_name": "Python 3",
   "language": "python",
   "name": "python3"
  },
  "language_info": {
   "codemirror_mode": {
    "name": "ipython",
    "version": 3
   },
   "file_extension": ".py",
   "mimetype": "text/x-python",
   "name": "python",
   "nbconvert_exporter": "python",
   "pygments_lexer": "ipython3",
   "version": "3.6.2"
  }
 },
 "nbformat": 4,
 "nbformat_minor": 2
}
