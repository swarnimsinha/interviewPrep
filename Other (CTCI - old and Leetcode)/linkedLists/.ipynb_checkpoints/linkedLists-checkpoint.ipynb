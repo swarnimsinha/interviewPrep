{
 "cells": [
  {
   "cell_type": "code",
   "execution_count": 244,
   "metadata": {
    "collapsed": true
   },
   "outputs": [],
   "source": [
    "class Node():\n",
    "    def __init__(self, val):\n",
    "        self.val = val\n",
    "        self.next = None\n",
    "\n",
    "\n",
    "class LinkedList():\n",
    "    def __init__(self):\n",
    "        self.head = None\n",
    "        self.tail = None\n",
    "    \n",
    "    def add(self, val):\n",
    "        node = Node(val)\n",
    "        if self.head == None:\n",
    "            self.head = node\n",
    "            self.tail = node\n",
    "        else:\n",
    "            self.tail.next = node\n",
    "            self.tail = node\n",
    "            \n",
    "    def __repr__(self):\n",
    "        index = self.head\n",
    "        result = []\n",
    "        while index.next is not None:\n",
    "            result.append(index.val)\n",
    "            index = index.next\n",
    "        return '->'.join(str(x) for x in result)\n",
    "    \n",
    "    def removeDuplicates(self):\n",
    "        valueSet = set()\n",
    "        index = self.head\n",
    "        while index.next is not None:\n",
    "            if index.val not in valueSet:\n",
    "                valueSet.add(index.val)\n",
    "                index = index.next\n",
    "            else:\n",
    "                index.next = index.next.next\n",
    "                \n",
    "    def removeDuplicatesSlow(self):\n",
    "        index = self.head\n",
    "        while index is not None:\n",
    "            runner = index\n",
    "            while runner.next is not None:\n",
    "                if runner.next.val == index.val:\n",
    "                    runner.next = runner.next.next\n",
    "                    break\n",
    "                else:\n",
    "                    runner = runner.next\n",
    "            index = index.next\n",
    "            \n",
    "    def fromLast(self, n):\n",
    "        count = 0\n",
    "        index = self.head\n",
    "        pointer = self.head\n",
    "        while count < n:\n",
    "            count += 1\n",
    "            index = index.next\n",
    "        while index.next is not None:\n",
    "            index = index.next\n",
    "            pointer = pointer.next\n",
    "        return pointer.val\n",
    "    \n",
    "def addLinked(self, other):\n",
    "    carry = 0\n",
    "    first = self.head\n",
    "    second = other.head\n",
    "    answer = LinkedList()\n",
    "    while first.next is not None:\n",
    "        temp = first.val + second.val + carry\n",
    "        print(temp)\n",
    "#             answer.add(temp%10)\n",
    "        carry = temp // 10\n",
    "        first = first.next\n",
    "        second = second.next\n",
    "    return answer\n",
    "    \n",
    "def deleteThis(node):\n",
    "    node.val = node.next.val\n",
    "    node.next = node.next.next"
   ]
  },
  {
   "cell_type": "code",
   "execution_count": 246,
   "metadata": {
    "scrolled": false
   },
   "outputs": [
    {
     "name": "stdout",
     "output_type": "stream",
     "text": [
      "0\n",
      "2\n",
      "4\n",
      "6\n"
     ]
    }
   ],
   "source": [
    "addLinked(linked,linked2);"
   ]
  },
  {
   "cell_type": "code",
   "execution_count": 166,
   "metadata": {},
   "outputs": [
    {
     "data": {
      "text/plain": [
       "1"
      ]
     },
     "execution_count": 166,
     "metadata": {},
     "output_type": "execute_result"
    }
   ],
   "source": [
    "linked.fromLast(4)"
   ]
  },
  {
   "cell_type": "code",
   "execution_count": 217,
   "metadata": {},
   "outputs": [
    {
     "name": "stdout",
     "output_type": "stream",
     "text": [
      "0->2->3->4->3->4->4\n"
     ]
    }
   ],
   "source": [
    "deleteThis(linked.head.next)\n",
    "print(linked)"
   ]
  },
  {
   "cell_type": "code",
   "execution_count": 220,
   "metadata": {},
   "outputs": [
    {
     "name": "stdout",
     "output_type": "stream",
     "text": [
      "0->1->2->3\n"
     ]
    }
   ],
   "source": [
    "print(linked2)"
   ]
  },
  {
   "cell_type": "code",
   "execution_count": 247,
   "metadata": {},
   "outputs": [
    {
     "name": "stdout",
     "output_type": "stream",
     "text": [
      "0->1->2->3->4\n"
     ]
    }
   ],
   "source": [
    "linked = LinkedList()\n",
    "linked2 = LinkedList()\n",
    "for i in range(6):\n",
    "    linked2.add(i)\n",
    "for i in range(6):\n",
    "    linked.add(i)\n",
    "print(linked)"
   ]
  },
  {
   "cell_type": "code",
   "execution_count": 174,
   "metadata": {},
   "outputs": [
    {
     "name": "stdout",
     "output_type": "stream",
     "text": [
      "0->2->3->4\n"
     ]
    }
   ],
   "source": [
    "linked.removeDuplicates()\n",
    "print(linked)"
   ]
  },
  {
   "cell_type": "code",
   "execution_count": 137,
   "metadata": {},
   "outputs": [
    {
     "name": "stdout",
     "output_type": "stream",
     "text": [
      "0->1->2->3->4\n"
     ]
    }
   ],
   "source": [
    "linked.removeDuplicatesSlow()\n",
    "print(linked)"
   ]
  }
 ],
 "metadata": {
  "kernelspec": {
   "display_name": "Python 3",
   "language": "python",
   "name": "python3"
  },
  "language_info": {
   "codemirror_mode": {
    "name": "ipython",
    "version": 3
   },
   "file_extension": ".py",
   "mimetype": "text/x-python",
   "name": "python",
   "nbconvert_exporter": "python",
   "pygments_lexer": "ipython3",
   "version": "3.6.2"
  }
 },
 "nbformat": 4,
 "nbformat_minor": 2
}
