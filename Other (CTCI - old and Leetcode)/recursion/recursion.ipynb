{
 "cells": [
  {
   "cell_type": "code",
   "execution_count": null,
   "metadata": {
    "collapsed": true
   },
   "outputs": [],
   "source": [
    "# fibonacci w/o memoization\n",
    "def fibonacci(n):\n",
    "    if n == 0:\n",
    "        return 0\n",
    "    if n == 1:\n",
    "        return 1\n",
    "#     else:\n",
    "    return fibonacci(n-1) + fibonacci(n-2)"
   ]
  },
  {
   "cell_type": "code",
   "execution_count": null,
   "metadata": {
    "collapsed": true
   },
   "outputs": [],
   "source": [
    "cache = {}\n",
    "def fib(n):\n",
    "    if n not in cache.keys():\n",
    "        cache[n] = _fib(n)\n",
    "    return cache[n]"
   ]
  },
  {
   "cell_type": "code",
   "execution_count": null,
   "metadata": {
    "collapsed": true
   },
   "outputs": [],
   "source": [
    "def _fib(n):\n",
    "    if n < 2:\n",
    "        return n\n",
    "    return fib(n-1) + fib(n-2)"
   ]
  },
  {
   "cell_type": "code",
   "execution_count": null,
   "metadata": {
    "collapsed": true
   },
   "outputs": [],
   "source": [
    "fibonacci(3)"
   ]
  },
  {
   "cell_type": "code",
   "execution_count": null,
   "metadata": {
    "collapsed": true
   },
   "outputs": [],
   "source": [
    "fib(1)"
   ]
  },
  {
   "cell_type": "code",
   "execution_count": null,
   "metadata": {
    "collapsed": true
   },
   "outputs": [],
   "source": [
    "# robot in NxN matrix\n",
    "from collections import deque\n",
    "def robotPath(n):\n",
    "    queue = deque([(0,0)])\n",
    "    count = 0\n",
    "    while queue:\n",
    "        count += 1\n",
    "        i,j = queue.pop()\n",
    "        if j + 1 < n:\n",
    "            queue.append((i,j+1))\n",
    "        if i + 1 < n:\n",
    "            queue.append((i+1,j))\n",
    "    return count"
   ]
  },
  {
   "cell_type": "code",
   "execution_count": null,
   "metadata": {
    "collapsed": true
   },
   "outputs": [],
   "source": [
    "robotPath(5)"
   ]
  },
  {
   "cell_type": "code",
   "execution_count": 7,
   "metadata": {},
   "outputs": [
    {
     "data": {
      "text/plain": [
       "32"
      ]
     },
     "execution_count": 7,
     "metadata": {},
     "output_type": "execute_result"
    }
   ],
   "source": [
    "a = 2\n",
    "1 << 5"
   ]
  },
  {
   "cell_type": "code",
   "execution_count": 8,
   "metadata": {
    "collapsed": true
   },
   "outputs": [],
   "source": [
    "def createSubsetBinary(a):\n",
    "    result = []\n",
    "    for i in range(1 << len(a)):\n",
    "        temp = []\n",
    "        for j in range(len(a)):\n",
    "            if i & (1 << j) > 0:\n",
    "                temp.append(a[j])\n",
    "        result.append(temp)\n",
    "    return result"
   ]
  },
  {
   "cell_type": "code",
   "execution_count": 9,
   "metadata": {},
   "outputs": [
    {
     "data": {
      "text/plain": [
       "[[],\n",
       " [1],\n",
       " [2],\n",
       " [1, 2],\n",
       " [3],\n",
       " [1, 3],\n",
       " [2, 3],\n",
       " [1, 2, 3],\n",
       " [4],\n",
       " [1, 4],\n",
       " [2, 4],\n",
       " [1, 2, 4],\n",
       " [3, 4],\n",
       " [1, 3, 4],\n",
       " [2, 3, 4],\n",
       " [1, 2, 3, 4]]"
      ]
     },
     "execution_count": 9,
     "metadata": {},
     "output_type": "execute_result"
    }
   ],
   "source": [
    "a = [1,2,3,4]\n",
    "createSubsetBinary(a)"
   ]
  },
  {
   "cell_type": "code",
   "execution_count": null,
   "metadata": {
    "collapsed": true
   },
   "outputs": [],
   "source": [
    "def validParenthesis(brackets):\n",
    "    myDict = {'(' : ')'}\n",
    "    myStack = []\n",
    "    for val in brackets:\n",
    "        if val in myDict.keys():\n",
    "            myStack.append(myDict[val])\n",
    "        else:\n",
    "            if len(myStack) == 0 or val != myStack.pop():\n",
    "                return False\n",
    "    return len(myStack) == 0"
   ]
  },
  {
   "cell_type": "code",
   "execution_count": null,
   "metadata": {
    "collapsed": true
   },
   "outputs": [],
   "source": [
    "validParenthesis('()()')"
   ]
  },
  {
   "cell_type": "code",
   "execution_count": null,
   "metadata": {
    "collapsed": true
   },
   "outputs": [],
   "source": [
    "def coinSum(coins, amount, current):\n",
    "    if amount == 0:\n",
    "        return 1\n",
    "    elif amount < 0:\n",
    "        return 0\n",
    "    else:\n",
    "        nCombos = 0\n",
    "        for i in range(current, len(coins)):\n",
    "            nCombos += coinSum(coins, amount - coins[i], i)\n",
    "    return nCombos"
   ]
  },
  {
   "cell_type": "code",
   "execution_count": null,
   "metadata": {
    "collapsed": true
   },
   "outputs": [],
   "source": [
    "coinSum([1,2], 5, 0)"
   ]
  },
  {
   "cell_type": "code",
   "execution_count": null,
   "metadata": {
    "collapsed": true
   },
   "outputs": [],
   "source": [
    "check = 0\n",
    "def nQueen(col, row):\n",
    "    if row == len(col):\n",
    "        global check\n",
    "        check += 1\n",
    "        return\n",
    "    for i in range(len(col)):\n",
    "        col[row] = i\n",
    "        if isSafe(col, row):\n",
    "            nQueen(col, row+1)\n",
    "            \n",
    "def isSafe(col, row):\n",
    "    for i in range(row):\n",
    "        diff = abs(col[i] - col[row])\n",
    "        if diff == 0 or diff == row - i:\n",
    "            return False\n",
    "    return True"
   ]
  },
  {
   "cell_type": "code",
   "execution_count": null,
   "metadata": {
    "collapsed": true
   },
   "outputs": [],
   "source": [
    "a = [None] * 8"
   ]
  },
  {
   "cell_type": "code",
   "execution_count": null,
   "metadata": {
    "collapsed": true
   },
   "outputs": [],
   "source": [
    "nQueen(a, 0)\n",
    "numSolutions"
   ]
  },
  {
   "cell_type": "code",
   "execution_count": null,
   "metadata": {
    "collapsed": true
   },
   "outputs": [],
   "source": [
    "nSolutions"
   ]
  },
  {
   "cell_type": "code",
   "execution_count": null,
   "metadata": {
    "collapsed": true
   },
   "outputs": [],
   "source": [
    "check"
   ]
  },
  {
   "cell_type": "code",
   "execution_count": 3,
   "metadata": {},
   "outputs": [
    {
     "data": {
      "text/plain": [
       "92"
      ]
     },
     "execution_count": 3,
     "metadata": {},
     "output_type": "execute_result"
    }
   ],
   "source": [
    "nSolutions = 0\n",
    "def nQueens(cols, row):\n",
    "    if row == len(cols):\n",
    "        global nSolutions\n",
    "        nSolutions += 1\n",
    "        return\n",
    "    for i in range(len(cols)):\n",
    "        cols[row] = i\n",
    "        if isSafe(cols, row):\n",
    "            nQueens(cols, row + 1)\n",
    "            \n",
    "def isSafe(cols, row):\n",
    "    for i in range(row):\n",
    "        diff = abs(cols[i] - cols[row])\n",
    "        if diff == 0 or diff == row - i:\n",
    "            return False\n",
    "    return True\n",
    "\n",
    "nQueens([None]*8, 0)\n",
    "nSolutions"
   ]
  }
 ],
 "metadata": {
  "kernelspec": {
   "display_name": "Python 3",
   "language": "python",
   "name": "python3"
  },
  "language_info": {
   "codemirror_mode": {
    "name": "ipython",
    "version": 3
   },
   "file_extension": ".py",
   "mimetype": "text/x-python",
   "name": "python",
   "nbconvert_exporter": "python",
   "pygments_lexer": "ipython3",
   "version": "3.6.2"
  }
 },
 "nbformat": 4,
 "nbformat_minor": 2
}
