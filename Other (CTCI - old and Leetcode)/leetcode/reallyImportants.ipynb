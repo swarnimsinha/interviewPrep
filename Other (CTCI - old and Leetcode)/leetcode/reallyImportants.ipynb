{
 "cells": [
  {
   "cell_type": "code",
   "execution_count": null,
   "metadata": {
    "collapsed": true
   },
   "outputs": [],
   "source": [
    "from collections import defaultdict\n",
    "def createTrie(*words):\n",
    "    trie = {}\n",
    "    for word in words:\n",
    "        current = trie\n",
    "        for letter in word:\n",
    "            current = current.setdefault(letter, {})\n",
    "        current['_end'] = 'end'\n",
    "    return trie\n",
    "\n",
    "def inTrie(trie, word):\n",
    "    current = trie\n",
    "    for letter in word:\n",
    "        if letter in current:\n",
    "            current = current[letter]\n",
    "        else:\n",
    "            return False\n",
    "    if '_end' in current:\n",
    "        return True\n",
    "    else:\n",
    "        return False"
   ]
  },
  {
   "cell_type": "code",
   "execution_count": null,
   "metadata": {
    "collapsed": true
   },
   "outputs": [],
   "source": [
    "myTrie['t']['e']['s']['t']"
   ]
  },
  {
   "cell_type": "code",
   "execution_count": null,
   "metadata": {
    "collapsed": true
   },
   "outputs": [],
   "source": [
    "myTrie = createTrie('test', 'testing')"
   ]
  },
  {
   "cell_type": "code",
   "execution_count": null,
   "metadata": {
    "collapsed": true
   },
   "outputs": [],
   "source": [
    "inTrie(myTrie, 'testin')"
   ]
  },
  {
   "cell_type": "code",
   "execution_count": null,
   "metadata": {
    "collapsed": true
   },
   "outputs": [],
   "source": [
    "def phoneCombinations(digits):\n",
    "    digit_map = {\n",
    "        '2': 'abc',\n",
    "        '3': 'def',\n",
    "        '4': 'ghi',\n",
    "        '5': 'jkl',\n",
    "        '6': 'mno',\n",
    "        '7': 'pqrs',\n",
    "        '8': 'tuv',\n",
    "        '9': 'wxyz',\n",
    "    }\n",
    "    ans = ['']\n",
    "    for digit in digits:\n",
    "        ans = [prefix + letter for prefix in ans for letter in digit_map[digit]]\n",
    "    return ans"
   ]
  },
  {
   "cell_type": "code",
   "execution_count": null,
   "metadata": {
    "collapsed": true
   },
   "outputs": [],
   "source": [
    "phoneCombinations('24')"
   ]
  },
  {
   "cell_type": "code",
   "execution_count": null,
   "metadata": {
    "collapsed": true
   },
   "outputs": [],
   "source": [
    "def isValid(s):\n",
    "    parenTheses = {')':'(', '}':'{', ']':'['}\n",
    "    stack = []\n",
    "    for val in s:\n",
    "        print(stack)\n",
    "        if val in parenTheses:\n",
    "            if parenTheses[val] != stack.pop():\n",
    "                return False\n",
    "        else:\n",
    "            stack.append(val)\n",
    "    return len(stack) == 0"
   ]
  },
  {
   "cell_type": "code",
   "execution_count": null,
   "metadata": {
    "collapsed": true
   },
   "outputs": [],
   "source": [
    "def generateParenthesis(n):\n",
    "    if n == 0:\n",
    "        return []\n",
    "    return genParenthesisHelper('', n, 0)\n",
    "\n",
    "def genParenthesisHelper(paren, av_open, av_close):\n",
    "    if av_open == 0:\n",
    "        return [paren + ')' * av_close]\n",
    "    if av_close == 0:\n",
    "        return genParenthesisHelper(paren+'(', av_open - 1, av_close + 1)\n",
    "    \n",
    "    return genParenthesisHelper(paren+'(', av_open - 1, av_close + 1) + genParenthesisHelper(paren + ')', av_open, av_close- 1)"
   ]
  },
  {
   "cell_type": "code",
   "execution_count": null,
   "metadata": {
    "collapsed": true
   },
   "outputs": [],
   "source": [
    "generateParenthesis(3)"
   ]
  },
  {
   "cell_type": "code",
   "execution_count": null,
   "metadata": {
    "collapsed": true
   },
   "outputs": [],
   "source": [
    "z = [3,2,5,4,1]\n",
    "z[2:] = sorted(z[2:])\n",
    "z"
   ]
  },
  {
   "cell_type": "code",
   "execution_count": null,
   "metadata": {
    "collapsed": true
   },
   "outputs": [],
   "source": [
    "array = [1,5,1]\n",
    "def getNextPermutation(array):\n",
    "    i = len(array) - 1\n",
    "    j = -1\n",
    "    while i > 0 and array[i-1] > array[i]:\n",
    "        i -= 1\n",
    "        \n",
    "    if i <= 0:\n",
    "        array = array[::-1]\n",
    "        return array\n",
    "    else:\n",
    "        j = len(array) - 1\n",
    "        while array[j] < array[i-1]:\n",
    "            j -= 1\n",
    "        array[j], array[i-1] = array[i-1], array[j]\n",
    "    j = len(array) - 1\n",
    "    while i < j:\n",
    "        array[i], array[j] = array[j], array[i]\n",
    "        i += 1\n",
    "        j -= 1\n",
    "    return array"
   ]
  },
  {
   "cell_type": "code",
   "execution_count": null,
   "metadata": {
    "collapsed": true
   },
   "outputs": [],
   "source": [
    "print(getNextPermutation(array))"
   ]
  },
  {
   "cell_type": "code",
   "execution_count": null,
   "metadata": {
    "collapsed": true
   },
   "outputs": [],
   "source": [
    "# trapping rain water\n",
    "def trap(height):\n",
    "    # idea is to keep a left array which saves the maximum on the left\n",
    "    # and right array which keeps a list of maximum on the right\n",
    "    leftArray = []\n",
    "    rightArray = []\n",
    "    curMax = height[0]\n",
    "    for i in range(len(height)):\n",
    "        if height[i] > curMax:\n",
    "            curMax = height[i]\n",
    "        leftArray.append(curMax)\n",
    "    curMax = height[-1]\n",
    "    for i in range(len(height) - 1, -1, -1):\n",
    "        if height[i] > curMax:\n",
    "            curMax = height[i]\n",
    "        rightArray.append(curMax)\n",
    "    water = 0\n",
    "    rightArray = rightArray[::-1]\n",
    "    # for each value, the water height is the minimum of these two\n",
    "    # minus the height of the water\n",
    "    for i in range(len(height)):\n",
    "        water += min(leftArray[i], rightArray[i]) - height[i]\n",
    "    return water"
   ]
  },
  {
   "cell_type": "code",
   "execution_count": null,
   "metadata": {
    "collapsed": true
   },
   "outputs": [],
   "source": [
    "trap([0,1,0,2,1,0,1,3,2,1,2,1])"
   ]
  },
  {
   "cell_type": "code",
   "execution_count": null,
   "metadata": {
    "collapsed": true
   },
   "outputs": [],
   "source": [
    "def power(x, n):\n",
    "    m = abs(n)\n",
    "    ans = 1\n",
    "    while m:\n",
    "        if m % 2:\n",
    "            ans *= x\n",
    "        m //= 2\n",
    "        x *= x\n",
    "    return ans if n > 0 else 1/ans"
   ]
  },
  {
   "cell_type": "code",
   "execution_count": null,
   "metadata": {
    "collapsed": true
   },
   "outputs": [],
   "source": [
    "power(2,-3)"
   ]
  },
  {
   "cell_type": "code",
   "execution_count": null,
   "metadata": {
    "collapsed": true
   },
   "outputs": [],
   "source": [
    "def spiralOrder(matrix):\n",
    "    index = len(matrix)\n",
    "    count = 0\n",
    "    i,j = 0,0\n",
    "    count = 0\n",
    "    ans = []\n",
    "    while index != 0:\n",
    "        index //= 2\n",
    "        while j < len(matrix[i]) - count:\n",
    "            ans.append(matrix[i][j])\n",
    "            j += 1\n",
    "        j -= 1\n",
    "        while i < len(matrix) - 1 - count:\n",
    "            i += 1\n",
    "            ans.append(matrix[i][j])\n",
    "        while j > 0 + count:\n",
    "            j -=1\n",
    "            print(matrix[i][j])\n",
    "            ans.append(matrix[i][j])\n",
    "        count += 1\n",
    "        while i > 0 + count:\n",
    "            i -= 1\n",
    "            ans.append(matrix[i][j])\n",
    "        i,j = count, count\n",
    "    return ans\n",
    "# code is off by one for m x n matrices"
   ]
  },
  {
   "cell_type": "code",
   "execution_count": null,
   "metadata": {
    "collapsed": true
   },
   "outputs": [],
   "source": [
    "spiralOrder([\n",
    "  [1, 2, 3, 4],\n",
    "  [5, 6, 7, 8],\n",
    "  [9,10,11,12]\n",
    "])"
   ]
  },
  {
   "cell_type": "code",
   "execution_count": null,
   "metadata": {
    "collapsed": true
   },
   "outputs": [],
   "source": [
    "def mergeIntervals(array):\n",
    "    array = sorted(array)\n",
    "    l,r = 0,1\n",
    "    while l < len(array) - 1:\n",
    "        r = l + 1\n",
    "        if array[l][1] >= array[r][0]:\n",
    "            array[l][1] = max(array[r][1], array[l][1])\n",
    "            array.pop(r)\n",
    "            continue\n",
    "        l += 1\n",
    "    return array"
   ]
  },
  {
   "cell_type": "code",
   "execution_count": null,
   "metadata": {
    "collapsed": true
   },
   "outputs": [],
   "source": [
    "mergeIntervals([[1,3],[2,6],[8,100],[15,18], [17,200]])"
   ]
  },
  {
   "cell_type": "code",
   "execution_count": null,
   "metadata": {
    "collapsed": true
   },
   "outputs": [],
   "source": [
    "def plusOne(number):\n",
    "    carry = 0\n",
    "    ans = []\n",
    "    for num in number:\n",
    "        value = num + carry\n",
    "        ans.append(value % 10)\n",
    "        carry = value // 10\n",
    "    if carry:\n",
    "        ans.append(carry)\n",
    "    return ans[::-1]"
   ]
  },
  {
   "cell_type": "code",
   "execution_count": 72,
   "metadata": {
    "collapsed": true
   },
   "outputs": [],
   "source": [
    "def lcs(nums):\n",
    "    numSet = set()\n",
    "    ans = 0\n",
    "    for val in nums:\n",
    "        numSet.add(val)\n",
    "        \n",
    "    for i in range(len(nums)):\n",
    "        if nums[i]-1 not in numSet:\n",
    "            j = nums[i]\n",
    "            while j in numSet:\n",
    "                j += 1\n",
    "            \n",
    "            ans = max(j-nums[i], ans)\n",
    "    return ans"
   ]
  },
  {
   "cell_type": "code",
   "execution_count": 73,
   "metadata": {},
   "outputs": [
    {
     "data": {
      "text/plain": [
       "6"
      ]
     },
     "execution_count": 73,
     "metadata": {},
     "output_type": "execute_result"
    }
   ],
   "source": [
    "lcs([1,2,3,4,2,5,6,8])"
   ]
  },
  {
   "cell_type": "code",
   "execution_count": null,
   "metadata": {
    "collapsed": true
   },
   "outputs": [],
   "source": [
    "def wordBreak(s, words):\n",
    "    val = [False] * len(s)\n",
    "    for i in range(len(s)):\n",
    "        for w in words:\n",
    "            if w == s[i - len(w)+1:i+1] and (val[i-len(w)] or i - len(w) == -1):\n",
    "                val[i] = True\n",
    "    return val[-1]"
   ]
  },
  {
   "cell_type": "code",
   "execution_count": null,
   "metadata": {
    "collapsed": true
   },
   "outputs": [],
   "source": [
    "wordBreak('applesauce', ['apple', 'sauce'])"
   ]
  },
  {
   "cell_type": "code",
   "execution_count": null,
   "metadata": {
    "collapsed": true
   },
   "outputs": [],
   "source": [
    "3 >> 1"
   ]
  },
  {
   "cell_type": "code",
   "execution_count": 24,
   "metadata": {
    "collapsed": true
   },
   "outputs": [],
   "source": [
    "def powerset(string):\n",
    "    ans = []\n",
    "    for i in range(2**len(string)):\n",
    "        temp = []\n",
    "        for j in range(len(string)):\n",
    "            if (i << j) & i:\n",
    "                temp.append(string[j])\n",
    "        ans.append(temp)\n",
    "    return ans"
   ]
  },
  {
   "cell_type": "code",
   "execution_count": 30,
   "metadata": {
    "collapsed": true
   },
   "outputs": [],
   "source": [
    "def powerset(string):\n",
    "    ans = [[]]\n",
    "    for element in string:\n",
    "        ans += [x + [element] for x in ans]\n",
    "    return ans"
   ]
  },
  {
   "cell_type": "code",
   "execution_count": 32,
   "metadata": {},
   "outputs": [
    {
     "data": {
      "text/plain": [
       "[[], ['a'], ['b'], ['a', 'b'], ['c'], ['a', 'c'], ['b', 'c'], ['a', 'b', 'c']]"
      ]
     },
     "execution_count": 32,
     "metadata": {},
     "output_type": "execute_result"
    }
   ],
   "source": [
    "powerset(['a', 'b', 'c'])"
   ]
  },
  {
   "cell_type": "code",
   "execution_count": 61,
   "metadata": {
    "collapsed": true
   },
   "outputs": [],
   "source": [
    "def removeDuplicates(nums):\n",
    "    numSet = set()\n",
    "    i = 0\n",
    "    while i < len(nums):\n",
    "        if nums[i] not in numSet:\n",
    "            numSet.add(nums[i])\n",
    "            i += 1\n",
    "        else:\n",
    "            nums.pop(i)\n",
    "    return nums\n",
    "\n",
    "# complexity is O(n)"
   ]
  },
  {
   "cell_type": "code",
   "execution_count": 62,
   "metadata": {},
   "outputs": [
    {
     "data": {
      "text/plain": [
       "[3, 22, 12323, 23, 12, 321]"
      ]
     },
     "execution_count": 62,
     "metadata": {},
     "output_type": "execute_result"
    }
   ],
   "source": [
    "removeDuplicates([3,3,22,3,3,3,12323,23,12,321,321,3])"
   ]
  }
 ],
 "metadata": {
  "kernelspec": {
   "display_name": "Python 3",
   "language": "python",
   "name": "python3"
  },
  "language_info": {
   "codemirror_mode": {
    "name": "ipython",
    "version": 3
   },
   "file_extension": ".py",
   "mimetype": "text/x-python",
   "name": "python",
   "nbconvert_exporter": "python",
   "pygments_lexer": "ipython3",
   "version": "3.6.2"
  }
 },
 "nbformat": 4,
 "nbformat_minor": 2
}
