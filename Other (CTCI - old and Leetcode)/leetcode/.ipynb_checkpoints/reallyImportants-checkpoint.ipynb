{
 "cells": [
  {
   "cell_type": "code",
   "execution_count": 59,
   "metadata": {
    "collapsed": true
   },
   "outputs": [],
   "source": [
    "from collections import defaultdict\n",
    "def createTrie(*words):\n",
    "    trie = {}\n",
    "    for word in words:\n",
    "        current = trie\n",
    "        for letter in word:\n",
    "            current = current.setdefault(letter, {})\n",
    "        current['_end'] = 'end'\n",
    "    return trie\n",
    "\n",
    "def inTrie(trie, word):\n",
    "    current = trie\n",
    "    for letter in word:\n",
    "        if letter in current:\n",
    "            current = current[letter]\n",
    "        else:\n",
    "            return False\n",
    "    if '_end' in current:\n",
    "        return True\n",
    "    else:\n",
    "        return False"
   ]
  },
  {
   "cell_type": "code",
   "execution_count": 60,
   "metadata": {},
   "outputs": [
    {
     "data": {
      "text/plain": [
       "{'_end': 'end', 'i': {'n': {'g': {'_end': 'end'}}}}"
      ]
     },
     "execution_count": 60,
     "metadata": {},
     "output_type": "execute_result"
    }
   ],
   "source": [
    "myTrie['t']['e']['s']['t']"
   ]
  },
  {
   "cell_type": "code",
   "execution_count": 61,
   "metadata": {},
   "outputs": [],
   "source": [
    "myTrie = createTrie('test', 'testing')"
   ]
  },
  {
   "cell_type": "code",
   "execution_count": 65,
   "metadata": {},
   "outputs": [
    {
     "data": {
      "text/plain": [
       "False"
      ]
     },
     "execution_count": 65,
     "metadata": {},
     "output_type": "execute_result"
    }
   ],
   "source": [
    "inTrie(myTrie, 'testin')"
   ]
  },
  {
   "cell_type": "code",
   "execution_count": 77,
   "metadata": {
    "collapsed": true
   },
   "outputs": [],
   "source": [
    "def phoneCombinations(digits):\n",
    "    digit_map = {\n",
    "        '2': 'abc',\n",
    "        '3': 'def',\n",
    "        '4': 'ghi',\n",
    "        '5': 'jkl',\n",
    "        '6': 'mno',\n",
    "        '7': 'pqrs',\n",
    "        '8': 'tuv',\n",
    "        '9': 'wxyz',\n",
    "    }\n",
    "    ans = ['']\n",
    "    for digit in digits:\n",
    "        ans = [prefix + letter for prefix in ans for letter in digit_map[digit]]\n",
    "    return ans"
   ]
  },
  {
   "cell_type": "code",
   "execution_count": 78,
   "metadata": {},
   "outputs": [
    {
     "data": {
      "text/plain": [
       "['ag', 'ah', 'ai', 'bg', 'bh', 'bi', 'cg', 'ch', 'ci']"
      ]
     },
     "execution_count": 78,
     "metadata": {},
     "output_type": "execute_result"
    }
   ],
   "source": [
    "phoneCombinations('24')"
   ]
  },
  {
   "cell_type": "code",
   "execution_count": 99,
   "metadata": {
    "collapsed": true
   },
   "outputs": [],
   "source": [
    "def isValid(s):\n",
    "    parenTheses = {')':'(', '}':'{', ']':'['}\n",
    "    stack = []\n",
    "    for val in s:\n",
    "        print(stack)\n",
    "        if val in parenTheses:\n",
    "            if parenTheses[val] != stack.pop():\n",
    "                return False\n",
    "        else:\n",
    "            stack.append(val)\n",
    "    return len(stack) == 0"
   ]
  },
  {
   "cell_type": "code",
   "execution_count": 118,
   "metadata": {
    "collapsed": true
   },
   "outputs": [],
   "source": [
    "def generateParenthesis(n):\n",
    "    if n == 0:\n",
    "        return []\n",
    "    return genParenthesisHelper('', n, 0)\n",
    "\n",
    "def genParenthesisHelper(paren, av_open, av_close):\n",
    "    if av_open == 0:\n",
    "        return [paren + ')' * av_close]\n",
    "    if av_close == 0:\n",
    "        return genParenthesisHelper(paren+'(', av_open - 1, av_close + 1)\n",
    "    \n",
    "    return genParenthesisHelper(paren+'(', av_open - 1, av_close + 1) + genParenthesisHelper(paren + ')', av_open, av_close- 1)"
   ]
  },
  {
   "cell_type": "code",
   "execution_count": 119,
   "metadata": {},
   "outputs": [
    {
     "data": {
      "text/plain": [
       "['((()))', '(()())', '(())()', '()(())', '()()()']"
      ]
     },
     "execution_count": 119,
     "metadata": {},
     "output_type": "execute_result"
    }
   ],
   "source": [
    "generateParenthesis(3)"
   ]
  },
  {
   "cell_type": "code",
   "execution_count": 181,
   "metadata": {},
   "outputs": [
    {
     "data": {
      "text/plain": [
       "[3, 2, 1, 4, 5]"
      ]
     },
     "execution_count": 181,
     "metadata": {},
     "output_type": "execute_result"
    }
   ],
   "source": [
    "z = [3,2,5,4,1]\n",
    "z[2:] = sorted(z[2:])\n",
    "z"
   ]
  },
  {
   "cell_type": "code",
   "execution_count": 338,
   "metadata": {},
   "outputs": [],
   "source": [
    "array = [1,5,1]\n",
    "def getNextPermutation(array):\n",
    "    i = len(array) - 1\n",
    "    j = -1\n",
    "    while i > 0 and array[i-1] > array[i]:\n",
    "        i -= 1\n",
    "        \n",
    "    if i <= 0:\n",
    "        array = array[::-1]\n",
    "        return array\n",
    "    else:\n",
    "        j = len(array) - 1\n",
    "        while array[j] < array[i-1]:\n",
    "            j -= 1\n",
    "        array[j], array[i-1] = array[i-1], array[j]\n",
    "    j = len(array) - 1\n",
    "    while i < j:\n",
    "        array[i], array[j] = array[j], array[i]\n",
    "        i += 1\n",
    "        j -= 1\n",
    "    return array"
   ]
  },
  {
   "cell_type": "code",
   "execution_count": 339,
   "metadata": {},
   "outputs": [
    {
     "name": "stdout",
     "output_type": "stream",
     "text": [
      "[1, 1, 5]\n"
     ]
    }
   ],
   "source": [
    "print(getNextPermutation(array))"
   ]
  },
  {
   "cell_type": "code",
   "execution_count": 362,
   "metadata": {
    "collapsed": true
   },
   "outputs": [],
   "source": [
    "# trapping rain water\n",
    "def trap(height):\n",
    "    # idea is to keep a left array which saves the maximum on the left\n",
    "    # and right array which keeps a list of maximum on the right\n",
    "    leftArray = []\n",
    "    rightArray = []\n",
    "    curMax = height[0]\n",
    "    for i in range(len(height)):\n",
    "        if height[i] > curMax:\n",
    "            curMax = height[i]\n",
    "        leftArray.append(curMax)\n",
    "    curMax = height[-1]\n",
    "    for i in range(len(height) - 1, -1, -1):\n",
    "        if height[i] > curMax:\n",
    "            curMax = height[i]\n",
    "        rightArray.append(curMax)\n",
    "    water = 0\n",
    "    rightArray = rightArray[::-1]\n",
    "    # for each value, the water height is the minimum of these two\n",
    "    # minus the height of the water\n",
    "    for i in range(len(height)):\n",
    "        water += min(leftArray[i], rightArray[i]) - height[i]\n",
    "    return water"
   ]
  },
  {
   "cell_type": "code",
   "execution_count": 363,
   "metadata": {},
   "outputs": [
    {
     "data": {
      "text/plain": [
       "6"
      ]
     },
     "execution_count": 363,
     "metadata": {},
     "output_type": "execute_result"
    }
   ],
   "source": [
    "trap([0,1,0,2,1,0,1,3,2,1,2,1])"
   ]
  },
  {
   "cell_type": "code",
   "execution_count": 381,
   "metadata": {},
   "outputs": [],
   "source": [
    "def power(x, n):\n",
    "    m = abs(n)\n",
    "    ans = 1\n",
    "    while m:\n",
    "        if m % 2:\n",
    "            ans *= x\n",
    "        m //= 2\n",
    "        x *= x\n",
    "    return ans if n > 0 else 1/ans"
   ]
  },
  {
   "cell_type": "code",
   "execution_count": 382,
   "metadata": {},
   "outputs": [
    {
     "data": {
      "text/plain": [
       "0.125"
      ]
     },
     "execution_count": 382,
     "metadata": {},
     "output_type": "execute_result"
    }
   ],
   "source": [
    "power(2,-3)"
   ]
  },
  {
   "cell_type": "code",
   "execution_count": 449,
   "metadata": {},
   "outputs": [],
   "source": [
    "def spiralOrder(matrix):\n",
    "    index = len(matrix)\n",
    "    count = 0\n",
    "    i,j = 0,0\n",
    "    count = 0\n",
    "    ans = []\n",
    "    while index != 0:\n",
    "        index //= 2\n",
    "        while j < len(matrix[i]) - count:\n",
    "            ans.append(matrix[i][j])\n",
    "            j += 1\n",
    "        j -= 1\n",
    "        while i < len(matrix) - 1 - count:\n",
    "            i += 1\n",
    "            ans.append(matrix[i][j])\n",
    "        while j > 0 + count:\n",
    "            j -=1\n",
    "            ans.append(matrix[i][j])\n",
    "        count += 1\n",
    "        while i > 0 + count:\n",
    "            i -= 1\n",
    "            ans.append(matrix[i][j])\n",
    "        i,j = count, count\n",
    "    return ans"
   ]
  },
  {
   "cell_type": "code",
   "execution_count": 451,
   "metadata": {},
   "outputs": [
    {
     "data": {
      "text/plain": [
       "[1, 2, 3, 4, 8, 12, 11, 10, 9, 5, 6, 7, 6]"
      ]
     },
     "execution_count": 451,
     "metadata": {},
     "output_type": "execute_result"
    }
   ],
   "source": [
    "spiralOrder([\n",
    "  [1, 2, 3, 4],\n",
    "  [5, 6, 7, 8],\n",
    "  [9,10,11,12]\n",
    "])"
   ]
  }
 ],
 "metadata": {
  "kernelspec": {
   "display_name": "Python 3",
   "language": "python",
   "name": "python3"
  },
  "language_info": {
   "codemirror_mode": {
    "name": "ipython",
    "version": 3
   },
   "file_extension": ".py",
   "mimetype": "text/x-python",
   "name": "python",
   "nbconvert_exporter": "python",
   "pygments_lexer": "ipython3",
   "version": "3.6.2"
  }
 },
 "nbformat": 4,
 "nbformat_minor": 2
}
