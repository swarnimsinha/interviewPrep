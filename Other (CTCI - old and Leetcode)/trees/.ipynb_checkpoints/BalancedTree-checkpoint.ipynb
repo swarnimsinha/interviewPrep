{
 "cells": [
  {
   "cell_type": "code",
   "execution_count": 1,
   "metadata": {
    "collapsed": true
   },
   "outputs": [],
   "source": [
    "class Node():\n",
    "    def __init__(self, val):\n",
    "        self.val = val\n",
    "        self.left = None\n",
    "        self.right = None"
   ]
  },
  {
   "cell_type": "code",
   "execution_count": 2,
   "metadata": {
    "collapsed": true
   },
   "outputs": [],
   "source": [
    "class Tree():\n",
    "    def __init__(self):\n",
    "        self.root = None\n",
    "        \n",
    "    def add(self, val):\n",
    "        if self.root is not None:\n",
    "            self._add(val, self.root)\n",
    "        else:\n",
    "            self.root = Node(val)\n",
    "    \n",
    "    def _add(self, val, node):\n",
    "        if val < node.val:\n",
    "            if node.left is not None:\n",
    "                self._add(val, node.left)\n",
    "            else:\n",
    "                node.left = Node(val)\n",
    "        else:\n",
    "            if node.right is not None:\n",
    "                self._add(val, node.right)\n",
    "            else:\n",
    "                node.right = Node(val)\n",
    "    \n",
    "    def inorder(self):\n",
    "        if self.root != None:\n",
    "            self._inorder(self.root)\n",
    "    \n",
    "    def _inorder(self, node):\n",
    "        if node != None:\n",
    "            self._inorder(node.left)\n",
    "            print(node.val)\n",
    "            self._inorder(node.right)\n",
    "            \n",
    "    def postorder(self):\n",
    "        if self.root != None:\n",
    "            self._postorder(self.root)\n",
    "            \n",
    "    def _postorder(self, node):\n",
    "        if node != None:\n",
    "            self._postorder(node.left)\n",
    "            self._postorder(node.right)\n",
    "            print(node.val)\n",
    "            \n",
    "    def preorder(self):\n",
    "        if self.root != None:\n",
    "            self._preorder(self.root)\n",
    "            \n",
    "    def _preorder(self, node):\n",
    "        if node != None:\n",
    "            print(node.val)\n",
    "            self._preorder(node.left)\n",
    "            self._preorder(node.right)            "
   ]
  },
  {
   "cell_type": "code",
   "execution_count": 3,
   "metadata": {
    "collapsed": true
   },
   "outputs": [],
   "source": [
    "myTree = Tree()\n",
    "myTree.add(4)\n",
    "myTree.add(2)\n",
    "myTree.add(6)\n",
    "myTree.add(1)\n",
    "myTree.add(3)\n",
    "myTree.add(5)\n",
    "myTree.add(7)"
   ]
  },
  {
   "cell_type": "code",
   "execution_count": 4,
   "metadata": {},
   "outputs": [
    {
     "name": "stdout",
     "output_type": "stream",
     "text": [
      "1\n",
      "2\n",
      "3\n",
      "4\n",
      "5\n",
      "6\n",
      "7\n"
     ]
    }
   ],
   "source": [
    "myTree.inorder()"
   ]
  },
  {
   "cell_type": "code",
   "execution_count": 5,
   "metadata": {},
   "outputs": [
    {
     "name": "stdout",
     "output_type": "stream",
     "text": [
      "1\n",
      "3\n",
      "2\n",
      "5\n",
      "7\n",
      "6\n",
      "4\n"
     ]
    }
   ],
   "source": [
    "myTree.postorder()"
   ]
  },
  {
   "cell_type": "code",
   "execution_count": 6,
   "metadata": {},
   "outputs": [
    {
     "name": "stdout",
     "output_type": "stream",
     "text": [
      "4\n",
      "2\n",
      "1\n",
      "3\n",
      "6\n",
      "5\n",
      "7\n"
     ]
    }
   ],
   "source": [
    "myTree.preorder()"
   ]
  },
  {
   "cell_type": "code",
   "execution_count": 7,
   "metadata": {},
   "outputs": [
    {
     "data": {
      "text/plain": [
       "True"
      ]
     },
     "execution_count": 7,
     "metadata": {},
     "output_type": "execute_result"
    }
   ],
   "source": [
    "# checking if a tree is balanced\n",
    "# idea is the max depth - mindepth shouldn't be greater than 1\n",
    "def isBalance(tree):\n",
    "    return ((maxDepth(tree.root) - minDepth(tree.root)) < 1)\n",
    "\n",
    "def maxDepth(node):\n",
    "    if node is not None:\n",
    "        return 1 + max(maxDepth(node.left), maxDepth(node.right))\n",
    "    else:\n",
    "        return 0\n",
    "    \n",
    "def minDepth(node):\n",
    "    if node is not None:\n",
    "        return 1 + min(minDepth(node.left), minDepth(node.right))\n",
    "    else:\n",
    "        return 0\n",
    "\n",
    "isBalance(myTree)"
   ]
  },
  {
   "cell_type": "code",
   "execution_count": 8,
   "metadata": {
    "collapsed": true
   },
   "outputs": [],
   "source": [
    "# finding first common ancestor of two trees\n",
    "def commonAncestor(root, node1, node2):\n",
    "    if root is None:\n",
    "        return None\n",
    "    if root.val == node1 or root.val == node2:\n",
    "        return root\n",
    "    left = commonAncestor(root.left, node1, node2)\n",
    "    right = commonAncestor(root.right, node1, node2)\n",
    "    if left is not None and right is not None:\n",
    "        return root\n",
    "    elif left is None and right is None:\n",
    "        return None\n",
    "    elif left is None:\n",
    "        return right\n",
    "    else:\n",
    "        return left"
   ]
  },
  {
   "cell_type": "code",
   "execution_count": 9,
   "metadata": {
    "scrolled": true
   },
   "outputs": [
    {
     "data": {
      "text/plain": [
       "2"
      ]
     },
     "execution_count": 9,
     "metadata": {},
     "output_type": "execute_result"
    }
   ],
   "source": [
    "commonAncestor(myTree.root, 1,2).val"
   ]
  },
  {
   "cell_type": "code",
   "execution_count": 73,
   "metadata": {},
   "outputs": [],
   "source": [
    "# finding subtree with a given sum\n",
    "def findSum(node, sumVal, sumArray, level):\n",
    "    if node is None:\n",
    "        return None\n",
    "    sumArray.append(node.val)\n",
    "    temp = sumVal\n",
    "    for i in range(len(sumArray)-1, 0, -1):\n",
    "        temp -= sumArray[i]\n",
    "        if temp == 0:\n",
    "            print(sumArray[i:])\n",
    "    array1 = sumArray[:]\n",
    "    array2 = sumArray[:]\n",
    "    findSum(node.left, sumVal, array1, level+1)\n",
    "    findSum(node.right, sumVal, array2, level+1)"
   ]
  },
  {
   "cell_type": "code",
   "execution_count": 72,
   "metadata": {},
   "outputs": [
    {
     "name": "stdout",
     "output_type": "stream",
     "text": [
      "[2, 3]\n",
      "[5]\n"
     ]
    }
   ],
   "source": [
    "findSum(myTree.root, 5, [], 0)"
   ]
  }
 ],
 "metadata": {
  "kernelspec": {
   "display_name": "Python 3",
   "language": "python",
   "name": "python3"
  },
  "language_info": {
   "codemirror_mode": {
    "name": "ipython",
    "version": 3
   },
   "file_extension": ".py",
   "mimetype": "text/x-python",
   "name": "python",
   "nbconvert_exporter": "python",
   "pygments_lexer": "ipython3",
   "version": "3.6.2"
  }
 },
 "nbformat": 4,
 "nbformat_minor": 2
}
