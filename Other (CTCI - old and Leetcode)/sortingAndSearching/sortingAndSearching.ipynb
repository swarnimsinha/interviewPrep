{
 "cells": [
  {
   "cell_type": "code",
   "execution_count": 17,
   "metadata": {
    "collapsed": true
   },
   "outputs": [],
   "source": [
    "# merge two sorted arrays\n",
    "def mergeSorted(array1, array2):\n",
    "    i, j = 0, 0\n",
    "    result = []\n",
    "    while True:\n",
    "        if array1[i] <= array2[j]:\n",
    "            result.append(array1[i])\n",
    "            i += 1\n",
    "        else:\n",
    "            result.append(array2[j])\n",
    "            j += 1\n",
    "        if i == len(array1) or j == len(array2):\n",
    "            result.extend(array2[j:]) or result.extend(array1[i:])\n",
    "            break\n",
    "    return result"
   ]
  },
  {
   "cell_type": "code",
   "execution_count": 18,
   "metadata": {},
   "outputs": [
    {
     "data": {
      "text/plain": [
       "[1, 3, 3, 4, 5, 6]"
      ]
     },
     "execution_count": 18,
     "metadata": {},
     "output_type": "execute_result"
    }
   ],
   "source": [
    "mergeSorted([1,3,6],[3,4,5])"
   ]
  },
  {
   "cell_type": "code",
   "execution_count": 52,
   "metadata": {
    "collapsed": true
   },
   "outputs": [],
   "source": [
    "# sort strongs such that all anagrams are next to each other\n",
    "from collections import Counter\n",
    "from collections import defaultdict\n",
    "myDict = defaultdict(list)\n",
    "result = []\n",
    "def sortedAnagrams(arrayString):\n",
    "    for string in arrayString:\n",
    "        sortedString = ''.join(x for x in sorted(string))\n",
    "        myDict[sortedString].append(string)\n",
    "    \n",
    "    for key in myDict:\n",
    "        [result.append(x) for x in myDict[key]]\n",
    "    \n",
    "    return result"
   ]
  },
  {
   "cell_type": "code",
   "execution_count": 53,
   "metadata": {},
   "outputs": [
    {
     "data": {
      "text/plain": [
       "['test', 'stet', 'tets', 'lame']"
      ]
     },
     "execution_count": 53,
     "metadata": {},
     "output_type": "execute_result"
    }
   ],
   "source": [
    "sortedAnagrams(['test', 'stet', 'lame', 'tets'])"
   ]
  },
  {
   "cell_type": "code",
   "execution_count": 120,
   "metadata": {
    "collapsed": true
   },
   "outputs": [],
   "source": [
    "def rotatedFind(array, item):\n",
    "    l = 0\n",
    "    r = len(array) - 1\n",
    "    while l <= r:\n",
    "        mid = (l + r) // 2\n",
    "        if array[mid] == item:\n",
    "            return mid\n",
    "        \n",
    "        if array[r] > array[mid]:\n",
    "            if item <= array[r] and item > array[mid]:\n",
    "                l = mid + 1\n",
    "            else:\n",
    "                r = mid - 1\n",
    "        \n",
    "        else:\n",
    "            if item >= array[l] and item < array[mid]:\n",
    "                r = mid - 1\n",
    "            else:\n",
    "                l = mid + 1\n",
    "    \n",
    "    return -1"
   ]
  },
  {
   "cell_type": "code",
   "execution_count": 122,
   "metadata": {},
   "outputs": [
    {
     "data": {
      "text/plain": [
       "[0, 1, 2, 3, 4, 5, 6, 7, 8, 9, 10, 11, 12]"
      ]
     },
     "execution_count": 122,
     "metadata": {},
     "output_type": "execute_result"
    }
   ],
   "source": [
    "array = [15,16,19,20,1,2,3,4,5,6,7,8,9]\n",
    "[rotatedFind(array, x) for x in array]"
   ]
  },
  {
   "cell_type": "code",
   "execution_count": 123,
   "metadata": {},
   "outputs": [
    {
     "data": {
      "text/plain": [
       "[5, 5, 5, 5, 5, 5, 6, 5, 5, 5, 5, 5]"
      ]
     },
     "execution_count": 123,
     "metadata": {},
     "output_type": "execute_result"
    }
   ],
   "source": [
    "array = [1,1,1,1,1,1,0,1,1,1,1,1]\n",
    "[rotatedFind(array, x) for x in array]"
   ]
  },
  {
   "cell_type": "code",
   "execution_count": 125,
   "metadata": {},
   "outputs": [
    {
     "data": {
      "text/plain": [
       "1"
      ]
     },
     "execution_count": 125,
     "metadata": {},
     "output_type": "execute_result"
    }
   ],
   "source": [
    "3>>1"
   ]
  },
  {
   "cell_type": "code",
   "execution_count": 214,
   "metadata": {
    "collapsed": true
   },
   "outputs": [],
   "source": [
    "def interpersedSearch(array, item):\n",
    "    l = 0\n",
    "    r = len(array) - 1\n",
    "    while l <= r:\n",
    "        while l <= r and array[r] == \"\":\n",
    "            r -= 1\n",
    "        mid = (l+r)//2\n",
    "        while array[mid] == \"\":\n",
    "            mid += 1\n",
    "        if array[mid] == item:\n",
    "            return mid\n",
    "        \n",
    "        elif item <= array[mid]:\n",
    "            r = mid - 1\n",
    "        else:\n",
    "            l = mid + 1 \n",
    "    return -1"
   ]
  },
  {
   "cell_type": "code",
   "execution_count": 218,
   "metadata": {},
   "outputs": [
    {
     "data": {
      "text/plain": [
       "[0, -1, -1, 3, -1, 5]"
      ]
     },
     "execution_count": 218,
     "metadata": {},
     "output_type": "execute_result"
    }
   ],
   "source": [
    "array = ['aaa','','','bb','','ddd']\n",
    "[interpersedSearch(array,x) for x in array]"
   ]
  },
  {
   "cell_type": "code",
   "execution_count": 220,
   "metadata": {
    "collapsed": true
   },
   "outputs": [],
   "source": [
    "def findEleSortedMat(array, val):\n",
    "    i = 0; j = len(array[i]) - 1\n",
    "    while True:\n",
    "        if array[i][j] == val:\n",
    "            return (i,j)\n",
    "        elif array[i][j] < val:\n",
    "            i += 1\n",
    "        else:\n",
    "            j -= 1\n",
    "        if i == len(array) or i == -1 or j == -1 or j == len(array[i]):\n",
    "            return - 1"
   ]
  },
  {
   "cell_type": "code",
   "execution_count": 240,
   "metadata": {},
   "outputs": [
    {
     "data": {
      "text/plain": [
       "[[(0, 0), (0, 1), (0, 2), (0, 3)],\n",
       " [(1, 0), (1, 1), (1, 2), (1, 3)],\n",
       " [(2, 0), (2, 1), (2, 2), (2, 3)],\n",
       " [(3, 0), (3, 1), (3, 2), (3, 3)]]"
      ]
     },
     "execution_count": 240,
     "metadata": {},
     "output_type": "execute_result"
    }
   ],
   "source": [
    "array = [[1,2,3,4],[5,6,7,8],[9,10,11,12],[13,14,15,16]]\n",
    "[[findEleSortedMat(array, array[x][y]) for y in range(len(array[x]))] for x in range(len(array))]"
   ]
  },
  {
   "cell_type": "code",
   "execution_count": 8,
   "metadata": {
    "collapsed": true
   },
   "outputs": [],
   "source": [
    "a = [(1,500), (65, 100), (70, 150), (56, 90), (75, 190), (60, 95), (68, 110), (69,100)]"
   ]
  },
  {
   "cell_type": "code",
   "execution_count": 14,
   "metadata": {},
   "outputs": [
    {
     "data": {
      "text/plain": [
       "0.7847000000000002"
      ]
     },
     "execution_count": 14,
     "metadata": {},
     "output_type": "execute_result"
    }
   ],
   "source": [
    "11.21*0.07"
   ]
  },
  {
   "cell_type": "code",
   "execution_count": 3,
   "metadata": {
    "collapsed": true
   },
   "outputs": [],
   "source": [
    "a = [(0,3), (1,1), (2,5), (3,6), (4,4), (5,9)]"
   ]
  },
  {
   "cell_type": "code",
   "execution_count": 9,
   "metadata": {
    "collapsed": true
   },
   "outputs": [],
   "source": [
    "def sortingTuples(tupleList):\n",
    "    tupleList = sorted(a)\n",
    "    print(tupleList)\n",
    "    # find longest increasing subsequence\n",
    "    myArray = [[tupleList[0][1]]]\n",
    "    for i in range(1, len(tupleList)):\n",
    "        val = tupleList[i][1]\n",
    "        if val >= myArray[-1][-1]:\n",
    "            myArray[-1].append(val)\n",
    "        else:\n",
    "            myArray = insertAt(myArray, val)\n",
    "            \n",
    "    return max(myArray, key = len)\n",
    "\n",
    "def insertAt(myArray, val):\n",
    "    for i in range(len(myArray[-1])):\n",
    "        if myArray[-1][i] > val:\n",
    "            myArray.append(myArray[-1][:i])\n",
    "            myArray[-1].append(val)\n",
    "            break\n",
    "    return myArray"
   ]
  },
  {
   "cell_type": "code",
   "execution_count": 10,
   "metadata": {
    "scrolled": true
   },
   "outputs": [
    {
     "name": "stdout",
     "output_type": "stream",
     "text": [
      "[(1, 500), (56, 90), (60, 95), (65, 100), (68, 110), (69, 100), (70, 150), (75, 190)]\n"
     ]
    },
    {
     "data": {
      "text/plain": [
       "[90, 95, 100, 100, 150, 190]"
      ]
     },
     "execution_count": 10,
     "metadata": {},
     "output_type": "execute_result"
    }
   ],
   "source": [
    "sortingTuples(a)"
   ]
  }
 ],
 "metadata": {
  "kernelspec": {
   "display_name": "Python 3",
   "language": "python",
   "name": "python3"
  },
  "language_info": {
   "codemirror_mode": {
    "name": "ipython",
    "version": 3
   },
   "file_extension": ".py",
   "mimetype": "text/x-python",
   "name": "python",
   "nbconvert_exporter": "python",
   "pygments_lexer": "ipython3",
   "version": "3.6.2"
  }
 },
 "nbformat": 4,
 "nbformat_minor": 2
}
