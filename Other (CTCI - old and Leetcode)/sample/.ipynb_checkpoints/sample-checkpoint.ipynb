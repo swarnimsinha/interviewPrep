{
 "cells": [
  {
   "cell_type": "code",
   "execution_count": 24,
   "metadata": {},
   "outputs": [],
   "source": [
    "# you can write to stdout for debugging purposes, e.g.\n",
    "# print(\"this is a debug message\")\n",
    "from collections import Counter\n",
    "def solution(L):\n",
    "    myArr = []\n",
    "    for val in L:\n",
    "        # split the email when we see the @\n",
    "        email = val.split('@')\n",
    "        local = email[1]\n",
    "        domain = email[0]\n",
    "        # replace the dots with nothing\n",
    "        domain = domain.replace('.','')\n",
    "        # discarding everything that comes after + in the domain\n",
    "        domain = domain.split('+')[0]\n",
    "        # save the local,domain as a tuple in an array\n",
    "        myArr.append((local,domain))\n",
    "    result = 0\n",
    "    # created a counter for the local,domain tuples\n",
    "    for val in Counter(myArr).values():\n",
    "        # whenever the number of tuples > 1\n",
    "        # increment result\n",
    "        if val > 1:\n",
    "            result += 1\n",
    "    return result"
   ]
  },
  {
   "cell_type": "code",
   "execution_count": 25,
   "metadata": {},
   "outputs": [
    {
     "data": {
      "text/plain": [
       "2"
      ]
     },
     "execution_count": 25,
     "metadata": {},
     "output_type": "execute_result"
    }
   ],
   "source": [
    "solution(mylist)"
   ]
  },
  {
   "cell_type": "code",
   "execution_count": 22,
   "metadata": {
    "collapsed": true
   },
   "outputs": [],
   "source": [
    "mylist = ['a.b@example.com', 'x@example.com', 'x@exa.mple.com', 'ab+1@example.com', 'y@example.com', 'y@example.com', 'y@example.com']"
   ]
  },
  {
   "cell_type": "code",
   "execution_count": 15,
   "metadata": {},
   "outputs": [
    {
     "data": {
      "text/plain": [
       "1"
      ]
     },
     "execution_count": 15,
     "metadata": {},
     "output_type": "execute_result"
    }
   ],
   "source": [
    "mylist = [\"a.b@example.com\", \"x@example.com\", \"x@exa.m.ple.com\", \"y@example.com\", \"y@example.com\", \"y+1@example.com\"]\n",
    "solution(mylist)"
   ]
  },
  {
   "cell_type": "code",
   "execution_count": 143,
   "metadata": {},
   "outputs": [
    {
     "data": {
      "text/plain": [
       "7"
      ]
     },
     "execution_count": 143,
     "metadata": {},
     "output_type": "execute_result"
    }
   ],
   "source": [
    "# you can write to stdout for debugging purposes, e.g.\n",
    "# print(\"this is a debug message\")\n",
    "\n",
    "def solution(A):\n",
    "    # write your code in Python 3.6\n",
    "    if len(A) < 3:\n",
    "        # if length is less than 3,\n",
    "        # all the fruits can be collected\n",
    "        return len(A)\n",
    "    result = []\n",
    "    count = 1\n",
    "    for i in range(1, len(A)):\n",
    "        if A[i] == A[i-1]:\n",
    "            count += 1\n",
    "        else:\n",
    "            result.append((A[i-1],count))\n",
    "            count = 1\n",
    "    result.append((A[i],count))\n",
    "    # result is a list which contains the tuple in the form\n",
    "    # number, number of times the same tree appeared right next to it\n",
    "    # for example if list is [1,1,1,2,2]\n",
    "    # result will have [(1,3),(2,2)]\n",
    "    \n",
    "    # current is a tuple which contains the numbers of two trees that are side by side\n",
    "    current = (result[0][0], result[1][0])\n",
    "    # final saves the number of fruits that can be picked\n",
    "    final = [result[0][1]]\n",
    "    \n",
    "    # starting from the 1st index,\n",
    "    for i in range(1, len(result)):\n",
    "        # if the number is in current,\n",
    "        if result[i][0] in current:\n",
    "            # add the number of times it appeared to final\n",
    "            final[-1] += result[i][1]\n",
    "        else:\n",
    "            # make current to the current tree and the tree before\n",
    "            current = (result[i-1][0], result[i][0])\n",
    "            # append the sum to final\n",
    "            final.append(result[i-1][1] + result[i][1])\n",
    "    # return the maximum value of the final\n",
    "    return max(final)\n",
    "    \n",
    "solution([1,1,1,2,2,1,1,8,8,2,3,1,1,1])"
   ]
  },
  {
   "cell_type": "code",
   "execution_count": 126,
   "metadata": {},
   "outputs": [
    {
     "name": "stdout",
     "output_type": "stream",
     "text": [
      "[1, 2]\n",
      "[1, 2]\n",
      "[1, 2]\n",
      "[2, 2]\n"
     ]
    },
    {
     "data": {
      "text/plain": [
       "[18, 5, 4]"
      ]
     },
     "execution_count": 126,
     "metadata": {},
     "output_type": "execute_result"
    }
   ],
   "source": []
  }
 ],
 "metadata": {
  "kernelspec": {
   "display_name": "Python 3",
   "language": "python",
   "name": "python3"
  },
  "language_info": {
   "codemirror_mode": {
    "name": "ipython",
    "version": 3
   },
   "file_extension": ".py",
   "mimetype": "text/x-python",
   "name": "python",
   "nbconvert_exporter": "python",
   "pygments_lexer": "ipython3",
   "version": "3.6.2"
  }
 },
 "nbformat": 4,
 "nbformat_minor": 2
}
