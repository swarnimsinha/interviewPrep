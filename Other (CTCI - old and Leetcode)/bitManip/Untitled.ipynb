{
 "cells": [
  {
   "cell_type": "code",
   "execution_count": 40,
   "metadata": {},
   "outputs": [],
   "source": [
    "# you can write to stdout for debugging purposes, e.g.\n",
    "# print(\"this is a debug message\")\n",
    "\n",
    "def solution(S, K):\n",
    "    # write your code in Python 3.6\n",
    "    S = S.upper()\n",
    "    strArray = ''.join(x for x in S.split('-'))\n",
    "#     print(len(strArray))\n",
    "    result = strArray\n",
    "    for i in range(len(strArray) - K,0, -K):\n",
    "        result = result[:i] + '-' + result[i:]\n",
    "        # result += strArray[i:i+K]\n",
    "    return ''.join(x for x in result)"
   ]
  },
  {
   "cell_type": "code",
   "execution_count": 41,
   "metadata": {},
   "outputs": [
    {
     "name": "stdout",
     "output_type": "stream",
     "text": [
      "24A0-R74K\n",
      "4 None\n"
     ]
    },
    {
     "data": {
      "text/plain": [
       "'24A0-R74K'"
      ]
     },
     "execution_count": 41,
     "metadata": {},
     "output_type": "execute_result"
    }
   ],
   "source": [
    "solution('2-4A0r7-4k', 4)"
   ]
  }
 ],
 "metadata": {
  "kernelspec": {
   "display_name": "Python 3",
   "language": "python",
   "name": "python3"
  },
  "language_info": {
   "codemirror_mode": {
    "name": "ipython",
    "version": 3
   },
   "file_extension": ".py",
   "mimetype": "text/x-python",
   "name": "python",
   "nbconvert_exporter": "python",
   "pygments_lexer": "ipython3",
   "version": "3.6.2"
  }
 },
 "nbformat": 4,
 "nbformat_minor": 2
}
