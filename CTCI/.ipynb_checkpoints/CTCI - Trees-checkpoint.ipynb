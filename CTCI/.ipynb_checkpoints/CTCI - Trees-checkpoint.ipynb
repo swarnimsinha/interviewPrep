{
 "cells": [
  {
   "cell_type": "code",
   "execution_count": 1,
   "metadata": {
    "collapsed": true
   },
   "outputs": [],
   "source": [
    "class Node():\n",
    "    def __init__(self,val):\n",
    "        self.val = val\n",
    "        self.left = None\n",
    "        self.right = None\n",
    "\n",
    "class BST():\n",
    "    def __init__(self):\n",
    "        self.root = None\n",
    "        \n",
    "    def insert(self,val):\n",
    "        if self.root is None:\n",
    "            self.root = Node(val)\n",
    "        else:\n",
    "            self._insert(self.root, val)\n",
    "    \n",
    "    def _insert(self,node,val):\n",
    "        if node.val >= val:\n",
    "            if node.left is None:\n",
    "                node.left = Node(val)\n",
    "            else:\n",
    "                self._insert(node.left, val)\n",
    "        else:\n",
    "            if node.right is None:\n",
    "                node.right = Node(val)\n",
    "            else:\n",
    "                self._insert(node.right, val)\n",
    "    \n",
    "    def inorder(self, node):\n",
    "        if node is not None:\n",
    "            self.inorder(node.left)\n",
    "            print(node.val)\n",
    "            self.inorder(node.right)"
   ]
  },
  {
   "cell_type": "code",
   "execution_count": 2,
   "metadata": {},
   "outputs": [
    {
     "name": "stdout",
     "output_type": "stream",
     "text": [
      "1\n",
      "3\n",
      "5\n",
      "7\n",
      "9\n"
     ]
    }
   ],
   "source": [
    "tree = BST()\n",
    "tree.insert(5)\n",
    "tree.insert(3)\n",
    "tree.insert(7)\n",
    "tree.insert(1)\n",
    "tree.insert(9)\n",
    "tree.inorder(tree.root)"
   ]
  },
  {
   "cell_type": "code",
   "execution_count": 3,
   "metadata": {},
   "outputs": [
    {
     "data": {
      "text/plain": [
       "[None, None, None, None, None, None]"
      ]
     },
     "execution_count": 3,
     "metadata": {},
     "output_type": "execute_result"
    }
   ],
   "source": [
    "tree2 = BST()\n",
    "[tree2.insert(x) for x in range(6)]"
   ]
  },
  {
   "cell_type": "markdown",
   "metadata": {},
   "source": [
    "#### Q1) Implement a function to check if a tree is balanced. For the purposes of this question, a balanced tree is defined to be a tree such that no two leaf nodes differ in distance from the root by more than one"
   ]
  },
  {
   "cell_type": "code",
   "execution_count": 4,
   "metadata": {
    "collapsed": true
   },
   "outputs": [],
   "source": [
    "def isBalanced(tree):\n",
    "    return (maxHeight(tree.root) - minHeight(tree.root) <= 1)\n",
    "\n",
    "def maxHeight(node):\n",
    "    if node is None:\n",
    "        return 0\n",
    "    return 1 + max(maxHeight(node.left), maxHeight(node.right))\n",
    "\n",
    "def minHeight(node):\n",
    "    if node is None:\n",
    "        return 0\n",
    "    return 1 + min(minHeight(node.left), minHeight(node.right))"
   ]
  },
  {
   "cell_type": "code",
   "execution_count": 5,
   "metadata": {},
   "outputs": [
    {
     "data": {
      "text/plain": [
       "False"
      ]
     },
     "execution_count": 5,
     "metadata": {},
     "output_type": "execute_result"
    }
   ],
   "source": [
    "isBalanced(tree2)"
   ]
  },
  {
   "cell_type": "markdown",
   "metadata": {},
   "source": [
    "#### Q2) Given a directed graph, design an algorithm to find out whether there is a route between two nodes"
   ]
  },
  {
   "cell_type": "code",
   "execution_count": 6,
   "metadata": {
    "collapsed": true
   },
   "outputs": [],
   "source": [
    "from collections import defaultdict\n",
    "class Graph():\n",
    "    def __init__(self):\n",
    "        self.nodes = defaultdict(set)\n",
    "        \n",
    "    def add(self,node1,node2):\n",
    "        self.nodes[node1].add(node2)\n",
    "    \n",
    "    def remove(self,node):\n",
    "        self.nodes.pop(node, None)\n",
    "        for key in self.nodes:\n",
    "            if node in self.nodes[key]:\n",
    "                self.nodes[key].remove(node)\n",
    "\n",
    "    def isConnected(self,node1,node2):\n",
    "        if node1 in self.nodes:\n",
    "            return node2 in self.nodes[node1]\n",
    "        return False"
   ]
  },
  {
   "cell_type": "code",
   "execution_count": 7,
   "metadata": {},
   "outputs": [
    {
     "data": {
      "text/plain": [
       "defaultdict(set, {1: {2, 4}, 2: {3}})"
      ]
     },
     "execution_count": 7,
     "metadata": {},
     "output_type": "execute_result"
    }
   ],
   "source": [
    "myGraph = Graph()\n",
    "myGraph.add(1,2)\n",
    "myGraph.add(2,3)\n",
    "myGraph.add(1,4)\n",
    "myGraph.nodes"
   ]
  },
  {
   "cell_type": "code",
   "execution_count": 8,
   "metadata": {
    "scrolled": false
   },
   "outputs": [
    {
     "name": "stdout",
     "output_type": "stream",
     "text": [
      "False 1 1\n",
      "True 1 2\n",
      "False 1 3\n",
      "True 1 4\n",
      "False 2 1\n",
      "False 2 2\n",
      "True 2 3\n",
      "False 2 4\n",
      "False 3 1\n",
      "False 3 2\n",
      "False 3 3\n",
      "False 3 4\n",
      "False 4 1\n",
      "False 4 2\n",
      "False 4 3\n",
      "False 4 4\n"
     ]
    },
    {
     "data": {
      "text/plain": [
       "[None,\n",
       " None,\n",
       " None,\n",
       " None,\n",
       " None,\n",
       " None,\n",
       " None,\n",
       " None,\n",
       " None,\n",
       " None,\n",
       " None,\n",
       " None,\n",
       " None,\n",
       " None,\n",
       " None,\n",
       " None]"
      ]
     },
     "execution_count": 8,
     "metadata": {},
     "output_type": "execute_result"
    }
   ],
   "source": [
    "[print(myGraph.isConnected(x,y),x,y) for x in range(1,5) for y in range(1,5)]"
   ]
  },
  {
   "cell_type": "markdown",
   "metadata": {},
   "source": [
    "#### Q3) Given a sorted (increasing order) array, write an algorithm to create a binary tree with minimal height"
   ]
  },
  {
   "cell_type": "code",
   "execution_count": 9,
   "metadata": {
    "collapsed": true
   },
   "outputs": [],
   "source": [
    "def createMinimal(array):\n",
    "    return createMinimalHelper(array,0,len(array)-1)\n",
    "\n",
    "def createMinimalHelper(array,start,end):\n",
    "    if end < start:\n",
    "        return\n",
    "    mid = (start+end)//2\n",
    "    node = Node(array[mid])\n",
    "    node.left = createMinimalHelper(array,start,mid-1)\n",
    "    node.right = createMinimalHelper(array,mid+1,end)\n",
    "    return node"
   ]
  },
  {
   "cell_type": "code",
   "execution_count": 10,
   "metadata": {
    "collapsed": true
   },
   "outputs": [],
   "source": [
    "a = createMinimal([1,2,3,4,5])"
   ]
  },
  {
   "cell_type": "markdown",
   "metadata": {},
   "source": [
    "#### Q4) Given a binary search tree, design an algorithm which creates a linked list of all the nodes at each depth (i.e. if you have a tree with depth D, you’ll have D linked list"
   ]
  },
  {
   "cell_type": "code",
   "execution_count": 11,
   "metadata": {
    "collapsed": true
   },
   "outputs": [],
   "source": [
    "# idea is to do a BFS and create a linked list at each breadth - save the items in a list maybe and then create a LL"
   ]
  },
  {
   "cell_type": "code",
   "execution_count": 12,
   "metadata": {
    "collapsed": true
   },
   "outputs": [],
   "source": [
    "class linkedNode():\n",
    "    def __init__(self,val):\n",
    "        self.val = val\n",
    "        self.next = None\n",
    "\n",
    "class linkedList():\n",
    "    def __init__(self):\n",
    "        self.head = None\n",
    "    \n",
    "    def insert(self, val):\n",
    "        if self.head is None:\n",
    "            self.head = linkedNode(val)\n",
    "        else:\n",
    "            self._insert(self.head,val)\n",
    "            \n",
    "    def _insert(self,node,val):\n",
    "        while node.next is not None:\n",
    "            node = node.next\n",
    "        node.next = linkedNode(val)\n",
    "        \n",
    "    def __repr__(self):\n",
    "        node = self.head\n",
    "        values = []\n",
    "        while node is not None:\n",
    "            values.append(node.val)\n",
    "            node = node.next\n",
    "        return ' '.join(str(x) for x in values)"
   ]
  },
  {
   "cell_type": "code",
   "execution_count": 13,
   "metadata": {
    "scrolled": true
   },
   "outputs": [
    {
     "name": "stdout",
     "output_type": "stream",
     "text": [
      "0 1 2 3 4\n"
     ]
    }
   ],
   "source": [
    "# testing the linked list\n",
    "ll = linkedList()\n",
    "[ll.insert(x) for x in range(5)]\n",
    "print(ll)"
   ]
  },
  {
   "cell_type": "code",
   "execution_count": 14,
   "metadata": {
    "collapsed": true
   },
   "outputs": [],
   "source": [
    "from collections import deque\n",
    "def createLLfromBST(tree):\n",
    "    node = tree.root\n",
    "    if node is None:\n",
    "        return\n",
    "    queue = deque([])\n",
    "    inner = [node]\n",
    "    allLinkedLists = []\n",
    "    while True:\n",
    "        if len(queue) != 0:\n",
    "            current = queue.pop()\n",
    "            if current.left:\n",
    "                inner.append(current.left)\n",
    "            if current.right:\n",
    "                inner.append(current.right)\n",
    "        else:\n",
    "            if len(inner) == 0:\n",
    "                break\n",
    "            else:\n",
    "                queue = inner\n",
    "                a = linkedList()\n",
    "                for item in inner:\n",
    "                    a.insert(item.val)\n",
    "                allLinkedLists.append(a)\n",
    "                inner = []\n",
    "    \n",
    "    return allLinkedLists"
   ]
  },
  {
   "cell_type": "code",
   "execution_count": 15,
   "metadata": {
    "collapsed": true
   },
   "outputs": [],
   "source": [
    "myTree = BST()\n",
    "myTree.insert(4)\n",
    "myTree.insert(2)\n",
    "myTree.insert(6)\n",
    "myTree.insert(1)\n",
    "myTree.insert(3)\n",
    "myTree.insert(5)\n",
    "myTree.insert(7)"
   ]
  },
  {
   "cell_type": "code",
   "execution_count": 16,
   "metadata": {},
   "outputs": [
    {
     "name": "stdout",
     "output_type": "stream",
     "text": [
      "4\n",
      "2 6\n",
      "5 7 1 3\n"
     ]
    }
   ],
   "source": [
    "[print(node) for node in createLLfromBST(myTree)];"
   ]
  },
  {
   "cell_type": "markdown",
   "metadata": {
    "collapsed": true
   },
   "source": [
    "#### Q5) Write an algorithm to find the ‘next’ node (i e, in-order successor) of a given node in a binary search tree where each node has a link to its parent"
   ]
  },
  {
   "cell_type": "code",
   "execution_count": null,
   "metadata": {
    "collapsed": true
   },
   "outputs": [],
   "source": []
  },
  {
   "cell_type": "markdown",
   "metadata": {},
   "source": [
    "#### Q6) Design an algorithm and write code to find the first common ancestor of two nodes in a binary tree Avoid storing additional nodes in a data structure NOTE: This is not necessarily a binary search tree"
   ]
  },
  {
   "cell_type": "code",
   "execution_count": 36,
   "metadata": {
    "collapsed": true
   },
   "outputs": [],
   "source": [
    "def lca(tree,node1,node2):\n",
    "    return lcaHelper(tree.root,node1,node2)\n",
    "\n",
    "def lcaHelper(root,node1,node2):\n",
    "    if root is None:\n",
    "        return root\n",
    "    if root.val == node1 or root.val == node2:\n",
    "        return root\n",
    "    \n",
    "    left = lcaHelper(root.left, node1, node2)\n",
    "    right = lcaHelper(root.right, node1, node2)\n",
    "    if left and right:\n",
    "        return root\n",
    "    return left if left is not None else right"
   ]
  },
  {
   "cell_type": "code",
   "execution_count": 43,
   "metadata": {
    "collapsed": true
   },
   "outputs": [],
   "source": [
    "def lca(tree,node1,node2):\n",
    "    return lcaHelper(tree.root,node1,node2)\n",
    "\n",
    "def lcaHelper(node,val1,val2):\n",
    "    if node is None:\n",
    "        return node\n",
    "    if node.val == val1 or node.val == val2:\n",
    "        return node\n",
    "    left = lcaHelper(node.left, val1, val2)\n",
    "    right = lcaHelper(node.right,val1,val2)\n",
    "    if left and right:\n",
    "        return node\n",
    "    return left if left is not None else right"
   ]
  },
  {
   "cell_type": "code",
   "execution_count": 44,
   "metadata": {},
   "outputs": [
    {
     "data": {
      "text/plain": [
       "1"
      ]
     },
     "execution_count": 44,
     "metadata": {},
     "output_type": "execute_result"
    }
   ],
   "source": [
    "lca(tree,2,1).val"
   ]
  },
  {
   "cell_type": "markdown",
   "metadata": {},
   "source": [
    "#### Q7) You  have  two  very  large  binary  trees: T1,  with  millions  of  nodes,  and T2,  with  hundreds of nodes. Create an algorithm to decide if T2 is a subtree of T1 "
   ]
  },
  {
   "cell_type": "code",
   "execution_count": 1,
   "metadata": {
    "collapsed": true
   },
   "outputs": [],
   "source": [
    "def isSubtree(tree1, tree2):\n",
    "    if tree2 is None:\n",
    "        return True\n",
    "    if tree1 is None:\n",
    "        return False\n",
    "    return isMatch(tree1.root,tree2.root)\n",
    "\n",
    "def isMatch(node1,node2):\n",
    "    if node2 is None:\n",
    "        return True\n",
    "    if node1 is None:\n",
    "        return False\n",
    "    if node1.val == node2.val:\n",
    "        if allMatch(node1,node2):\n",
    "            return True\n",
    "    return isMatch(node1.left, node2) or isMatch(node1.right, node2)\n",
    "\n",
    "def allMatch(node1,node2):\n",
    "    if node1 is None and node2 is None:\n",
    "        return True\n",
    "    if node1 is None or node2 is None:\n",
    "        return False\n",
    "    if node1.val != node2.val:\n",
    "        return False\n",
    "    if node1.val == node2.val:\n",
    "        return allMatch(node1.left,node2.left) and allMatch(node1.right,node2.right)"
   ]
  },
  {
   "cell_type": "code",
   "execution_count": 47,
   "metadata": {
    "collapsed": true
   },
   "outputs": [],
   "source": [
    "# if the second node is none initially, then it is a subtree\n",
    "# if the first node is None initally, then can't be a match\n",
    "# then find if there is a proper match b/w nodes of the trees\n",
    "def subTree(tree1,tree2):\n",
    "    if tree2 is None:\n",
    "        return True\n",
    "    if tree1 is None:\n",
    "        return False\n",
    "    return isMatch(tree1.root,tree2.root)\n",
    "\n",
    "def isMatch(node1,node2):\n",
    "    # isMatch - if the first node is empty - no subtree was found\n",
    "    if node1 is None:\n",
    "        return False\n",
    "    # if both the values are equal and subsequent matches for all elements are equal\n",
    "    # return true\n",
    "    if node1.val == node2.val:\n",
    "        if allMatch(node1,node2):\n",
    "            return True\n",
    "    # else iterate over the left and right subtree\n",
    "    return isMatch(node1.left,node2) or isMatch(node1.right,node2)\n",
    "\n",
    "def allMatch(node1,node2):\n",
    "    # if both none, traversal complete, subtree found\n",
    "    if node1 is None and node2 is None:\n",
    "        return True\n",
    "    # if any single is none, subtree not found\n",
    "    # can change node2 is None: true if we wish to include the leaf not necessarily being the leaf\n",
    "    if node1 is None or node2 is None:\n",
    "        return False\n",
    "    # if mismatch\n",
    "    if node1.val != node2.val:\n",
    "        return False\n",
    "    # iterate over left and right and return the and of these params\n",
    "    return allMatch(node1.left, node2.left) and allMatch(node2.right, node2.right)"
   ]
  },
  {
   "cell_type": "code",
   "execution_count": null,
   "metadata": {
    "collapsed": true
   },
   "outputs": [],
   "source": []
  }
 ],
 "metadata": {
  "kernelspec": {
   "display_name": "Python 3",
   "language": "python",
   "name": "python3"
  },
  "language_info": {
   "codemirror_mode": {
    "name": "ipython",
    "version": 3
   },
   "file_extension": ".py",
   "mimetype": "text/x-python",
   "name": "python",
   "nbconvert_exporter": "python",
   "pygments_lexer": "ipython3",
   "version": "3.6.2"
  }
 },
 "nbformat": 4,
 "nbformat_minor": 2
}
