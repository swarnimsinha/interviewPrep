{
 "cells": [
  {
   "cell_type": "code",
   "execution_count": 14,
   "metadata": {},
   "outputs": [
    {
     "data": {
      "text/plain": [
       "[0, 2, 4, 6, 8]"
      ]
     },
     "execution_count": 14,
     "metadata": {},
     "output_type": "execute_result"
    }
   ],
   "source": [
    "[ x << 1 for x in range(5)]"
   ]
  },
  {
   "cell_type": "code",
   "execution_count": 13,
   "metadata": {},
   "outputs": [
    {
     "data": {
      "text/plain": [
       "0"
      ]
     },
     "execution_count": 13,
     "metadata": {},
     "output_type": "execute_result"
    }
   ],
   "source": [
    "5 & 4 << 1"
   ]
  },
  {
   "cell_type": "markdown",
   "metadata": {},
   "source": [
    "#### Q1) Add two numbers without arithmetic"
   ]
  },
  {
   "cell_type": "code",
   "execution_count": 18,
   "metadata": {},
   "outputs": [
    {
     "data": {
      "text/plain": [
       "9"
      ]
     },
     "execution_count": 18,
     "metadata": {},
     "output_type": "execute_result"
    }
   ],
   "source": [
    "def addWithoutArith(x, y):\n",
    "    while y != 0:\n",
    "        carry = x & y\n",
    "        x = x ^ y\n",
    "        y = carry << 1\n",
    "    return x\n",
    "addWithoutArith(5, 4)"
   ]
  },
  {
   "cell_type": "markdown",
   "metadata": {},
   "source": [
    "#### Q2) Shuffle a pack of cards perfectly"
   ]
  },
  {
   "cell_type": "code",
   "execution_count": 175,
   "metadata": {},
   "outputs": [
    {
     "data": {
      "text/plain": [
       "'20 42 39 16 24 32 10 33 14 6 1 51 41 21 31 28 23 44 27 35 5 2 15 8 47 11 22 25 37 18 50 38 49 48 30 26 43 40 17 9 52 13 46 29 4 34 12 45 19 7 3 36'"
      ]
     },
     "execution_count": 175,
     "metadata": {},
     "output_type": "execute_result"
    }
   ],
   "source": [
    "import random\n",
    "def shuffleCards():\n",
    "    my_array = [x for x in range(1,53)]\n",
    "    for i in range(len(my_array)):\n",
    "        index = random.randint(0,51)\n",
    "        my_array[i], my_array[index] = my_array[index], my_array[i]\n",
    "    return ' '.join(str(x) for x in my_array)\n",
    "shuffleCards()"
   ]
  },
  {
   "cell_type": "markdown",
   "metadata": {},
   "source": [
    "#### Q3) Randomly pick elements from array"
   ]
  },
  {
   "cell_type": "code",
   "execution_count": 222,
   "metadata": {},
   "outputs": [
    {
     "data": {
      "text/plain": [
       "[3, 1, 2]"
      ]
     },
     "execution_count": 222,
     "metadata": {},
     "output_type": "execute_result"
    }
   ],
   "source": [
    "def randomPick(array, nTimes):\n",
    "    low = 0\n",
    "    ans = []\n",
    "    while low < nTimes:\n",
    "        randomValue = random.randint(low, len(array)-1)\n",
    "        array[low], array[randomValue] = array[randomValue], array[low]\n",
    "        ans.append(array[low])\n",
    "        low += 1\n",
    "    return ans\n",
    "\n",
    "randomPick([1,2,3,4,5], 3)"
   ]
  },
  {
   "cell_type": "markdown",
   "metadata": {},
   "source": [
    "#### Q4) Count number of 2's between 0 and n"
   ]
  },
  {
   "cell_type": "code",
   "execution_count": 232,
   "metadata": {},
   "outputs": [
    {
     "data": {
      "text/plain": [
       "6"
      ]
     },
     "execution_count": 232,
     "metadata": {},
     "output_type": "execute_result"
    }
   ],
   "source": [
    "def countTwos(n):\n",
    "    count = 0\n",
    "    for i in range(2,n+1):\n",
    "        while i > 0:\n",
    "            # if the single's digit is 2, add count\n",
    "            if i % 10 == 2:\n",
    "                count += 1\n",
    "            # took care of the single's digit, now divide by ten for the next\n",
    "            # significant bit\n",
    "            i = i // 10\n",
    "    return count\n",
    "countTwos(22)"
   ]
  },
  {
   "cell_type": "markdown",
   "metadata": {},
   "source": [
    "#### Q5) Find shorted distance between two words in a text file"
   ]
  },
  {
   "cell_type": "code",
   "execution_count": 256,
   "metadata": {
    "collapsed": true
   },
   "outputs": [],
   "source": [
    "def shortestDistance(text, a, b):\n",
    "    wordDict = {}\n",
    "    text = text.split(' ')\n",
    "    for key, word in enumerate(text):\n",
    "        if word not in wordDict:\n",
    "            wordDict[word] = []\n",
    "        wordDict[word].append(key)\n",
    "    left = wordDict[a]\n",
    "    right = wordDict[b]\n",
    "    print(wordDict)\n",
    "    x = 0; y = 0\n",
    "    minDist = float('inf')\n",
    "    while x < len(left) and y < len(right):\n",
    "        if abs(left[x] - right[y]) < minDist:\n",
    "            minDist = abs(left[x] - right[y])\n",
    "        if left[x] < right[y]:\n",
    "            x += 1\n",
    "        else:\n",
    "            y += 1\n",
    "    return minDist"
   ]
  },
  {
   "cell_type": "code",
   "execution_count": 257,
   "metadata": {},
   "outputs": [
    {
     "name": "stdout",
     "output_type": "stream",
     "text": [
      "{'one': [0, 6, 11], 'ring': [1, 7, 12], 'to': [2, 8, 13], 'rule': [3], 'them': [4, 15, 22], 'all;': [5], 'find': [9], 'them;': [10], 'bring': [14], 'all': [16], 'and': [17], 'in': [18], 'the': [19], 'darkness': [20], 'bind': [21]}\n"
     ]
    },
    {
     "data": {
      "text/plain": [
       "9"
      ]
     },
     "execution_count": 257,
     "metadata": {},
     "output_type": "execute_result"
    }
   ],
   "source": [
    "text = 'one ring to rule them all; one ring to find them; one ring to bring them all and in the darkness bind them'\n",
    "shortestDistance(text, 'ring', 'bind')"
   ]
  },
  {
   "cell_type": "markdown",
   "metadata": {},
   "source": [
    "#### Q6) Write a program to find the longest word made of other words in a list of words\n",
    "EXAMPLE: <br>\n",
    "Input: test, tester, testertest, testing, testingtester<br>\n",
    "Output: testingtester"
   ]
  },
  {
   "cell_type": "code",
   "execution_count": 279,
   "metadata": {},
   "outputs": [
    {
     "data": {
      "text/plain": [
       "['test', 'tester', 'string', 'teststring', 'testerstring']"
      ]
     },
     "execution_count": 279,
     "metadata": {},
     "output_type": "execute_result"
    }
   ],
   "source": [
    "a = ['test','tester','string','teststring', 'testerstring']\n",
    "sorted(a, key=len)"
   ]
  },
  {
   "cell_type": "code",
   "execution_count": 287,
   "metadata": {
    "collapsed": true
   },
   "outputs": [],
   "source": [
    "def longestWord(words):\n",
    "    # create a set of words (to remove duplicates)\n",
    "    words = set(words)\n",
    "    # convert the set into list and then sort it based on their length\n",
    "    # reverse the list\n",
    "    words = sorted(list(words), key=len)[::-1]\n",
    "    # idea is to find each pairing of words, in the set\n",
    "    # \n",
    "    for word in words:\n",
    "        for i in range(1, len(word)):\n",
    "            a, b = word[:i], word[i:]\n",
    "            if a in words and b in words:\n",
    "                return (a, b)\n",
    "    return -1"
   ]
  },
  {
   "cell_type": "code",
   "execution_count": 288,
   "metadata": {},
   "outputs": [
    {
     "data": {
      "text/plain": [
       "('tester', 'string')"
      ]
     },
     "execution_count": 288,
     "metadata": {},
     "output_type": "execute_result"
    }
   ],
   "source": [
    "longestWord(a)"
   ]
  },
  {
   "cell_type": "markdown",
   "metadata": {},
   "source": [
    "#### Q7) Given a string s and an array of smaller strings T, design a method to search s for each small string in T "
   ]
  },
  {
   "cell_type": "code",
   "execution_count": 357,
   "metadata": {
    "collapsed": true
   },
   "outputs": [],
   "source": [
    "def createTrie(array):\n",
    "    trie = {}\n",
    "    for word in array:\n",
    "        current = trie\n",
    "        for letter in word:\n",
    "            if letter not in current:\n",
    "                current[letter] = {}\n",
    "            current = current[letter]\n",
    "        current['_end'] = '_end'\n",
    "    return trie\n",
    "\n",
    "def isPresent(trie, word):\n",
    "    for letter in word:\n",
    "        if letter not in trie:\n",
    "            return False\n",
    "        trie = trie[letter]\n",
    "    if '_end' in trie:\n",
    "        return True\n",
    "    return False"
   ]
  },
  {
   "cell_type": "code",
   "execution_count": 402,
   "metadata": {
    "collapsed": true
   },
   "outputs": [],
   "source": [
    "def insertToTrie(trie, word):\n",
    "    current = trie\n",
    "    for letter in word:\n",
    "        if letter not in current:\n",
    "            current[letter] = {}\n",
    "        current = current[letter]\n",
    "    return current\n",
    "\n",
    "def singleTrie(string):\n",
    "    trie = {}\n",
    "    for i in range(len(string)):\n",
    "        insertToTrie(trie, string[i:])\n",
    "    return trie\n",
    "\n",
    "def isPresent(trie, word):\n",
    "    for letter in word:\n",
    "        if letter not in trie:\n",
    "            return False\n",
    "        trie = trie[letter]\n",
    "    return True"
   ]
  },
  {
   "cell_type": "code",
   "execution_count": 413,
   "metadata": {},
   "outputs": [
    {
     "data": {
      "text/plain": [
       "False"
      ]
     },
     "execution_count": 413,
     "metadata": {},
     "output_type": "execute_result"
    }
   ],
   "source": [
    "a = singleTrie('test')\n",
    "isPresent(a, 'et')"
   ]
  },
  {
   "cell_type": "code",
   "execution_count": 359,
   "metadata": {},
   "outputs": [],
   "source": [
    "myTrie = createTrie(['test', 'taste'])"
   ]
  },
  {
   "cell_type": "code",
   "execution_count": 364,
   "metadata": {},
   "outputs": [
    {
     "data": {
      "text/plain": [
       "True"
      ]
     },
     "execution_count": 364,
     "metadata": {},
     "output_type": "execute_result"
    }
   ],
   "source": [
    "isPresent(myTrie,'taste')"
   ]
  },
  {
   "cell_type": "code",
   "execution_count": null,
   "metadata": {
    "collapsed": true
   },
   "outputs": [],
   "source": [
    "def transform(word1, word2, words):\n",
    "    "
   ]
  }
 ],
 "metadata": {
  "kernelspec": {
   "display_name": "Python 3",
   "language": "python",
   "name": "python3"
  },
  "language_info": {
   "codemirror_mode": {
    "name": "ipython",
    "version": 3
   },
   "file_extension": ".py",
   "mimetype": "text/x-python",
   "name": "python",
   "nbconvert_exporter": "python",
   "pygments_lexer": "ipython3",
   "version": "3.6.2"
  }
 },
 "nbformat": 4,
 "nbformat_minor": 2
}
