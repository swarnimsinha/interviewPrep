{
 "cells": [
  {
   "cell_type": "code",
   "execution_count": 76,
   "metadata": {
    "collapsed": true
   },
   "outputs": [],
   "source": [
    "d = {'a':123, 'b':234}"
   ]
  },
  {
   "cell_type": "code",
   "execution_count": 77,
   "metadata": {},
   "outputs": [
    {
     "name": "stdout",
     "output_type": "stream",
     "text": [
      "a\n",
      "b\n"
     ]
    }
   ],
   "source": [
    "for val in sorted(d):\n",
    "    print(val)"
   ]
  },
  {
   "cell_type": "code",
   "execution_count": 97,
   "metadata": {
    "collapsed": true
   },
   "outputs": [],
   "source": [
    "def sortAnagrams(array):\n",
    "    arrayCounter = {}\n",
    "    for val in array:\n",
    "        sortedString = ''.join(x for x in sorted(val))\n",
    "        if sortedString not in arrayCounter:\n",
    "            arrayCounter[sortedString] = []\n",
    "        arrayCounter[sortedString].append(val)\n",
    "    finalAns = []\n",
    "    for val in sorted(arrayCounter):\n",
    "        finalAns.extend(sorted(arrayCounter[val]))\n",
    "    return finalAns"
   ]
  },
  {
   "cell_type": "code",
   "execution_count": 104,
   "metadata": {},
   "outputs": [
    {
     "data": {
      "text/plain": [
       "['race', 'care', 'stat', 'atst', 'test']"
      ]
     },
     "execution_count": 104,
     "metadata": {},
     "output_type": "execute_result"
    }
   ],
   "source": [
    "array = ['test', 'stat','atst', 'race', 'care']\n",
    "sorted(array, key=lambda x: sorted(x))"
   ]
  },
  {
   "cell_type": "code",
   "execution_count": 105,
   "metadata": {},
   "outputs": [
    {
     "data": {
      "text/plain": [
       "['care', 'race', 'atst', 'stat', 'test']"
      ]
     },
     "execution_count": 105,
     "metadata": {},
     "output_type": "execute_result"
    }
   ],
   "source": [
    "sortAnagrams(['test', 'stat','atst', 'race', 'care'])"
   ]
  },
  {
   "cell_type": "code",
   "execution_count": 106,
   "metadata": {
    "collapsed": true
   },
   "outputs": [],
   "source": [
    "def findInSparse(string, value):\n",
    "    left = 0; right = len(string) - 1\n",
    "    while left < right:\n",
    "        mid = (left + right) // 2\n",
    "        while string[mid] == \"\":\n",
    "            mid += 1\n",
    "        if string[mid] == value:\n",
    "            return mid\n",
    "        if string[mid] > value:\n",
    "            right = mid - 1\n",
    "        else:\n",
    "            left = mid + 1\n",
    "    return -1"
   ]
  },
  {
   "cell_type": "code",
   "execution_count": 111,
   "metadata": {},
   "outputs": [
    {
     "data": {
      "text/plain": [
       "-1"
      ]
     },
     "execution_count": 111,
     "metadata": {},
     "output_type": "execute_result"
    }
   ],
   "source": [
    "string = ['at', '', '', '', 'ball', '', 'car', '', 'test']\n",
    "findInSparse(string, 'chicken')"
   ]
  },
  {
   "cell_type": "code",
   "execution_count": 175,
   "metadata": {
    "collapsed": true
   },
   "outputs": [],
   "source": [
    "def rotatedSearch(array, val):\n",
    "    left = 0; right = len(array) - 1\n",
    "    while left <= right:\n",
    "        mid = (left + right) // 2\n",
    "#         print(mid,left,right)\n",
    "        if array[mid] == val:\n",
    "            return mid\n",
    "        if array[left] < array[mid]:\n",
    "            if array[left] <= val < array[mid]:\n",
    "                right = mid - 1\n",
    "            else:\n",
    "                left = mid + 1\n",
    "        else:\n",
    "            if array[right] >= val > array[mid]:\n",
    "                left = mid + 1\n",
    "            else:\n",
    "                right = mid - 1\n",
    "    return -1"
   ]
  },
  {
   "cell_type": "code",
   "execution_count": 177,
   "metadata": {},
   "outputs": [
    {
     "data": {
      "text/plain": [
       "[0, 1, 2, 3, 4, 5, 6, 7, 8, 9, 10]"
      ]
     },
     "execution_count": 177,
     "metadata": {},
     "output_type": "execute_result"
    }
   ],
   "source": [
    "array = [15, 16, 19, 20, 25, 1, 3, 4, 6, 9, 10]\n",
    "[rotatedSearch(array, x) for x in array]"
   ]
  },
  {
   "cell_type": "code",
   "execution_count": 186,
   "metadata": {},
   "outputs": [],
   "source": [
    "def findElement(array, value):\n",
    "    i,j = 0,len(array[0])-1\n",
    "    while 0 <= i < len(array) and 0 <= j < len(array[0]):\n",
    "        if value == array[i][j]:\n",
    "            return (i,j)\n",
    "        if value < array[i][j]:\n",
    "            j -= 1\n",
    "        else:\n",
    "            i += 1\n",
    "    return -1"
   ]
  },
  {
   "cell_type": "code",
   "execution_count": 188,
   "metadata": {},
   "outputs": [
    {
     "data": {
      "text/plain": [
       "[[(0, 0), (0, 1), (0, 2), (0, 3)],\n",
       " [(1, 0), (1, 1), (1, 2), (1, 3)],\n",
       " [(2, 0), (2, 1), (2, 2), (2, 3)],\n",
       " [(3, 0), (3, 1), (3, 2), (3, 3)]]"
      ]
     },
     "execution_count": 188,
     "metadata": {},
     "output_type": "execute_result"
    }
   ],
   "source": [
    "array = [[1,2,3,4],[5,6,7,8],[9,10,11,12],[13,14,15,16]]\n",
    "[[findElement(array, array[x][y]) for y in range(len(array[x]))] for x in range(len(array))]\n",
    "# findElement(array, 4)"
   ]
  },
  {
   "cell_type": "code",
   "execution_count": 197,
   "metadata": {},
   "outputs": [],
   "source": [
    "def circusPuzzle(tuples):\n",
    "    listTuples = sorted(tuples)\n",
    "    i = 1\n",
    "    dp = [1] * len(tuples)\n",
    "    while i < len(listTuples):\n",
    "        j = 0\n",
    "        while j < i:\n",
    "            if listTuples[i][1] >= listTuples[j][1]:\n",
    "                dp[i] = max(dp[i], dp[j]+1)\n",
    "            j += 1\n",
    "        i += 1\n",
    "    return dp"
   ]
  },
  {
   "cell_type": "code",
   "execution_count": 199,
   "metadata": {},
   "outputs": [
    {
     "data": {
      "text/plain": [
       "[1, 1, 2, 3, 4, 4, 5, 6]"
      ]
     },
     "execution_count": 199,
     "metadata": {},
     "output_type": "execute_result"
    }
   ],
   "source": [
    "a = [(1,500), (65, 100), (70, 150), (56, 90), (75, 190), (60, 95), (68, 110), (69,100)]\n",
    "# a = [(0,3), (1,1), (2,5), (3,6), (4,4), (5,9)]\n",
    "circusPuzzle(a)"
   ]
  },
  {
   "cell_type": "code",
   "execution_count": 200,
   "metadata": {
    "collapsed": true
   },
   "outputs": [],
   "source": [
    "def trailingZeros(n):\n",
    "    nTens = n//10\n",
    "    nTens *= 2\n",
    "    if n % 10 >= 5:\n",
    "        nTens += 1\n",
    "    return nTens"
   ]
  },
  {
   "cell_type": "code",
   "execution_count": 215,
   "metadata": {},
   "outputs": [
    {
     "data": {
      "text/plain": [
       "4"
      ]
     },
     "execution_count": 215,
     "metadata": {},
     "output_type": "execute_result"
    }
   ],
   "source": [
    "trailingZeros(24)"
   ]
  },
  {
   "cell_type": "code",
   "execution_count": 223,
   "metadata": {},
   "outputs": [
    {
     "data": {
      "text/plain": [
       "[2, -6, 3, 1, 5, 4]"
      ]
     },
     "execution_count": 223,
     "metadata": {},
     "output_type": "execute_result"
    }
   ],
   "source": [
    "def contiguousSum(array):\n",
    "    dp = array[:]\n",
    "    i = 1\n",
    "    while i < len(array):\n",
    "        j = 0\n",
    "        while j < i:\n",
    "            dp[i] = max(dp[i], array[i] + dp[i-1])\n",
    "            j += 1\n",
    "        i += 1\n",
    "    return dp\n",
    "a = [2, -8, 3, -2, 4, -1]\n",
    "contiguousSum(a)"
   ]
  },
  {
   "cell_type": "code",
   "execution_count": 240,
   "metadata": {
    "collapsed": true
   },
   "outputs": [],
   "source": [
    "def twoSum(array, value):\n",
    "    complimentSet = set()\n",
    "    ans = set()\n",
    "    for val in array:\n",
    "        if val in complimentSet:\n",
    "            ans.add((val, value - val))\n",
    "        else:\n",
    "            complimentSet.add(value - val)\n",
    "    return ans"
   ]
  },
  {
   "cell_type": "code",
   "execution_count": 241,
   "metadata": {},
   "outputs": [
    {
     "data": {
      "text/plain": [
       "{(4, 2), (5, 1)}"
      ]
     },
     "execution_count": 241,
     "metadata": {},
     "output_type": "execute_result"
    }
   ],
   "source": [
    "twoSum([1,2,3,4,5], 6)"
   ]
  }
 ],
 "metadata": {
  "kernelspec": {
   "display_name": "Python 3",
   "language": "python",
   "name": "python3"
  },
  "language_info": {
   "codemirror_mode": {
    "name": "ipython",
    "version": 3
   },
   "file_extension": ".py",
   "mimetype": "text/x-python",
   "name": "python",
   "nbconvert_exporter": "python",
   "pygments_lexer": "ipython3",
   "version": "3.6.2"
  }
 },
 "nbformat": 4,
 "nbformat_minor": 2
}
