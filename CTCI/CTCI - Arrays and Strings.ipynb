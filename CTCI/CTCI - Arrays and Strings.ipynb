{
 "cells": [
  {
   "cell_type": "markdown",
   "metadata": {},
   "source": [
    "#### Q1) Implement an algorithm to determine if a string has all unique characters What if you can not use additional data structures"
   ]
  },
  {
   "cell_type": "code",
   "execution_count": 11,
   "metadata": {},
   "outputs": [
    {
     "data": {
      "text/plain": [
       "True"
      ]
     },
     "execution_count": 11,
     "metadata": {},
     "output_type": "execute_result"
    }
   ],
   "source": [
    "def isUnique(string):\n",
    "    uniqueSet = set()\n",
    "    for char in string:\n",
    "        if char not in uniqueSet:\n",
    "            uniqueSet.add(char)\n",
    "        else:\n",
    "            return False\n",
    "    return True\n",
    "isUnique('Desktop')"
   ]
  },
  {
   "cell_type": "markdown",
   "metadata": {},
   "source": [
    "#### Q2) Write code to reverse a C-Style String (C-String means that “abcd” is represented as five characters, including the null character)"
   ]
  },
  {
   "cell_type": "code",
   "execution_count": 17,
   "metadata": {},
   "outputs": [
    {
     "data": {
      "text/plain": [
       "'tset'"
      ]
     },
     "execution_count": 17,
     "metadata": {},
     "output_type": "execute_result"
    }
   ],
   "source": [
    "def reverseString(string):\n",
    "    # using inbuilt system\n",
    "    return string[::-1] + '&nbsp'\n",
    "\n",
    "def reverseStringInPlace(string):\n",
    "    listStr = list(string)\n",
    "    n = len(string)\n",
    "    for i in range(n//2):\n",
    "        listStr[i], listStr[n-1-i] = listStr[n-1-i], listStr[i]\n",
    "    return ''.join(x for x in listStr)\n",
    "reverseStringInPlace('test')"
   ]
  },
  {
   "cell_type": "markdown",
   "metadata": {},
   "source": [
    "#### Q3) Design  an  algorithm  and  write  code  to  remove  the  duplicate  characters  in  a  string without using any additional buffer NOTE: One or two additional variables are fine An extra copy of the array is not."
   ]
  },
  {
   "cell_type": "code",
   "execution_count": 42,
   "metadata": {},
   "outputs": [
    {
     "data": {
      "text/plain": [
       "'abcdef'"
      ]
     },
     "execution_count": 42,
     "metadata": {},
     "output_type": "execute_result"
    }
   ],
   "source": [
    "def removeDuplicate(string):\n",
    "    string = list(string)\n",
    "    for i in range(len(string)-2):\n",
    "        j = i+1\n",
    "        while j < len(string):\n",
    "            if string[i] == string[j]:\n",
    "                string.pop(j)\n",
    "                j -= 1\n",
    "            j += 1\n",
    "    return ''.join(x for x in string)\n",
    "removeDuplicate('abcdeabcf')"
   ]
  },
  {
   "cell_type": "markdown",
   "metadata": {},
   "source": [
    "#### Q4) Write a method to decide if two strings are anagrams or not"
   ]
  },
  {
   "cell_type": "code",
   "execution_count": 50,
   "metadata": {},
   "outputs": [
    {
     "data": {
      "text/plain": [
       "True"
      ]
     },
     "execution_count": 50,
     "metadata": {},
     "output_type": "execute_result"
    }
   ],
   "source": [
    "from collections import Counter\n",
    "def isAnagram(string1, string2):\n",
    "#     return Counter(string1) == Counter(string2)\n",
    "    return customCounter(string1) == customCounter(string2)\n",
    "isAnagram('dogs','gods')"
   ]
  },
  {
   "cell_type": "code",
   "execution_count": 51,
   "metadata": {
    "collapsed": true
   },
   "outputs": [],
   "source": [
    "# self implemented Counter\n",
    "def customCounter(string):\n",
    "    strCounter = {}\n",
    "    for char in string:\n",
    "        if char in strCounter:\n",
    "            strCounter[char] += 1\n",
    "        else:\n",
    "            strCounter[char] = 1\n",
    "    return strCounter"
   ]
  },
  {
   "cell_type": "code",
   "execution_count": 60,
   "metadata": {
    "collapsed": true
   },
   "outputs": [],
   "source": [
    "def replaceSpaces(string):\n",
    "    # using inbuilt replace\n",
    "    # yay for python\n",
    "    return string.replace(' ','%20')\n",
    "\n",
    "def customReplace(string):\n",
    "    key = 0\n",
    "    while key < len(string)-1:\n",
    "        if string[key] == ' ':\n",
    "            string = string[:key] + '%20' + string[key+1:]\n",
    "        key += 1\n",
    "    return string"
   ]
  },
  {
   "cell_type": "code",
   "execution_count": 62,
   "metadata": {},
   "outputs": [
    {
     "data": {
      "text/plain": [
       "'this%20is%20a%20string'"
      ]
     },
     "execution_count": 62,
     "metadata": {},
     "output_type": "execute_result"
    }
   ],
   "source": [
    "customReplace('this is a string')"
   ]
  },
  {
   "cell_type": "markdown",
   "metadata": {},
   "source": [
    "#### Q5) Given  an  image  represented  by  an  NxN  matrix,  where  each  pixel  in  the  image  is  4 bytes, write a method to rotate the image by 90 degrees Can you do this in place"
   ]
  },
  {
   "cell_type": "code",
   "execution_count": 64,
   "metadata": {
    "collapsed": true
   },
   "outputs": [],
   "source": [
    "def rotateImage(image):\n",
    "    pass"
   ]
  },
  {
   "cell_type": "markdown",
   "metadata": {},
   "source": [
    "#### Q6) Write an algorithm such that if an element in an MxN matrix is 0, its entire row and column is set to 0 "
   ]
  },
  {
   "cell_type": "code",
   "execution_count": 77,
   "metadata": {},
   "outputs": [
    {
     "data": {
      "text/plain": [
       "[[1, 0, 3, 4],\n",
       " [0, 0, 0, 0],\n",
       " [1, 0, 3, 4],\n",
       " [1, 0, 3, 4],\n",
       " [1, 0, 3, 4],\n",
       " [1, 0, 3, 4]]"
      ]
     },
     "execution_count": 77,
     "metadata": {},
     "output_type": "execute_result"
    }
   ],
   "source": [
    "def rowColumnZero(array):\n",
    "    rowIndex = []\n",
    "    colIndex = []\n",
    "    for i in range(len(array)):\n",
    "        for j in range(len(array[0])):\n",
    "            if array[i][j] == 0:\n",
    "                rowIndex.append(i)\n",
    "                colIndex.append(j)\n",
    "    for i in range(len(array)):\n",
    "        if i in rowIndex:\n",
    "            array[i] = [0] * len(array[0])\n",
    "        for j in range(len(array[0])):\n",
    "            if j in colIndex:\n",
    "                array[i][j] = 0\n",
    "    return array\n",
    "\n",
    "myArray = [[i for i in range(1,5)] for j in range(1,7)]\n",
    "myArray[1][1] = 0\n",
    "rowColumnZero(myArray)"
   ]
  },
  {
   "cell_type": "markdown",
   "metadata": {},
   "source": [
    "#### Q7) Assume  you  have  a  method  isSubstring  which  checks  if  one  word  is  a  substring  of another Given two strings, s1 and s2, write code to check if s2 is a rotation of s1 using only one call to isSubstring (i e, “waterbottle” is a rotation of “erbottlewat”"
   ]
  },
  {
   "cell_type": "code",
   "execution_count": 82,
   "metadata": {},
   "outputs": [
    {
     "data": {
      "text/plain": [
       "True"
      ]
     },
     "execution_count": 82,
     "metadata": {},
     "output_type": "execute_result"
    }
   ],
   "source": [
    "def isSubstring(string1,string2):\n",
    "    return string2 in string1+string1\n",
    "isSubstring('waterbottle','erbottlewat')"
   ]
  }
 ],
 "metadata": {
  "kernelspec": {
   "display_name": "Python 3",
   "language": "python",
   "name": "python3"
  },
  "language_info": {
   "codemirror_mode": {
    "name": "ipython",
    "version": 3
   },
   "file_extension": ".py",
   "mimetype": "text/x-python",
   "name": "python",
   "nbconvert_exporter": "python",
   "pygments_lexer": "ipython3",
   "version": "3.6.2"
  }
 },
 "nbformat": 4,
 "nbformat_minor": 2
}
